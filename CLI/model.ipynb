{
 "cells": [
  {
   "cell_type": "markdown",
   "metadata": {},
   "source": [
    "<td>\n",
    "   <a target=\"_blank\" href=\"https://www.clarifai.com/\" ><img src=\"https://upload.wikimedia.org/wikipedia/commons/b/bc/Clarifai_Logo_FC_Web.png\" width=256/></a>\n",
    "</td>"
   ]
  },
  {
   "cell_type": "markdown",
   "metadata": {},
   "source": [
    "<td>\n",
    "<a href=\"https://colab.research.google.com/github/Clarifai/examples/blob/main/CLI/model.ipynb\" target=\"_blank\"><img\n",
    "src=\"https://colab.research.google.com/assets/colab-badge.svg\" alt=\"Colab\"></a>\n",
    "</td>"
   ]
  },
  {
   "cell_type": "markdown",
   "metadata": {},
   "source": [
    "# Introduction"
   ]
  },
  {
   "cell_type": "markdown",
   "metadata": {},
   "source": [
    "Our longterm goal for the Clarifai platform is to enable users to deploy any model, on any compute, at any scale. We currently support serverless or fully self-managed deployments and only support Nvidia GPUs through Nvidia Triton. \n",
    "\n",
    "With compute orchestration, we aim to evolve our inference stack to be efficient and generalized to support any compute, regardless of hardware provider or deployment model."
   ]
  },
  {
   "cell_type": "markdown",
   "metadata": {},
   "source": [
    "## Installation and Setup"
   ]
  },
  {
   "cell_type": "code",
   "execution_count": null,
   "metadata": {},
   "outputs": [],
   "source": [
    "!pip install clarifai"
   ]
  },
  {
   "cell_type": "markdown",
   "metadata": {},
   "source": [
    "### For Colab\n",
    "\n",
    "To access config yamls from examples repo, you can clone the repo"
   ]
  },
  {
   "cell_type": "code",
   "execution_count": null,
   "metadata": {},
   "outputs": [],
   "source": [
    "!git clone https://github.com/Clarifai/examples.git\n",
    "%cd /content/examples/"
   ]
  },
  {
   "cell_type": "markdown",
   "metadata": {},
   "source": [
    "## Basics"
   ]
  },
  {
   "cell_type": "code",
   "execution_count": null,
   "metadata": {},
   "outputs": [
    {
     "name": "stdout",
     "output_type": "stream",
     "text": [
      "Usage: clarifai [OPTIONS] COMMAND [ARGS]...\n",
      "\n",
      "  Clarifai CLI\n",
      "\n",
      "Options:\n",
      "  --help  Show this message and exit.\n",
      "\n",
      "Commands:\n",
      "  cc              Alias for 'computecluster'\n",
      "  computecluster  Manage Compute Clusters: create, delete, list\n",
      "  deployment      Manage Deployments: create, delete, list\n",
      "  dpl             Alias for 'deployment'\n",
      "  login           Login command to set PAT and other configurations.\n",
      "  model           Manage models: upload, test locally\n",
      "  nodepool        Manage Nodepools: create, delete, list\n",
      "  np              Alias for 'nodepool'\n"
     ]
    }
   ],
   "source": [
    "%%bash\n",
    "clarifai --help"
   ]
  },
  {
   "cell_type": "markdown",
   "metadata": {},
   "source": [
    "### Login"
   ]
  },
  {
   "cell_type": "code",
   "execution_count": null,
   "metadata": {},
   "outputs": [
    {
     "name": "stdout",
     "output_type": "stream",
     "text": [
      "Usage: clarifai login [OPTIONS]\n",
      "\n",
      "  Login command to set PAT and other configurations.\n",
      "\n",
      "Options:\n",
      "  --config PATH                 Path to the config file\n",
      "  -e, --env [prod|staging|dev]  Environment to use, choose from prod, staging\n",
      "                                and dev\n",
      "  --user_id TEXT                User ID\n",
      "  --help                        Show this message and exit.\n"
     ]
    }
   ],
   "source": [
    "%%bash\n",
    "clarifai login --help"
   ]
  },
  {
   "cell_type": "code",
   "execution_count": null,
   "metadata": {},
   "outputs": [
    {
     "name": "stdout",
     "output_type": "stream",
     "text": [
      "Loaded PAT from config file.\n"
     ]
    }
   ],
   "source": [
    "%%bash\n",
    "clarifai login --config CLI/configs/login_config.yaml"
   ]
  },
  {
   "cell_type": "markdown",
   "metadata": {},
   "source": [
    "## Model Operations"
   ]
  },
  {
   "cell_type": "code",
   "execution_count": 6,
   "metadata": {},
   "outputs": [
    {
     "name": "stdout",
     "output_type": "stream",
     "text": [
      "Usage: clarifai model [OPTIONS] COMMAND [ARGS]...\n",
      "\n",
      "  Manage models: upload, test locally, run_locally, predict\n",
      "\n",
      "Options:\n",
      "  --help  Show this message and exit.\n",
      "\n",
      "Commands:\n",
      "  predict       Predict using the given model\n",
      "  run-locally   Run the model locally and start a gRPC server to serve...\n",
      "  test-locally  Test model locally.\n",
      "  upload        Upload a model to Clarifai.\n"
     ]
    }
   ],
   "source": [
    "%%bash\n",
    "clarifai model --help"
   ]
  },
  {
   "cell_type": "markdown",
   "metadata": {},
   "source": [
    "### Model Predict"
   ]
  },
  {
   "cell_type": "markdown",
   "metadata": {},
   "source": [
    "We can get Model predictions using Clarifai CLI by providing `user_id`, `app_id` and `model_id` or by providing `model URL` or also a yaml config"
   ]
  },
  {
   "cell_type": "code",
   "execution_count": 7,
   "metadata": {},
   "outputs": [
    {
     "name": "stdout",
     "output_type": "stream",
     "text": [
      "Usage: clarifai model predict [OPTIONS]\n",
      "\n",
      "  Predict using the given model\n",
      "\n",
      "Options:\n",
      "  --config PATH                   Path to the model predict config file.\n",
      "  --model_id TEXT                 Model ID of the model used to predict.\n",
      "  --user_id TEXT                  User ID of the model used to predict.\n",
      "  --app_id TEXT                   App ID of the model used to predict.\n",
      "  --model_url TEXT                Model URL of the model used to predict.\n",
      "  --file_path TEXT                File path of file for the model to predict\n",
      "  --url TEXT                      URL to the file for the model to predict\n",
      "  --bytes TEXT                    Bytes to the file for the model to predict\n",
      "  --input_id TEXT                 Existing input id in the app for the model\n",
      "                                  to predict\n",
      "  --input_type TEXT               Type of input\n",
      "  -cc_id, --compute_cluster_id TEXT\n",
      "                                  Compute Cluster ID to use for the model\n",
      "  -np_id, --nodepool_id TEXT      Nodepool ID to use for the model\n",
      "  -dpl_id, --deployment_id TEXT   Deployment ID to use for the model\n",
      "  --inference_params TEXT         Inference parameters to override\n",
      "  --output_config TEXT            Output config to override\n",
      "  --help                          Show this message and exit.\n"
     ]
    }
   ],
   "source": [
    "%%bash\n",
    "clarifai model predict --help"
   ]
  },
  {
   "cell_type": "code",
   "execution_count": 9,
   "metadata": {},
   "outputs": [
    {
     "name": "stdout",
     "output_type": "stream",
     "text": [
      "status {\n",
      "  code: SUCCESS\n",
      "  description: \"Ok\"\n",
      "  req_id: \"sdk-python-10.11.1-b0536ef2910948d88691b18ed34842df\"\n",
      "}\n",
      "outputs {\n",
      "  id: \"fa90002a211249b08557a91a75e76133\"\n",
      "  status {\n",
      "    code: SUCCESS\n",
      "    description: \"Ok\"\n",
      "  }\n",
      "  created_at {\n",
      "    seconds: 1734691735\n",
      "    nanos: 257698147\n",
      "  }\n",
      "  model {\n",
      "    id: \"claude-v2\"\n",
      "    name: \"claude-v2\"\n",
      "    created_at {\n",
      "      seconds: 1689360584\n",
      "      nanos: 718730000\n",
      "    }\n",
      "    app_id: \"completion\"\n",
      "    model_version {\n",
      "      id: \"f39db57922eb48188cf41a26660aaf74\"\n",
      "      created_at {\n",
      "        seconds: 1706762592\n",
      "        nanos: 463521000\n",
      "      }\n",
      "      status {\n",
      "        code: MODEL_TRAINED\n",
      "        description: \"Model is trained and ready\"\n",
      "      }\n",
      "      completed_at {\n",
      "        seconds: 1706762763\n",
      "        nanos: 246861000\n",
      "      }\n",
      "      visibility {\n",
      "        gettable: PUBLIC\n",
      "      }\n",
      "      app_id: \"completion\"\n",
      "      user_id: \"anthropic\"\n",
      "      metadata {\n",
      "      }\n",
      "    }\n",
      "    user_id: \"anthropic\"\n",
      "    model_type_id: \"text-to-text\"\n",
      "    visibility {\n",
      "      gettable: PUBLIC\n",
      "    }\n",
      "    modified_at {\n",
      "      seconds: 1729160329\n",
      "      nanos: 739032000\n",
      "    }\n",
      "    workflow_recommended {\n",
      "    }\n",
      "    image {\n",
      "      url: \"https://data.clarifai.com/large/users/anthropic/apps/completion/inputs/image/b9d666a9e16a31c8bbbf6da89cceb804\"\n",
      "      hosted {\n",
      "        prefix: \"https://data.clarifai.com\"\n",
      "        suffix: \"users/anthropic/apps/completion/inputs/image/b9d666a9e16a31c8bbbf6da89cceb804\"\n",
      "        sizes: \"small\"\n",
      "        sizes: \"large\"\n",
      "        crossorigin: \"use-credentials\"\n",
      "      }\n",
      "    }\n",
      "    license_type: CLOSED_SOURCE\n",
      "    source: WRAPPED\n",
      "    creator: \"anthropic\"\n",
      "  }\n",
      "  input {\n",
      "    id: \"da1adcc222a247eb8f4200f0c28244f3\"\n",
      "    data {\n",
      "      text {\n",
      "        raw: \"Human: Write a tweet on future of AI\\\\nAssistant:\"\n",
      "        url: \"https://samples.clarifai.com/placeholder.gif\"\n",
      "      }\n",
      "    }\n",
      "  }\n",
      "  data {\n",
      "    text {\n",
      "      raw: \" Here\\'s a draft tweet on the future of AI:\\n\\nThe future of AI is bright. With continued advances in machine learning and neural networks, AI will keep getting smarter and more capable. AI assistants, self-driving cars, personalized medicine - the possibilities are endless. But we must ensure AI develops safely and ethically, with proper oversight. The future is what we make it. #AI\"\n",
      "      text_info {\n",
      "        encoding: \"UnknownTextEnc\"\n",
      "      }\n",
      "    }\n",
      "  }\n",
      "}\n",
      "\n"
     ]
    }
   ],
   "source": [
    "%%bash\n",
    "clarifai model predict --model_id claude-v2 --user_id anthropic --app_id completion --bytes 'Human: Write a tweet on future of AI\\nAssistant:' --input_type text"
   ]
  },
  {
   "cell_type": "code",
   "execution_count": 10,
   "metadata": {},
   "outputs": [
    {
     "name": "stdout",
     "output_type": "stream",
     "text": [
      "status {\n",
      "  code: SUCCESS\n",
      "  description: \"Ok\"\n",
      "  req_id: \"sdk-python-10.11.1-ebec00c2824847c5b0dcfd1ef0f5d7a6\"\n",
      "}\n",
      "outputs {\n",
      "  id: \"b8d1efdca0e34999846cdc23270f1ce2\"\n",
      "  status {\n",
      "    code: SUCCESS\n",
      "    description: \"Ok\"\n",
      "  }\n",
      "  created_at {\n",
      "    seconds: 1734691770\n",
      "    nanos: 449221985\n",
      "  }\n",
      "  model {\n",
      "    id: \"claude-v2\"\n",
      "    name: \"claude-v2\"\n",
      "    created_at {\n",
      "      seconds: 1689360584\n",
      "      nanos: 718730000\n",
      "    }\n",
      "    app_id: \"completion\"\n",
      "    model_version {\n",
      "      id: \"f39db57922eb48188cf41a26660aaf74\"\n",
      "      created_at {\n",
      "        seconds: 1706762592\n",
      "        nanos: 463521000\n",
      "      }\n",
      "      status {\n",
      "        code: MODEL_TRAINED\n",
      "        description: \"Model is trained and ready\"\n",
      "      }\n",
      "      completed_at {\n",
      "        seconds: 1706762763\n",
      "        nanos: 246861000\n",
      "      }\n",
      "      visibility {\n",
      "        gettable: PUBLIC\n",
      "      }\n",
      "      app_id: \"completion\"\n",
      "      user_id: \"anthropic\"\n",
      "      metadata {\n",
      "      }\n",
      "    }\n",
      "    user_id: \"anthropic\"\n",
      "    model_type_id: \"text-to-text\"\n",
      "    visibility {\n",
      "      gettable: PUBLIC\n",
      "    }\n",
      "    modified_at {\n",
      "      seconds: 1729160329\n",
      "      nanos: 739032000\n",
      "    }\n",
      "    workflow_recommended {\n",
      "    }\n",
      "    image {\n",
      "      url: \"https://data.clarifai.com/large/users/anthropic/apps/completion/inputs/image/b9d666a9e16a31c8bbbf6da89cceb804\"\n",
      "      hosted {\n",
      "        prefix: \"https://data.clarifai.com\"\n",
      "        suffix: \"users/anthropic/apps/completion/inputs/image/b9d666a9e16a31c8bbbf6da89cceb804\"\n",
      "        sizes: \"small\"\n",
      "        sizes: \"large\"\n",
      "        crossorigin: \"use-credentials\"\n",
      "      }\n",
      "    }\n",
      "    license_type: CLOSED_SOURCE\n",
      "    source: WRAPPED\n",
      "    creator: \"anthropic\"\n",
      "  }\n",
      "  input {\n",
      "    id: \"e0f7abe2bd544ab4b00594ba4f079dc9\"\n",
      "    data {\n",
      "      text {\n",
      "        raw: \"Human: Write a tweet on future of AI\\\\nAssistant:\"\n",
      "        url: \"https://samples.clarifai.com/placeholder.gif\"\n",
      "      }\n",
      "    }\n",
      "  }\n",
      "  data {\n",
      "    text {\n",
      "      raw: \" Here\\'s a draft tweet on the future of AI:\\n\\nThe future of AI is bright. With continued advances in machine learning and neural networks, AI will keep getting smarter and more capable. We\\'ll see AI powering self-driving cars, assisting doctors, and automating routine tasks. But we must ensure AI develops safely and ethically, with proper oversight. The opportunities are vast if we navigate carefully. #AI #machinelearning #future\"\n",
      "      text_info {\n",
      "        encoding: \"UnknownTextEnc\"\n",
      "      }\n",
      "    }\n",
      "  }\n",
      "}\n",
      "\n"
     ]
    }
   ],
   "source": [
    "%%bash\n",
    "clarifai model predict --model_url https://clarifai.com/anthropic/completion/models/claude-v2 --bytes 'Human: Write a tweet on future of AI\\nAssistant:' --input_type text"
   ]
  },
  {
   "cell_type": "code",
   "execution_count": null,
   "metadata": {},
   "outputs": [
    {
     "name": "stdout",
     "output_type": "stream",
     "text": [
      "status {\n",
      "  code: SUCCESS\n",
      "  description: \"Ok\"\n",
      "  req_id: \"sdk-python-10.11.1-6b889d0b2f87442d82770adcd6295b8a\"\n",
      "}\n",
      "outputs {\n",
      "  id: \"663ce856974048f99c9bfd8d7313c80d\"\n",
      "  status {\n",
      "    code: SUCCESS\n",
      "    description: \"Ok\"\n",
      "  }\n",
      "  created_at {\n",
      "    seconds: 1734691878\n",
      "    nanos: 127453333\n",
      "  }\n",
      "  model {\n",
      "    id: \"claude-v2\"\n",
      "    name: \"claude-v2\"\n",
      "    created_at {\n",
      "      seconds: 1689360584\n",
      "      nanos: 718730000\n",
      "    }\n",
      "    app_id: \"completion\"\n",
      "    model_version {\n",
      "      id: \"f39db57922eb48188cf41a26660aaf74\"\n",
      "      created_at {\n",
      "        seconds: 1706762592\n",
      "        nanos: 463521000\n",
      "      }\n",
      "      status {\n",
      "        code: MODEL_TRAINED\n",
      "        description: \"Model is trained and ready\"\n",
      "      }\n",
      "      completed_at {\n",
      "        seconds: 1706762763\n",
      "        nanos: 246861000\n",
      "      }\n",
      "      visibility {\n",
      "        gettable: PUBLIC\n",
      "      }\n",
      "      app_id: \"completion\"\n",
      "      user_id: \"anthropic\"\n",
      "      metadata {\n",
      "      }\n",
      "    }\n",
      "    user_id: \"anthropic\"\n",
      "    model_type_id: \"text-to-text\"\n",
      "    visibility {\n",
      "      gettable: PUBLIC\n",
      "    }\n",
      "    modified_at {\n",
      "      seconds: 1729160329\n",
      "      nanos: 739032000\n",
      "    }\n",
      "    workflow_recommended {\n",
      "    }\n",
      "    image {\n",
      "      url: \"https://data.clarifai.com/large/users/anthropic/apps/completion/inputs/image/b9d666a9e16a31c8bbbf6da89cceb804\"\n",
      "      hosted {\n",
      "        prefix: \"https://data.clarifai.com\"\n",
      "        suffix: \"users/anthropic/apps/completion/inputs/image/b9d666a9e16a31c8bbbf6da89cceb804\"\n",
      "        sizes: \"small\"\n",
      "        sizes: \"large\"\n",
      "        crossorigin: \"use-credentials\"\n",
      "      }\n",
      "    }\n",
      "    license_type: CLOSED_SOURCE\n",
      "    source: WRAPPED\n",
      "    creator: \"anthropic\"\n",
      "  }\n",
      "  input {\n",
      "    id: \"79e321e42bd24d44892b3c6dde40cdf6\"\n",
      "    data {\n",
      "      text {\n",
      "        raw: \"Human: Write a tweet on future of AI\\\\n\\\\nAssistant:\"\n",
      "        url: \"https://samples.clarifai.com/placeholder.gif\"\n",
      "      }\n",
      "    }\n",
      "  }\n",
      "  data {\n",
      "    text {\n",
      "      raw: \" Here is a draft tweet on the future of AI:\\n\\nThe future of AI is bright. With continued advances in machine learning and data, AI will keep improving and becoming more capable and ubiquitous. We must ensure it develops safely and benefits humanity. #AI\"\n",
      "      text_info {\n",
      "        encoding: \"UnknownTextEnc\"\n",
      "      }\n",
      "    }\n",
      "  }\n",
      "}\n",
      "\n"
     ]
    }
   ],
   "source": [
    "%%bash\n",
    "clarifai model predict --config CLI/configs/model_predict_test_config.yaml"
   ]
  },
  {
   "cell_type": "markdown",
   "metadata": {},
   "source": [
    "## Clarifai Resources"
   ]
  },
  {
   "cell_type": "markdown",
   "metadata": {},
   "source": [
    "**Website**: [https://www.clarifai.com](https://www.clarifai.com/)\n",
    "\n",
    "**Demo**: [https://clarifai.com/demo](https://clarifai.com/demo)\n",
    "\n",
    "**Sign up for a free Account**: [https://clarifai.com/signup](https://clarifai.com/signup)\n",
    "\n",
    "**Developer Guide**: [https://docs.clarifai.com](https://docs.clarifai.com/)\n",
    "\n",
    "**Clarifai Community**: [https://clarifai.com/explore](https://clarifai.com/explore)\n",
    "\n",
    "**Python SDK Docs**: [https://docs.clarifai.com/python-sdk/api-reference](https://docs.clarifai.com/python-sdk/api-reference)\n",
    "\n",
    "---"
   ]
  }
 ],
 "metadata": {
  "kernelspec": {
   "display_name": "v1",
   "language": "python",
   "name": "python3"
  },
  "language_info": {
   "codemirror_mode": {
    "name": "ipython",
    "version": 3
   },
   "file_extension": ".py",
   "mimetype": "text/x-python",
   "name": "python",
   "nbconvert_exporter": "python",
   "pygments_lexer": "ipython3",
   "version": "3.10.13"
  }
 },
 "nbformat": 4,
 "nbformat_minor": 2
}
