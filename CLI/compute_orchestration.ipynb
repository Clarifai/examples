{
 "cells": [
  {
   "cell_type": "markdown",
   "metadata": {},
   "source": [
    "<td>\n",
    "   <a target=\"_blank\" href=\"https://www.clarifai.com/\" ><img src=\"https://upload.wikimedia.org/wikipedia/commons/b/bc/Clarifai_Logo_FC_Web.png\" width=256/></a>\n",
    "</td>"
   ]
  },
  {
   "cell_type": "markdown",
   "metadata": {},
   "source": [
    "<td>\n",
    "<a href=\"https://colab.research.google.com/github/Clarifai/examples/blob/main/CLI/compute_orchestration.ipynb\" target=\"_blank\"><img\n",
    "src=\"https://colab.research.google.com/assets/colab-badge.svg\" alt=\"Colab\"></a>\n",
    "</td>"
   ]
  },
  {
   "cell_type": "markdown",
   "metadata": {},
   "source": [
    "# Introduction"
   ]
  },
  {
   "cell_type": "markdown",
   "metadata": {},
   "source": [
    "Our longterm goal for the Clarifai platform is to enable users to deploy any model, on any compute, at any scale. We currently support serverless or fully self-managed deployments and only support Nvidia GPUs through Nvidia Triton. \n",
    "\n",
    "With compute orchestration, we aim to evolve our inference stack to be efficient and generalized to support any compute, regardless of hardware provider or deployment model."
   ]
  },
  {
   "cell_type": "markdown",
   "metadata": {},
   "source": [
    "## Installation and Setup"
   ]
  },
  {
   "cell_type": "code",
   "execution_count": null,
   "metadata": {},
   "outputs": [],
   "source": [
    "!pip install clarifai"
   ]
  },
  {
   "cell_type": "markdown",
   "metadata": {},
   "source": [
    "### For Colab\n",
    "\n",
    "To access config yamls from examples repo, you can clone the repo"
   ]
  },
  {
   "cell_type": "code",
   "execution_count": null,
   "metadata": {},
   "outputs": [],
   "source": [
    "!git clone https://github.com/Clarifai/examples.git\n",
    "%cd /content/examples/"
   ]
  },
  {
   "cell_type": "markdown",
   "metadata": {},
   "source": [
    "## Basics"
   ]
  },
  {
   "cell_type": "code",
   "execution_count": 3,
   "metadata": {},
   "outputs": [
    {
     "name": "stdout",
     "output_type": "stream",
     "text": [
      "Usage: clarifai [OPTIONS] COMMAND [ARGS]...\n",
      "\n",
      "  Clarifai CLI\n",
      "\n",
      "Options:\n",
      "  --help  Show this message and exit.\n",
      "\n",
      "Commands:\n",
      "  cc              Alias for 'computecluster'\n",
      "  computecluster  Manage Compute Clusters: create, delete, list\n",
      "  deployment      Manage Deployments: create, delete, list\n",
      "  dpl             Alias for 'deployment'\n",
      "  login           Login command to set PAT and other configurations.\n",
      "  model           Manage models: upload, test locally\n",
      "  nodepool        Manage Nodepools: create, delete, list\n",
      "  np              Alias for 'nodepool'\n"
     ]
    }
   ],
   "source": [
    "%%bash\n",
    "clarifai --help"
   ]
  },
  {
   "cell_type": "markdown",
   "metadata": {},
   "source": [
    "### Login"
   ]
  },
  {
   "cell_type": "code",
   "execution_count": 4,
   "metadata": {},
   "outputs": [
    {
     "name": "stdout",
     "output_type": "stream",
     "text": [
      "Usage: clarifai login [OPTIONS]\n",
      "\n",
      "  Login command to set PAT and other configurations.\n",
      "\n",
      "Options:\n",
      "  --config PATH                 Path to the config file\n",
      "  -e, --env [prod|staging|dev]  Environment to use, choose from prod, staging\n",
      "                                and dev\n",
      "  --user_id TEXT                User ID\n",
      "  --help                        Show this message and exit.\n"
     ]
    }
   ],
   "source": [
    "%%bash\n",
    "clarifai login --help"
   ]
  },
  {
   "cell_type": "code",
   "execution_count": 5,
   "metadata": {},
   "outputs": [
    {
     "name": "stdout",
     "output_type": "stream",
     "text": [
      "Loaded PAT from config file.\n"
     ]
    }
   ],
   "source": [
    "%%bash\n",
    "clarifai login --config CLI/configs/login_config.yaml"
   ]
  },
  {
   "cell_type": "markdown",
   "metadata": {},
   "source": [
    "## Compute Cluster Operations"
   ]
  },
  {
   "cell_type": "code",
   "execution_count": 6,
   "metadata": {},
   "outputs": [
    {
     "name": "stdout",
     "output_type": "stream",
     "text": [
      "Usage: clarifai computecluster [OPTIONS] COMMAND [ARGS]...\n",
      "\n",
      "  Manage Compute Clusters: create, delete, list\n",
      "\n",
      "Options:\n",
      "  --help  Show this message and exit.\n",
      "\n",
      "Commands:\n",
      "  create  Create a new Compute Cluster with the given config file.\n",
      "  delete  Deletes a compute cluster for the user.\n",
      "  list    List all compute clusters for the user.\n"
     ]
    }
   ],
   "source": [
    "%%bash\n",
    "clarifai computecluster --help"
   ]
  },
  {
   "cell_type": "markdown",
   "metadata": {},
   "source": [
    "### Creating Compute Cluster"
   ]
  },
  {
   "cell_type": "code",
   "execution_count": 7,
   "metadata": {},
   "outputs": [
    {
     "name": "stdout",
     "output_type": "stream",
     "text": [
      "Usage: clarifai cc create [OPTIONS]\n",
      "\n",
      "  Create a new Compute Cluster with the given config file.\n",
      "\n",
      "Options:\n",
      "  --config PATH                   Path to the compute cluster config file.\n",
      "                                  [required]\n",
      "  -cc_id, --compute_cluster_id TEXT\n",
      "                                  New Compute Cluster ID for the compute\n",
      "                                  cluster to create.\n",
      "  --help                          Show this message and exit.\n"
     ]
    }
   ],
   "source": [
    "%%bash\n",
    "clarifai cc create --help"
   ]
  },
  {
   "cell_type": "code",
   "execution_count": 9,
   "metadata": {},
   "outputs": [
    {
     "name": "stdout",
     "output_type": "stream",
     "text": [
      "\u001b[2;36m2024-11-25 13:23:26\u001b[0m\u001b[2;36m \u001b[0m\u001b[34mINFO    \u001b[0m clarifai:                                                                                                                                                                                                              \u001b]8;id=321693;file:///Users/srikanthbachala/virtualenv/v1/lib/python3.10/site-packages/clarifai/client/user.py\u001b\\\u001b[2muser.py\u001b[0m\u001b]8;;\u001b\\\u001b[2m:\u001b[0m\u001b]8;id=897302;file:///Users/srikanthbachala/virtualenv/v1/lib/python3.10/site-packages/clarifai/client/user.py#259\u001b\\\u001b[2m259\u001b[0m\u001b]8;;\u001b\\\n",
      "\u001b[2;36m                    \u001b[0m         Compute Cluster created                                                                                                                                                                                                \u001b[2m           \u001b[0m\n",
      "\u001b[2;36m                    \u001b[0m         code: SUCCESS                                                                                                                                                                                                          \u001b[2m           \u001b[0m\n",
      "\u001b[2;36m                    \u001b[0m         description: \u001b[32m\"Ok\"\u001b[0m                                                                                                                                                                                                      \u001b[2m           \u001b[0m\n",
      "\u001b[2;36m                    \u001b[0m         req_id: \u001b[32m\"sdk-python-10.10.1-45828a434a164cfaaec1403328a07f9b\"\u001b[0m                                                                                                                                                          \u001b[2m           \u001b[0m\n",
      "\u001b[2;36m                    \u001b[0m                                                                                                                                                                                                                                \u001b[2m           \u001b[0m\n"
     ]
    }
   ],
   "source": [
    "%%bash\n",
    "clarifai cc create --config ComputeOrchestration/configs/compute_cluster_config.yaml"
   ]
  },
  {
   "cell_type": "markdown",
   "metadata": {},
   "source": [
    "### Listing Compute Clusters"
   ]
  },
  {
   "cell_type": "code",
   "execution_count": 10,
   "metadata": {},
   "outputs": [
    {
     "name": "stdout",
     "output_type": "stream",
     "text": [
      "Usage: clarifai cc list [OPTIONS]\n",
      "\n",
      "  List all compute clusters for the user.\n",
      "\n",
      "Options:\n",
      "  --page_no INTEGER   Page number to list.\n",
      "  --per_page INTEGER  Number of items per page.\n",
      "  --help              Show this message and exit.\n"
     ]
    }
   ],
   "source": [
    "%%bash\n",
    "clarifai cc list --help"
   ]
  },
  {
   "cell_type": "code",
   "execution_count": 12,
   "metadata": {},
   "outputs": [
    {
     "name": "stdout",
     "output_type": "stream",
     "text": [
      "\u001b[1;32m╭──────────────────────────────────────────────────────────╮\u001b[0m\n",
      "\u001b[1;32m│\u001b[0m\u001b[1;34m \u001b[0m\u001b[1;34m                List of Compute Clusters                \u001b[0m\u001b[1;34m \u001b[0m\u001b[1;32m│\u001b[0m\n",
      "\u001b[1;32m╰──────────────────────────────────────────────────────────╯\u001b[0m\n",
      "\u001b[32m╭─\u001b[0m\u001b[32m──────────────────\u001b[0m\u001b[32m Compute Cluster 1 \u001b[0m\u001b[32m───────────────────\u001b[0m\u001b[32m─╮\u001b[0m\n",
      "\u001b[32m│\u001b[0m ID: test-compute-cluster                                 \u001b[32m│\u001b[0m\n",
      "\u001b[32m│\u001b[0m Description: My AWS compute cluster                      \u001b[32m│\u001b[0m\n",
      "\u001b[32m╰──────────────────────────────────────────────────────────╯\u001b[0m\n"
     ]
    }
   ],
   "source": [
    "%%bash\n",
    "clarifai cc list"
   ]
  },
  {
   "cell_type": "markdown",
   "metadata": {},
   "source": [
    "## Nodepool Operations"
   ]
  },
  {
   "cell_type": "code",
   "execution_count": 15,
   "metadata": {},
   "outputs": [
    {
     "name": "stdout",
     "output_type": "stream",
     "text": [
      "Usage: clarifai nodepool [OPTIONS] COMMAND [ARGS]...\n",
      "\n",
      "  Manage Nodepools: create, delete, list\n",
      "\n",
      "Options:\n",
      "  --help  Show this message and exit.\n",
      "\n",
      "Commands:\n",
      "  create  Create a new Nodepool with the given config file.\n",
      "  delete  Deletes a nodepool for the user.\n",
      "  list    List all nodepools for the user.\n"
     ]
    }
   ],
   "source": [
    "%%bash\n",
    "clarifai nodepool --help"
   ]
  },
  {
   "cell_type": "markdown",
   "metadata": {},
   "source": [
    "### Creating Nodepool"
   ]
  },
  {
   "cell_type": "code",
   "execution_count": 16,
   "metadata": {},
   "outputs": [
    {
     "name": "stdout",
     "output_type": "stream",
     "text": [
      "Usage: clarifai np create [OPTIONS]\n",
      "\n",
      "  Create a new Nodepool with the given config file.\n",
      "\n",
      "Options:\n",
      "  -cc_id, --compute_cluster_id TEXT\n",
      "                                  Compute Cluster ID for the compute cluster\n",
      "                                  to interact with.\n",
      "  --config PATH                   Path to the nodepool config file.\n",
      "                                  [required]\n",
      "  -np_id, --nodepool_id TEXT      New Nodepool ID for the nodepool to create.\n",
      "  --help                          Show this message and exit.\n"
     ]
    }
   ],
   "source": [
    "%%bash\n",
    "clarifai np create --help"
   ]
  },
  {
   "cell_type": "code",
   "execution_count": 19,
   "metadata": {},
   "outputs": [
    {
     "name": "stdout",
     "output_type": "stream",
     "text": [
      "\u001b[2;36m2024-11-25 13:36:03\u001b[0m\u001b[2;36m \u001b[0m\u001b[34mINFO    \u001b[0m clarifai:                                                                                                                                                                                                   \u001b]8;id=758228;file:///Users/srikanthbachala/virtualenv/v1/lib/python3.10/site-packages/clarifai/client/compute_cluster.py\u001b\\\u001b[2mcompute_cluster.py\u001b[0m\u001b]8;;\u001b\\\u001b[2m:\u001b[0m\u001b]8;id=224308;file:///Users/srikanthbachala/virtualenv/v1/lib/python3.10/site-packages/clarifai/client/compute_cluster.py#137\u001b\\\u001b[2m137\u001b[0m\u001b]8;;\u001b\\\n",
      "\u001b[2;36m                    \u001b[0m         Nodepool created                                                                                                                                                                                            \u001b[2m                      \u001b[0m\n",
      "\u001b[2;36m                    \u001b[0m         code: SUCCESS                                                                                                                                                                                               \u001b[2m                      \u001b[0m\n",
      "\u001b[2;36m                    \u001b[0m         description: \u001b[32m\"Ok\"\u001b[0m                                                                                                                                                                                           \u001b[2m                      \u001b[0m\n",
      "\u001b[2;36m                    \u001b[0m         req_id: \u001b[32m\"sdk-python-10.10.1-f13efd718a464d03a05fa7c87f04b92b\"\u001b[0m                                                                                                                                               \u001b[2m                      \u001b[0m\n",
      "\u001b[2;36m                    \u001b[0m                                                                                                                                                                                                                     \u001b[2m                      \u001b[0m\n"
     ]
    }
   ],
   "source": [
    "%%bash\n",
    "clarifai np create --config ComputeOrchestration/configs/nodepool_config.yaml"
   ]
  },
  {
   "cell_type": "markdown",
   "metadata": {},
   "source": [
    "### Listing Nodepools"
   ]
  },
  {
   "cell_type": "code",
   "execution_count": 20,
   "metadata": {},
   "outputs": [
    {
     "name": "stdout",
     "output_type": "stream",
     "text": [
      "Usage: clarifai np list [OPTIONS]\n",
      "\n",
      "  List all nodepools for the user.\n",
      "\n",
      "Options:\n",
      "  -cc_id, --compute_cluster_id TEXT\n",
      "                                  Compute Cluster ID for the compute cluster\n",
      "                                  to interact with.  [required]\n",
      "  --page_no INTEGER               Page number to list.\n",
      "  --per_page INTEGER              Number of items per page.\n",
      "  --help                          Show this message and exit.\n"
     ]
    }
   ],
   "source": [
    "%%bash\n",
    "clarifai np list --help"
   ]
  },
  {
   "cell_type": "code",
   "execution_count": 22,
   "metadata": {},
   "outputs": [
    {
     "name": "stdout",
     "output_type": "stream",
     "text": [
      "\u001b[1;32m╭──────────────────────────────────────────────────────────╮\u001b[0m\n",
      "\u001b[1;32m│\u001b[0m\u001b[1;34m \u001b[0m\u001b[1;34m                   List of Nodepools                    \u001b[0m\u001b[1;34m \u001b[0m\u001b[1;32m│\u001b[0m\n",
      "\u001b[1;32m╰──────────────────────────────────────────────────────────╯\u001b[0m\n",
      "\u001b[32m╭─\u001b[0m\u001b[32m──────────────────────\u001b[0m\u001b[32m Nodepool 1 \u001b[0m\u001b[32m──────────────────────\u001b[0m\u001b[32m─╮\u001b[0m\n",
      "\u001b[32m│\u001b[0m ID: test-nodepool                                        \u001b[32m│\u001b[0m\n",
      "\u001b[32m│\u001b[0m Description: First nodepool in AWS in a proper compute   \u001b[32m│\u001b[0m\n",
      "\u001b[32m│\u001b[0m cluster                                                  \u001b[32m│\u001b[0m\n",
      "\u001b[32m╰──────────────────────────────────────────────────────────╯\u001b[0m\n"
     ]
    }
   ],
   "source": [
    "%%bash\n",
    "clarifai np list -cc_id test-compute-cluster"
   ]
  },
  {
   "cell_type": "markdown",
   "metadata": {},
   "source": [
    "## Deployment Operations"
   ]
  },
  {
   "cell_type": "code",
   "execution_count": 23,
   "metadata": {},
   "outputs": [
    {
     "name": "stdout",
     "output_type": "stream",
     "text": [
      "Usage: clarifai deployment [OPTIONS] COMMAND [ARGS]...\n",
      "\n",
      "  Manage Deployments: create, delete, list\n",
      "\n",
      "Options:\n",
      "  --help  Show this message and exit.\n",
      "\n",
      "Commands:\n",
      "  create  Create a new Deployment with the given config file.\n",
      "  delete  Deletes a deployment for the nodepool.\n",
      "  list    List all deployments for the nodepool.\n"
     ]
    }
   ],
   "source": [
    "%%bash\n",
    "clarifai deployment --help"
   ]
  },
  {
   "cell_type": "markdown",
   "metadata": {},
   "source": [
    "### Creating Deployment"
   ]
  },
  {
   "cell_type": "code",
   "execution_count": 24,
   "metadata": {},
   "outputs": [
    {
     "name": "stdout",
     "output_type": "stream",
     "text": [
      "Usage: clarifai dpl create [OPTIONS]\n",
      "\n",
      "  Create a new Deployment with the given config file.\n",
      "\n",
      "Options:\n",
      "  -np_id, --nodepool_id TEXT     Nodepool ID for the Nodepool to interact\n",
      "                                 with.\n",
      "  --config PATH                  Path to the deployment config file.\n",
      "                                 [required]\n",
      "  -dpl_id, --deployment_id TEXT  New deployment ID for the deployment to\n",
      "                                 create.\n",
      "  --help                         Show this message and exit.\n"
     ]
    }
   ],
   "source": [
    "%%bash\n",
    "clarifai dpl create --help"
   ]
  },
  {
   "cell_type": "code",
   "execution_count": 26,
   "metadata": {},
   "outputs": [
    {
     "name": "stdout",
     "output_type": "stream",
     "text": [
      "\u001b[2;36m2024-11-25 13:45:45\u001b[0m\u001b[2;36m \u001b[0m\u001b[34mINFO    \u001b[0m clarifai:                                                                                                                                                                                                          \u001b]8;id=813903;file:///Users/srikanthbachala/virtualenv/v1/lib/python3.10/site-packages/clarifai/client/nodepool.py\u001b\\\u001b[2mnodepool.py\u001b[0m\u001b]8;;\u001b\\\u001b[2m:\u001b[0m\u001b]8;id=187761;file:///Users/srikanthbachala/virtualenv/v1/lib/python3.10/site-packages/clarifai/client/nodepool.py#170\u001b\\\u001b[2m170\u001b[0m\u001b]8;;\u001b\\\n",
      "\u001b[2;36m                    \u001b[0m         Deployment created                                                                                                                                                                                                 \u001b[2m               \u001b[0m\n",
      "\u001b[2;36m                    \u001b[0m         code: SUCCESS                                                                                                                                                                                                      \u001b[2m               \u001b[0m\n",
      "\u001b[2;36m                    \u001b[0m         description: \u001b[32m\"Ok\"\u001b[0m                                                                                                                                                                                                  \u001b[2m               \u001b[0m\n",
      "\u001b[2;36m                    \u001b[0m         req_id: \u001b[32m\"sdk-python-10.10.1-4eee3ff17e52440db3176fb545035e41\"\u001b[0m                                                                                                                                                      \u001b[2m               \u001b[0m\n",
      "\u001b[2;36m                    \u001b[0m                                                                                                                                                                                                                            \u001b[2m               \u001b[0m\n"
     ]
    }
   ],
   "source": [
    "%%bash\n",
    "clarifai dpl create --config ComputeOrchestration/configs/deployment_config.yaml"
   ]
  },
  {
   "cell_type": "markdown",
   "metadata": {},
   "source": [
    "### Listing Deployments"
   ]
  },
  {
   "cell_type": "code",
   "execution_count": 27,
   "metadata": {},
   "outputs": [
    {
     "name": "stdout",
     "output_type": "stream",
     "text": [
      "Usage: clarifai dpl list [OPTIONS]\n",
      "\n",
      "  List all deployments for the nodepool.\n",
      "\n",
      "Options:\n",
      "  -np_id, --nodepool_id TEXT  Nodepool ID for the Nodepool to interact with.\n",
      "                              [required]\n",
      "  --page_no INTEGER           Page number to list.\n",
      "  --per_page INTEGER          Number of items per page.\n",
      "  --help                      Show this message and exit.\n"
     ]
    }
   ],
   "source": [
    "%%bash\n",
    "clarifai dpl list --help"
   ]
  },
  {
   "cell_type": "code",
   "execution_count": 29,
   "metadata": {},
   "outputs": [
    {
     "name": "stdout",
     "output_type": "stream",
     "text": [
      "\u001b[1;32m╭──────────────────────────────────────────────────────────╮\u001b[0m\n",
      "\u001b[1;32m│\u001b[0m\u001b[1;34m \u001b[0m\u001b[1;34m                  List of Deployments                   \u001b[0m\u001b[1;34m \u001b[0m\u001b[1;32m│\u001b[0m\n",
      "\u001b[1;32m╰──────────────────────────────────────────────────────────╯\u001b[0m\n",
      "\u001b[32m╭─\u001b[0m\u001b[32m─────────────────────\u001b[0m\u001b[32m Deployment 1 \u001b[0m\u001b[32m─────────────────────\u001b[0m\u001b[32m─╮\u001b[0m\n",
      "\u001b[32m│\u001b[0m ID: test-deployment                                      \u001b[32m│\u001b[0m\n",
      "\u001b[32m│\u001b[0m Description: some random deployment                      \u001b[32m│\u001b[0m\n",
      "\u001b[32m╰──────────────────────────────────────────────────────────╯\u001b[0m\n"
     ]
    }
   ],
   "source": [
    "%%bash\n",
    "clarifai dpl list -np_id test-nodepool"
   ]
  },
  {
   "cell_type": "markdown",
   "metadata": {},
   "source": [
    "## Delete Resources"
   ]
  },
  {
   "cell_type": "markdown",
   "metadata": {},
   "source": [
    "### Deleting Deployment"
   ]
  },
  {
   "cell_type": "code",
   "execution_count": 30,
   "metadata": {},
   "outputs": [
    {
     "name": "stdout",
     "output_type": "stream",
     "text": [
      "Usage: clarifai dpl delete [OPTIONS]\n",
      "\n",
      "  Deletes a deployment for the nodepool.\n",
      "\n",
      "Options:\n",
      "  -np_id, --nodepool_id TEXT     Nodepool ID for the Nodepool to interact\n",
      "                                 with.  [required]\n",
      "  -dpl_id, --deployment_id TEXT  Deployment ID of the nodepool to delete.\n",
      "  --help                         Show this message and exit.\n"
     ]
    }
   ],
   "source": [
    "%%bash\n",
    "clarifai dpl delete --help"
   ]
  },
  {
   "cell_type": "code",
   "execution_count": 32,
   "metadata": {},
   "outputs": [
    {
     "name": "stdout",
     "output_type": "stream",
     "text": [
      "\u001b[2;36m2024-11-25 13:49:43\u001b[0m\u001b[2;36m \u001b[0m\u001b[34mINFO    \u001b[0m clarifai:                                                                                                                                                                                                          \u001b]8;id=254364;file:///Users/srikanthbachala/virtualenv/v1/lib/python3.10/site-packages/clarifai/client/nodepool.py\u001b\\\u001b[2mnodepool.py\u001b[0m\u001b]8;;\u001b\\\u001b[2m:\u001b[0m\u001b]8;id=46510;file:///Users/srikanthbachala/virtualenv/v1/lib/python3.10/site-packages/clarifai/client/nodepool.py#219\u001b\\\u001b[2m219\u001b[0m\u001b]8;;\u001b\\\n",
      "\u001b[2;36m                    \u001b[0m         Deployments Deleted                                                                                                                                                                                                \u001b[2m               \u001b[0m\n",
      "\u001b[2;36m                    \u001b[0m         code: SUCCESS                                                                                                                                                                                                      \u001b[2m               \u001b[0m\n",
      "\u001b[2;36m                    \u001b[0m         description: \u001b[32m\"Ok\"\u001b[0m                                                                                                                                                                                                  \u001b[2m               \u001b[0m\n",
      "\u001b[2;36m                    \u001b[0m         req_id: \u001b[32m\"sdk-python-10.10.1-6685b6537af047a1a55d370611c95bbc\"\u001b[0m                                                                                                                                                      \u001b[2m               \u001b[0m\n",
      "\u001b[2;36m                    \u001b[0m                                                                                                                                                                                                                            \u001b[2m               \u001b[0m\n"
     ]
    }
   ],
   "source": [
    "%%bash\n",
    "clarifai dpl delete -np_id test-nodepool -dpl_id test-deployment"
   ]
  },
  {
   "cell_type": "markdown",
   "metadata": {},
   "source": [
    "### Deleting Nodepool"
   ]
  },
  {
   "cell_type": "code",
   "execution_count": 33,
   "metadata": {},
   "outputs": [
    {
     "name": "stdout",
     "output_type": "stream",
     "text": [
      "Usage: clarifai np delete [OPTIONS]\n",
      "\n",
      "  Deletes a nodepool for the user.\n",
      "\n",
      "Options:\n",
      "  -cc_id, --compute_cluster_id TEXT\n",
      "                                  Compute Cluster ID for the compute cluster\n",
      "                                  to interact with.  [required]\n",
      "  -np_id, --nodepool_id TEXT      Nodepool ID of the user to delete.\n",
      "  --help                          Show this message and exit.\n"
     ]
    }
   ],
   "source": [
    "%%bash\n",
    "clarifai np delete --help"
   ]
  },
  {
   "cell_type": "code",
   "execution_count": 35,
   "metadata": {},
   "outputs": [
    {
     "name": "stdout",
     "output_type": "stream",
     "text": [
      "\u001b[2;36m2024-11-25 13:51:05\u001b[0m\u001b[2;36m \u001b[0m\u001b[34mINFO    \u001b[0m clarifai:                                                                                                                                                                                                   \u001b]8;id=702321;file:///Users/srikanthbachala/virtualenv/v1/lib/python3.10/site-packages/clarifai/client/compute_cluster.py\u001b\\\u001b[2mcompute_cluster.py\u001b[0m\u001b]8;;\u001b\\\u001b[2m:\u001b[0m\u001b]8;id=852374;file:///Users/srikanthbachala/virtualenv/v1/lib/python3.10/site-packages/clarifai/client/compute_cluster.py#186\u001b\\\u001b[2m186\u001b[0m\u001b]8;;\u001b\\\n",
      "\u001b[2;36m                    \u001b[0m         Nodepools Deleted                                                                                                                                                                                           \u001b[2m                      \u001b[0m\n",
      "\u001b[2;36m                    \u001b[0m         code: SUCCESS                                                                                                                                                                                               \u001b[2m                      \u001b[0m\n",
      "\u001b[2;36m                    \u001b[0m         description: \u001b[32m\"Ok\"\u001b[0m                                                                                                                                                                                           \u001b[2m                      \u001b[0m\n",
      "\u001b[2;36m                    \u001b[0m         req_id: \u001b[32m\"sdk-python-10.10.1-ca0980b418264bbaaff9855015b2b582\"\u001b[0m                                                                                                                                               \u001b[2m                      \u001b[0m\n",
      "\u001b[2;36m                    \u001b[0m                                                                                                                                                                                                                     \u001b[2m                      \u001b[0m\n"
     ]
    }
   ],
   "source": [
    "%%bash\n",
    "clarifai np delete -cc_id test-compute-cluster -np_id test-nodepool"
   ]
  },
  {
   "cell_type": "markdown",
   "metadata": {},
   "source": [
    "### Deleting Compute Cluster"
   ]
  },
  {
   "cell_type": "code",
   "execution_count": 36,
   "metadata": {},
   "outputs": [
    {
     "name": "stdout",
     "output_type": "stream",
     "text": [
      "Usage: clarifai cc delete [OPTIONS]\n",
      "\n",
      "  Deletes a compute cluster for the user.\n",
      "\n",
      "Options:\n",
      "  -cc_id, --compute_cluster_id TEXT\n",
      "                                  Compute Cluster ID of the user to delete.\n",
      "  --help                          Show this message and exit.\n"
     ]
    }
   ],
   "source": [
    "%%bash\n",
    "clarifai cc delete --help"
   ]
  },
  {
   "cell_type": "code",
   "execution_count": 37,
   "metadata": {},
   "outputs": [
    {
     "name": "stdout",
     "output_type": "stream",
     "text": [
      "\u001b[2;36m2024-11-25 13:52:07\u001b[0m\u001b[2;36m \u001b[0m\u001b[34mINFO    \u001b[0m clarifai:                                                                                                                                                                                                              \u001b]8;id=410038;file:///Users/srikanthbachala/virtualenv/v1/lib/python3.10/site-packages/clarifai/client/user.py\u001b\\\u001b[2muser.py\u001b[0m\u001b]8;;\u001b\\\u001b[2m:\u001b[0m\u001b]8;id=786184;file:///Users/srikanthbachala/virtualenv/v1/lib/python3.10/site-packages/clarifai/client/user.py#423\u001b\\\u001b[2m423\u001b[0m\u001b]8;;\u001b\\\n",
      "\u001b[2;36m                    \u001b[0m         Compute Cluster Deleted                                                                                                                                                                                                \u001b[2m           \u001b[0m\n",
      "\u001b[2;36m                    \u001b[0m         code: SUCCESS                                                                                                                                                                                                          \u001b[2m           \u001b[0m\n",
      "\u001b[2;36m                    \u001b[0m         description: \u001b[32m\"Ok\"\u001b[0m                                                                                                                                                                                                      \u001b[2m           \u001b[0m\n",
      "\u001b[2;36m                    \u001b[0m         req_id: \u001b[32m\"sdk-python-10.10.1-9c42122714e74450a6a4f260544d6f19\"\u001b[0m                                                                                                                                                          \u001b[2m           \u001b[0m\n",
      "\u001b[2;36m                    \u001b[0m                                                                                                                                                                                                                                \u001b[2m           \u001b[0m\n"
     ]
    }
   ],
   "source": [
    "%%bash\n",
    "clarifai cc delete -cc_id test-compute-cluster"
   ]
  },
  {
   "cell_type": "markdown",
   "metadata": {},
   "source": [
    "## Clarifai Resources"
   ]
  },
  {
   "cell_type": "markdown",
   "metadata": {},
   "source": [
    "**Website**: [https://www.clarifai.com](https://www.clarifai.com/)\n",
    "\n",
    "**Demo**: [https://clarifai.com/demo](https://clarifai.com/demo)\n",
    "\n",
    "**Sign up for a free Account**: [https://clarifai.com/signup](https://clarifai.com/signup)\n",
    "\n",
    "**Developer Guide**: [https://docs.clarifai.com](https://docs.clarifai.com/)\n",
    "\n",
    "**Clarifai Community**: [https://clarifai.com/explore](https://clarifai.com/explore)\n",
    "\n",
    "**Python SDK Docs**: [https://docs.clarifai.com/python-sdk/api-reference](https://docs.clarifai.com/python-sdk/api-reference)\n",
    "\n",
    "---"
   ]
  }
 ],
 "metadata": {
  "kernelspec": {
   "display_name": "v1",
   "language": "python",
   "name": "python3"
  },
  "language_info": {
   "codemirror_mode": {
    "name": "ipython",
    "version": 3
   },
   "file_extension": ".py",
   "mimetype": "text/x-python",
   "name": "python",
   "nbconvert_exporter": "python",
   "pygments_lexer": "ipython3",
   "version": "3.10.13"
  }
 },
 "nbformat": 4,
 "nbformat_minor": 2
}
