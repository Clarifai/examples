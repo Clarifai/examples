{
 "cells": [
  {
   "cell_type": "markdown",
   "id": "5c742424",
   "metadata": {},
   "source": [
    "<td>\n",
    "   <a target=\"_blank\" href=\"https://www.clarifai.com/\" ><img src=\"https://upload.wikimedia.org/wikipedia/commons/b/bc/Clarifai_Logo_FC_Web.png\" width=256/></a>\n",
    "</td>"
   ]
  },
  {
   "cell_type": "markdown",
   "id": "c3b439c7",
   "metadata": {},
   "source": [
    "<td>\n",
    "<a href=\"https://colab.research.google.com/github/Clarifai/examples/blob/main/datasets/upload/dataset_upload.ipynb\" target=\"_blank\"><img\n",
    "src=\"https://colab.research.google.com/assets/colab-badge.svg\" alt=\"Colab\"></a>\n",
    "</td>"
   ]
  },
  {
   "cell_type": "markdown",
   "id": "89867234",
   "metadata": {},
   "source": [
    "# Basics\n",
    "\n",
    "- Creating Clarifai Resources(App, Datasets)\n",
    "- Interacting with Apps, Datasets\n",
    "- Deleting App, Dataset"
   ]
  },
  {
   "cell_type": "markdown",
   "id": "9cde4c58",
   "metadata": {},
   "source": [
    "## Requirements"
   ]
  },
  {
   "cell_type": "code",
   "execution_count": null,
   "id": "e4d9f747",
   "metadata": {},
   "outputs": [],
   "source": [
    "!pip install -U clarifai"
   ]
  },
  {
   "cell_type": "code",
   "execution_count": null,
   "id": "c1a5ae2d",
   "metadata": {},
   "outputs": [],
   "source": [
    "#Replace your PAT\n",
    "import os\n",
    "os.environ['CLARIFAI_PAT'] = \"PAT\""
   ]
  },
  {
   "cell_type": "markdown",
   "id": "b636e141",
   "metadata": {},
   "source": [
    "*Note: Guide to get your [PAT](https://docs.clarifai.com/clarifai-basics/authentication/personal-access-tokens)*"
   ]
  },
  {
   "cell_type": "markdown",
   "id": "e87a9c1b",
   "metadata": {},
   "source": [
    "## Getting User Client"
   ]
  },
  {
   "cell_type": "code",
   "execution_count": null,
   "id": "6ed0b112",
   "metadata": {},
   "outputs": [],
   "source": [
    "# Note: CLARIFAI_PAT must be set as env variable.\n",
    "from clarifai.client.user import User\n",
    "client = User(user_id=\"user_id\") #replace your \"user_id\""
   ]
  },
  {
   "cell_type": "markdown",
   "id": "baeb362b",
   "metadata": {},
   "source": [
    "## Interacting with App"
   ]
  },
  {
   "cell_type": "markdown",
   "id": "91028bc4",
   "metadata": {},
   "source": [
    "Applications are the basic building blocks for creating projects on the Clarifai platform. Your data, annotations, models, workflows, predictions, and searches are contained within applications. You can create as many applications as you want and edit or delete them as you see fit."
   ]
  },
  {
   "cell_type": "markdown",
   "id": "e69b57b9",
   "metadata": {},
   "source": [
    "### Creating App"
   ]
  },
  {
   "cell_type": "code",
   "execution_count": null,
   "id": "0d59c250",
   "metadata": {},
   "outputs": [],
   "source": [
    "# Create app and dataset\n",
    "app = client.create_app(app_id=\"demo_app\", base_workflow=\"Universal\") #(Example Workflows: 'Universal', 'Empty', 'General')"
   ]
  },
  {
   "cell_type": "markdown",
   "id": "13316d90",
   "metadata": {},
   "source": [
    "## Dataset"
   ]
  },
  {
   "cell_type": "markdown",
   "id": "77e3c177",
   "metadata": {},
   "source": [
    "A dataset is a collection of data examples you can use to annotate and train, test, evaluate your machine learning models. With Clarifai datasets, you can manage the datasets you want to use for visual search, training, and evaluation."
   ]
  },
  {
   "cell_type": "markdown",
   "id": "9bb59146",
   "metadata": {},
   "source": [
    "### Creating Dataset"
   ]
  },
  {
   "cell_type": "code",
   "execution_count": null,
   "id": "03206918",
   "metadata": {},
   "outputs": [],
   "source": [
    "dataset = app.create_dataset(dataset_id=\"demo_dataset\")"
   ]
  },
  {
   "cell_type": "markdown",
   "id": "10115bcc",
   "metadata": {},
   "source": [
    "## Inputs"
   ]
  },
  {
   "cell_type": "markdown",
   "id": "a380fae5",
   "metadata": {},
   "source": [
    "### Adding Inputs"
   ]
  },
  {
   "cell_type": "code",
   "execution_count": null,
   "id": "0f438a7c",
   "metadata": {},
   "outputs": [],
   "source": [
    "input_obj = app.inputs()\n",
    "\n",
    "#input upload from url\n",
    "input_obj.upload_from_url(input_id = 'demo', image_url='https://samples.clarifai.com/metro-north.jpg')"
   ]
  },
  {
   "cell_type": "markdown",
   "id": "cbe882fe",
   "metadata": {},
   "source": [
    "### Listing Inputs"
   ]
  },
  {
   "cell_type": "code",
   "execution_count": null,
   "id": "336ff0c1",
   "metadata": {},
   "outputs": [],
   "source": [
    "inputs = input_obj.list_inputs()\n",
    "print(inputs)"
   ]
  },
  {
   "cell_type": "markdown",
   "id": "d3b0a145",
   "metadata": {},
   "source": [
    "## Delete Resources"
   ]
  },
  {
   "cell_type": "markdown",
   "id": "ba178076",
   "metadata": {},
   "source": [
    "### Deleting Inputs"
   ]
  },
  {
   "cell_type": "code",
   "execution_count": null,
   "id": "c994c00d",
   "metadata": {},
   "outputs": [],
   "source": [
    "input_obj.delete_inputs(inputs)"
   ]
  },
  {
   "cell_type": "markdown",
   "id": "d95d0589",
   "metadata": {},
   "source": [
    "### Deleting Dataset"
   ]
  },
  {
   "cell_type": "code",
   "execution_count": null,
   "id": "74cea02d",
   "metadata": {},
   "outputs": [],
   "source": [
    "app.delete_dataset(dataset_id=\"demo_dataset\")"
   ]
  },
  {
   "cell_type": "markdown",
   "id": "a5051a30",
   "metadata": {},
   "source": [
    "### Deleting App"
   ]
  },
  {
   "cell_type": "code",
   "execution_count": null,
   "id": "1fd286fb",
   "metadata": {},
   "outputs": [],
   "source": [
    "client.delete_app(app_id=\"demo_app\")"
   ]
  },
  {
   "cell_type": "markdown",
   "id": "66f7c3f9",
   "metadata": {},
   "source": [
    "## Clarifai Resources"
   ]
  },
  {
   "cell_type": "markdown",
   "id": "e83d01c6",
   "metadata": {},
   "source": [
    "**Website**: [https://www.clarifai.com](https://www.clarifai.com/)\n",
    "\n",
    "**Demo**: [https://clarifai.com/demo](https://clarifai.com/demo)\n",
    "\n",
    "**Sign up for a free Account**: [https://clarifai.com/signup](https://clarifai.com/signup)\n",
    "\n",
    "**Developer Guide**: [https://docs.clarifai.com](https://docs.clarifai.com/)\n",
    "\n",
    "**Clarifai Community**: [https://clarifai.com/explore](https://clarifai.com/explore)\n",
    "\n",
    "**Python SDK Docs**: [https://clarifai-python.readthedocs.io/en/latest/index.html](https://clarifai-python.readthedocs.io/en/latest/index.html)\n",
    "\n",
    "---"
   ]
  }
 ],
 "metadata": {
  "kernelspec": {
   "display_name": "Python 3 (ipykernel)",
   "language": "python",
   "name": "python3"
  },
  "language_info": {
   "codemirror_mode": {
    "name": "ipython",
    "version": 3
   },
   "file_extension": ".py",
   "mimetype": "text/x-python",
   "name": "python",
   "nbconvert_exporter": "python",
   "pygments_lexer": "ipython3",
   "version": "3.9.10"
  }
 },
 "nbformat": 4,
 "nbformat_minor": 5
}
