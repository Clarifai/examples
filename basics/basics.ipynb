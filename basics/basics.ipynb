{
 "cells": [
  {
   "cell_type": "markdown",
   "id": "5c742424",
   "metadata": {},
   "source": [
    "<td>\n",
    "   <a target=\"_blank\" href=\"https://www.clarifai.com/\" ><img src=\"https://upload.wikimedia.org/wikipedia/commons/b/bc/Clarifai_Logo_FC_Web.png\" width=256/></a>\n",
    "</td>"
   ]
  },
  {
   "cell_type": "markdown",
   "id": "c3b439c7",
   "metadata": {},
   "source": [
    "<td>\n",
    "<a href=\"https://colab.research.google.com/github/Clarifai/examples/blob/main/basics/basics.ipynb\" target=\"_blank\"><img\n",
    "src=\"https://colab.research.google.com/assets/colab-badge.svg\" alt=\"Colab\"></a>\n",
    "</td>"
   ]
  },
  {
   "cell_type": "markdown",
   "id": "89867234",
   "metadata": {},
   "source": [
    "# Basics\n",
    "\n",
    "The Clarifai Python SDK offers a comprehensive set of tools to integrate Clarifai's AI platform to leverage computer vision capabiities like classification , detection ,segementation and natural language capabilities like classification , summarisation , generation , Q&A ,etc into your applications. With just a few lines of code, you can leverage cutting-edge artificial intelligence to unlock valuable insights from visual and textual content.\n",
    "\n",
    "This notebook includes basic functionalities like\n",
    "- Creating Clarifai Resources(App, Datasets, Inputs, Model)\n",
    "- Interacting with Apps, Datasets, Inputs, Model\n",
    "- Patching App, Dataset, Inputs, Model\n",
    "- Deleting App, Dataset, Inputs, Model"
   ]
  },
  {
   "cell_type": "markdown",
   "id": "9cde4c58",
   "metadata": {},
   "source": [
    "## Requirements"
   ]
  },
  {
   "cell_type": "code",
   "execution_count": null,
   "id": "e4d9f747",
   "metadata": {},
   "outputs": [],
   "source": [
    "!pip install -U clarifai"
   ]
  },
  {
   "cell_type": "code",
   "execution_count": 1,
   "id": "c1a5ae2d",
   "metadata": {},
   "outputs": [],
   "source": [
    "import os\n",
    "#Replace your PAT\n",
    "os.environ['CLARIFAI_PAT'] = \"YOUR_PAT\""
   ]
  },
  {
   "cell_type": "markdown",
   "id": "b636e141",
   "metadata": {},
   "source": [
    "*Note: Guide to get your [PAT](https://docs.clarifai.com/clarifai-basics/authentication/personal-access-tokens)*"
   ]
  },
  {
   "cell_type": "markdown",
   "id": "e87a9c1b",
   "metadata": {},
   "source": [
    "## Getting User Client"
   ]
  },
  {
   "cell_type": "code",
   "execution_count": null,
   "id": "6ed0b112",
   "metadata": {},
   "outputs": [],
   "source": [
    "from clarifai.client.user import User\n",
    "#replace your \"user_id\"\n",
    "client = User(user_id=\"user_id\")"
   ]
  },
  {
   "cell_type": "markdown",
   "id": "baeb362b",
   "metadata": {},
   "source": [
    "## Interacting with App"
   ]
  },
  {
   "cell_type": "markdown",
   "id": "91028bc4",
   "metadata": {},
   "source": [
    "Applications are the basic building blocks for creating projects on the Clarifai platform. Your data, annotations, models, workflows, predictions, and searches are contained within applications. You can create as many applications as you want and edit or delete them as you see fit."
   ]
  },
  {
   "cell_type": "markdown",
   "id": "e69b57b9",
   "metadata": {},
   "source": [
    "### Creating App"
   ]
  },
  {
   "cell_type": "markdown",
   "id": "bc9d8b04",
   "metadata": {},
   "source": [
    "Base Workflow\n",
    "- Base workflows index your data and provide your app with a default knowledge base\n",
    "- For example, if you're training a custom model around text, you could choose the Language-Understanding as your Base Workflow to optimize your custom model performance.\n",
    "- You can choose one Base Workflow per app, and you can also change your base workflow once your app is created."
   ]
  },
  {
   "cell_type": "code",
   "execution_count": null,
   "id": "0d59c250",
   "metadata": {},
   "outputs": [],
   "source": [
    "#(Example Workflows: 'Universal', 'Empty', 'General')\n",
    "app = client.create_app(app_id=\"demo_app\", base_workflow=\"Universal\")"
   ]
  },
  {
   "cell_type": "markdown",
   "id": "13316d90",
   "metadata": {},
   "source": [
    "## Dataset"
   ]
  },
  {
   "cell_type": "markdown",
   "id": "77e3c177",
   "metadata": {},
   "source": [
    "A dataset is a collection of data examples you can use to annotate and train, test, evaluate your machine learning models. With Clarifai datasets, you can manage the datasets you want to use for visual search, training, and evaluation."
   ]
  },
  {
   "cell_type": "markdown",
   "id": "9bb59146",
   "metadata": {},
   "source": [
    "### Creating Dataset"
   ]
  },
  {
   "cell_type": "code",
   "execution_count": null,
   "id": "03206918",
   "metadata": {},
   "outputs": [],
   "source": [
    "dataset = app.create_dataset(dataset_id=\"demo_dataset\")"
   ]
  },
  {
   "cell_type": "markdown",
   "id": "10115bcc",
   "metadata": {},
   "source": [
    "## Inputs"
   ]
  },
  {
   "cell_type": "markdown",
   "id": "a380fae5",
   "metadata": {},
   "source": [
    "### Adding Inputs"
   ]
  },
  {
   "cell_type": "code",
   "execution_count": null,
   "id": "0f438a7c",
   "metadata": {},
   "outputs": [],
   "source": [
    "input_obj = app.inputs()\n",
    "\n",
    "#input upload from url\n",
    "input_obj.upload_from_url(input_id = 'demo', image_url='https://samples.clarifai.com/metro-north.jpg')"
   ]
  },
  {
   "cell_type": "markdown",
   "id": "cbe882fe",
   "metadata": {},
   "source": [
    "### Listing Inputs"
   ]
  },
  {
   "cell_type": "code",
   "execution_count": null,
   "id": "336ff0c1",
   "metadata": {},
   "outputs": [],
   "source": [
    "inputs_generator = input_obj.list_inputs(per_page=10, input_type='image')\n",
    "inputs = list(inputs_generator)\n",
    "print(inputs)"
   ]
  },
  {
   "cell_type": "markdown",
   "id": "15c06462",
   "metadata": {},
   "source": [
    "## Models"
   ]
  },
  {
   "cell_type": "markdown",
   "id": "1a3be9c2",
   "metadata": {},
   "source": [
    "### Creating Model"
   ]
  },
  {
   "cell_type": "code",
   "execution_count": null,
   "id": "0aa174ed",
   "metadata": {},
   "outputs": [],
   "source": [
    "model = app.create_model(model_id=\"demo_model\", model_type_id=\"MODEL_TYPE\")"
   ]
  },
  {
   "cell_type": "markdown",
   "id": "c2b12325",
   "metadata": {},
   "source": [
    "## Patch Resources"
   ]
  },
  {
   "cell_type": "markdown",
   "id": "0627fa16",
   "metadata": {},
   "source": [
    "### Patching App"
   ]
  },
  {
   "cell_type": "code",
   "execution_count": null,
   "id": "38fc1824",
   "metadata": {},
   "outputs": [],
   "source": [
    "client.patch_app(app_id=\"demo_app\", action=\"overwrite\", default_language=\"language\", description=\"description\", notes=\"notes\", image_url=\"https://samples.clarifai.com/metro-north.jpg\")"
   ]
  },
  {
   "cell_type": "markdown",
   "id": "d8a4bf37",
   "metadata": {},
   "source": [
    "**remove** action is only to remove the display image of the app"
   ]
  },
  {
   "cell_type": "code",
   "execution_count": null,
   "id": "77016472",
   "metadata": {},
   "outputs": [],
   "source": [
    "client.patch_app(app_id=\"demo_app\", action=\"remove\", image_url=\"https://samples.clarifai.com/metro-north.jpg\")"
   ]
  },
  {
   "cell_type": "markdown",
   "id": "5bf1b33d",
   "metadata": {},
   "source": [
    "### Patching Dataset"
   ]
  },
  {
   "cell_type": "code",
   "execution_count": null,
   "id": "dc687748",
   "metadata": {},
   "outputs": [],
   "source": [
    "app.patch_dataset(dataset_id=\"demo_dataset\", action=\"merge\", description=\"description\", notes=\"notes\", image_url=\"https://samples.clarifai.com/metro-north.jpg\")"
   ]
  },
  {
   "cell_type": "markdown",
   "id": "274a89d3",
   "metadata": {},
   "source": [
    "**remove** action is only to remove the display image of the dataset"
   ]
  },
  {
   "cell_type": "code",
   "execution_count": null,
   "id": "bfd5a333",
   "metadata": {},
   "outputs": [],
   "source": [
    "app.patch_dataset(dataset_id=\"demo_dataset\", action=\"remove\", image_url=\"https://samples.clarifai.com/metro-north.jpg\")"
   ]
  },
  {
   "cell_type": "markdown",
   "id": "957f4448",
   "metadata": {},
   "source": [
    "### Patching Inputs"
   ]
  },
  {
   "cell_type": "code",
   "execution_count": null,
   "id": "1ea2ff37",
   "metadata": {},
   "outputs": [],
   "source": [
    "from google.protobuf.struct_pb2 import Struct\n",
    "metadata = Struct()\n",
    "metadata.update({'split': 'test'})\n",
    "new_input = input_obj._get_proto(input_id='demo', metadata= metadata)\n",
    "input_obj.patch_inputs([new_input],action='merge')"
   ]
  },
  {
   "cell_type": "markdown",
   "id": "aef16a1e",
   "metadata": {},
   "source": [
    "### Patching Model"
   ]
  },
  {
   "cell_type": "code",
   "execution_count": null,
   "id": "6b8e2f57",
   "metadata": {},
   "outputs": [],
   "source": [
    "app.patch_model(model_id=\"demo_model\", description=\"description\", notes=\"notes\", toolkits=[\"toolkit\"], use_cases=[\"usecase\"], languages=[\"language\"], image_url=\"https://samples.clarifai.com/metro-north.jpg\")"
   ]
  },
  {
   "cell_type": "markdown",
   "id": "7f687e2c",
   "metadata": {},
   "source": [
    "**remove** action is only to remove the display image of the datamodelset"
   ]
  },
  {
   "cell_type": "code",
   "execution_count": null,
   "id": "e0a19739",
   "metadata": {},
   "outputs": [],
   "source": [
    "app.patch_model(model_id=\"demo_model\", action=\"remove\", image_url=\"https://samples.clarifai.com/metro-north.jpg\")"
   ]
  },
  {
   "cell_type": "markdown",
   "id": "d3b0a145",
   "metadata": {},
   "source": [
    "## Delete Resources"
   ]
  },
  {
   "cell_type": "markdown",
   "id": "c369f58f",
   "metadata": {},
   "source": [
    "### Deleting Model"
   ]
  },
  {
   "cell_type": "code",
   "execution_count": null,
   "id": "069f294e",
   "metadata": {},
   "outputs": [],
   "source": [
    "app.delete_model(model_id=\"demo_model\")"
   ]
  },
  {
   "cell_type": "markdown",
   "id": "ba178076",
   "metadata": {},
   "source": [
    "### Deleting Inputs"
   ]
  },
  {
   "cell_type": "code",
   "execution_count": null,
   "id": "c994c00d",
   "metadata": {},
   "outputs": [],
   "source": [
    "input_obj.delete_inputs(inputs)"
   ]
  },
  {
   "cell_type": "markdown",
   "id": "d95d0589",
   "metadata": {},
   "source": [
    "### Deleting Dataset"
   ]
  },
  {
   "cell_type": "code",
   "execution_count": null,
   "id": "74cea02d",
   "metadata": {},
   "outputs": [],
   "source": [
    "app.delete_dataset(dataset_id=\"demo_dataset\")"
   ]
  },
  {
   "cell_type": "markdown",
   "id": "a5051a30",
   "metadata": {},
   "source": [
    "### Deleting App"
   ]
  },
  {
   "cell_type": "code",
   "execution_count": null,
   "id": "1fd286fb",
   "metadata": {},
   "outputs": [],
   "source": [
    "client.delete_app(app_id=\"demo_app\")"
   ]
  },
  {
   "cell_type": "markdown",
   "id": "b4d923df",
   "metadata": {},
   "source": [
    "## Operations Using Different Base URL"
   ]
  },
  {
   "cell_type": "markdown",
   "id": "b5cdb0a4",
   "metadata": {},
   "source": [
    "The Clarifai Python SDK enables users to change the base url to seamlessly integrate with custom environments."
   ]
  },
  {
   "cell_type": "code",
   "execution_count": 12,
   "id": "93e0a27e",
   "metadata": {},
   "outputs": [],
   "source": [
    "from clarifai.client.user import User\n",
    "#replace your \"user_id\"\n",
    "client = User(user_id=\"USER_ID\",base_url=\"NEW_BASE_URL\",pat=\"YOUR_PAT\")"
   ]
  },
  {
   "cell_type": "markdown",
   "id": "73f48858",
   "metadata": {},
   "source": [
    "### Creating App"
   ]
  },
  {
   "cell_type": "code",
   "execution_count": null,
   "id": "276bd4c3",
   "metadata": {},
   "outputs": [],
   "source": [
    "app = client.create_app(app_id=\"demo_app\", base_workflow=\"Universal\")"
   ]
  },
  {
   "cell_type": "markdown",
   "id": "a5295aa7",
   "metadata": {},
   "source": [
    "### Creating Dataset"
   ]
  },
  {
   "cell_type": "code",
   "execution_count": null,
   "id": "8a4324a5",
   "metadata": {},
   "outputs": [],
   "source": [
    "dataset = app.create_dataset(dataset_id=\"demo_dataset\")"
   ]
  },
  {
   "cell_type": "markdown",
   "id": "fbef78f1",
   "metadata": {},
   "source": [
    "### Adding Inputs"
   ]
  },
  {
   "cell_type": "code",
   "execution_count": null,
   "id": "d8775f99",
   "metadata": {},
   "outputs": [],
   "source": [
    "input_obj = app.inputs()\n",
    "\n",
    "#input upload from url\n",
    "input_obj.upload_from_url(input_id = 'demo', image_url='https://samples.clarifai.com/metro-north.jpg')"
   ]
  },
  {
   "cell_type": "markdown",
   "id": "459678da",
   "metadata": {},
   "source": [
    "### Listing Inputs"
   ]
  },
  {
   "cell_type": "code",
   "execution_count": null,
   "id": "7006ef53",
   "metadata": {},
   "outputs": [],
   "source": [
    "inputs_generator = input_obj.list_inputs(per_page=10, input_type='image')\n",
    "inputs = list(inputs_generator)\n",
    "print(inputs)"
   ]
  },
  {
   "cell_type": "markdown",
   "id": "b0652501",
   "metadata": {},
   "source": [
    "### Creating Model"
   ]
  },
  {
   "cell_type": "code",
   "execution_count": null,
   "id": "6aba4abc",
   "metadata": {},
   "outputs": [],
   "source": [
    "model = app.create_model(model_id=\"demo_model\", model_type_id=\"MODEL_TYPE\")"
   ]
  },
  {
   "cell_type": "markdown",
   "id": "872906e4",
   "metadata": {},
   "source": [
    "### Patching App"
   ]
  },
  {
   "cell_type": "code",
   "execution_count": null,
   "id": "e666d419",
   "metadata": {},
   "outputs": [],
   "source": [
    "client.patch_app(app_id=\"demo_app\", action=\"overwrite\", default_language=\"language\", description=\"description\", notes=\"notes\", image_url=\"https://samples.clarifai.com/metro-north.jpg\")"
   ]
  },
  {
   "cell_type": "markdown",
   "id": "4ecf720d",
   "metadata": {},
   "source": [
    "### Patching Dataset"
   ]
  },
  {
   "cell_type": "code",
   "execution_count": null,
   "id": "294d72d3",
   "metadata": {},
   "outputs": [],
   "source": [
    "app.patch_dataset(dataset_id=\"demo_dataset\", action=\"merge\", description=\"description\", notes=\"notes\", image_url=\"https://samples.clarifai.com/metro-north.jpg\")"
   ]
  },
  {
   "cell_type": "markdown",
   "id": "b689db57",
   "metadata": {},
   "source": [
    "### Patching Inputs"
   ]
  },
  {
   "cell_type": "code",
   "execution_count": null,
   "id": "be9a28b7",
   "metadata": {},
   "outputs": [],
   "source": [
    "from google.protobuf.struct_pb2 import Struct\n",
    "metadata = Struct()\n",
    "metadata.update({'split': 'test'})\n",
    "new_input = input_obj._get_proto(input_id='demo', metadata= metadata)\n",
    "input_obj.patch_inputs([new_input],action='merge')"
   ]
  },
  {
   "cell_type": "markdown",
   "id": "afc8c253",
   "metadata": {},
   "source": [
    "### Patching Model"
   ]
  },
  {
   "cell_type": "code",
   "execution_count": null,
   "id": "b05b633e",
   "metadata": {},
   "outputs": [],
   "source": [
    "app.patch_model(model_id=\"demo_model\", description=\"description\", notes=\"notes\", toolkits=[\"toolkit\"], use_cases=[\"usecase\"], languages=[\"language\"], image_url=\"https://samples.clarifai.com/metro-north.jpg\")"
   ]
  },
  {
   "cell_type": "markdown",
   "id": "a318d77c",
   "metadata": {},
   "source": [
    "### Deleting Model"
   ]
  },
  {
   "cell_type": "code",
   "execution_count": null,
   "id": "8af55afb",
   "metadata": {},
   "outputs": [],
   "source": [
    "app.delete_model(model_id=\"demo_model\")"
   ]
  },
  {
   "cell_type": "markdown",
   "id": "cec8e76f",
   "metadata": {},
   "source": [
    "### Deleting Inputs"
   ]
  },
  {
   "cell_type": "code",
   "execution_count": null,
   "id": "003f083b",
   "metadata": {},
   "outputs": [],
   "source": [
    "input_obj.delete_inputs(inputs)"
   ]
  },
  {
   "cell_type": "markdown",
   "id": "157bab30",
   "metadata": {},
   "source": [
    "### Deleting Datasets"
   ]
  },
  {
   "cell_type": "code",
   "execution_count": null,
   "id": "d5b40c20",
   "metadata": {},
   "outputs": [],
   "source": [
    "app.delete_dataset(dataset_id=\"demo_dataset\")"
   ]
  },
  {
   "cell_type": "markdown",
   "id": "76c0d38e",
   "metadata": {},
   "source": [
    "### Deleting App"
   ]
  },
  {
   "cell_type": "code",
   "execution_count": null,
   "id": "7e2e154d",
   "metadata": {},
   "outputs": [],
   "source": [
    "client.delete_app(app_id=\"demo_app\")"
   ]
  },
  {
   "cell_type": "markdown",
   "id": "66f7c3f9",
   "metadata": {},
   "source": [
    "## Clarifai Resources"
   ]
  },
  {
   "cell_type": "markdown",
   "id": "e83d01c6",
   "metadata": {},
   "source": [
    "**Website**: [https://www.clarifai.com](https://www.clarifai.com/)\n",
    "\n",
    "**Demo**: [https://clarifai.com/demo](https://clarifai.com/demo)\n",
    "\n",
    "**Sign up for a free Account**: [https://clarifai.com/signup](https://clarifai.com/signup)\n",
    "\n",
    "**Developer Guide**: [https://docs.clarifai.com](https://docs.clarifai.com/)\n",
    "\n",
    "**Clarifai Community**: [https://clarifai.com/explore](https://clarifai.com/explore)\n",
    "\n",
    "**Python SDK Docs**: [https://docs.clarifai.com/python-sdk/api-reference](https://docs.clarifai.com/python-sdk/api-reference)\n",
    "\n",
    "---"
   ]
  }
 ],
 "metadata": {
  "kernelspec": {
   "display_name": "Python 3 (ipykernel)",
   "language": "python",
   "name": "python3"
  },
  "language_info": {
   "codemirror_mode": {
    "name": "ipython",
    "version": 3
   },
   "file_extension": ".py",
   "mimetype": "text/x-python",
   "name": "python",
   "nbconvert_exporter": "python",
   "pygments_lexer": "ipython3",
   "version": "3.9.10"
  }
 },
 "nbformat": 4,
 "nbformat_minor": 5
}
