{
 "cells": [
  {
   "cell_type": "markdown",
   "metadata": {},
   "source": [
    "<td>\n",
    "   <a target=\"_blank\" href=\"https://www.clarifai.com/\" ><img src=\"https://upload.wikimedia.org/wikipedia/commons/b/bc/Clarifai_Logo_FC_Web.png\" width=256/></a>\n",
    "</td>"
   ]
  },
  {
   "cell_type": "markdown",
   "metadata": {},
   "source": [
    "<td>\n",
    "<a href=\"https://colab.research.google.com/github/Clarifai/examples/blob/main/Data_Utils/Image Annotation/image_annotation_loader.ipynb\" target=\"_blank\"><img\n",
    "src=\"https://colab.research.google.com/assets/colab-badge.svg\" alt=\"Colab\"></a>\n",
    "</td>"
   ]
  },
  {
   "cell_type": "markdown",
   "metadata": {},
   "source": [
    "# Image Annotation Loader\n",
    "\n",
    "  - Load various annotated image datasets and upload to clarifai Platform.\n",
    "  - Convert from one annotation format to other supported annotation formats.\n",
    "\n",
    "\n",
    "This notebook contains\n",
    "- Examples of how to load different annotation formats and convert to dataset loader and uploading into the platform."
   ]
  },
  {
   "cell_type": "markdown",
   "metadata": {},
   "source": [
    "Refer to the clarifai-datautils repo for more info: https://github.com/Clarifai/clarifai-python-datautils"
   ]
  },
  {
   "cell_type": "markdown",
   "metadata": {},
   "source": [
    "# Table of Contents\n",
    "* [Requirements](#requirements)\n",
    "\n",
    "* [Image Classification](#image_classification)\n",
    "    * [Imagenet](#imagenet)\n",
    "    * [Cifar10](#cifar)\n",
    "* [Image Detection](#image_detection)\n",
    "    * [VOC](#voc)\n",
    "    * [COCO](#coco)\n",
    "    * [YOLO](#yolo)\n",
    "* [Image Segmentation](#image_segmentation)\n",
    "    * [ADE20K](#ade)\n",
    "    * [COCO Segmentation](#coco_segmentation)\n",
    "\n",
    "* [Kaggle Example](#kaggle_example)\n",
    "* [Export from Clarifai to other formats](#export_annotation)\n",
    "\n",
    "* [Optional: Convert between supported formats(Non-Clarifai)](#optional)\n",
    " "
   ]
  },
  {
   "cell_type": "markdown",
   "metadata": {},
   "source": [
    "## Requirements <a id=\"requirements\"></a>"
   ]
  },
  {
   "cell_type": "markdown",
   "metadata": {},
   "source": [
    "### Installing clarifai-datautils  "
   ]
  },
  {
   "cell_type": "code",
   "execution_count": null,
   "metadata": {},
   "outputs": [],
   "source": [
    "!pip install clarifai-datautils"
   ]
  },
  {
   "cell_type": "markdown",
   "metadata": {},
   "source": [
    "### Installing Clarifai SDK  "
   ]
  },
  {
   "cell_type": "code",
   "execution_count": null,
   "metadata": {},
   "outputs": [],
   "source": [
    "!pip install -U clarifai"
   ]
  },
  {
   "cell_type": "code",
   "execution_count": 3,
   "metadata": {},
   "outputs": [],
   "source": [
    "import os\n",
    "#Replace your PAT\n",
    "os.environ['CLARIFAI_PAT'] = \"PAT\""
   ]
  },
  {
   "cell_type": "markdown",
   "metadata": {},
   "source": [
    "*Note: Guide to get your [PAT](https://docs.clarifai.com/clarifai-basics/authentication/personal-access-tokens)*"
   ]
  },
  {
   "cell_type": "markdown",
   "metadata": {},
   "source": [
    "### For Colab\n",
    "\n",
    "Note: To use the data from the example repo itself"
   ]
  },
  {
   "cell_type": "code",
   "execution_count": null,
   "metadata": {},
   "outputs": [],
   "source": [
    "!git clone https://github.com/Clarifai/examples.git\n",
    "%cd examples/datasets/upload/"
   ]
  },
  {
   "cell_type": "markdown",
   "metadata": {},
   "source": [
    "## Importing Image Annotation  <a id=\"import_imageannotation\"></a>"
   ]
  },
  {
   "cell_type": "code",
   "execution_count": null,
   "metadata": {
    "scrolled": true
   },
   "outputs": [],
   "source": [
    "from clarifai_datautils.image import ImageAnnotations"
   ]
  },
  {
   "cell_type": "markdown",
   "metadata": {},
   "source": [
    "## Dataset Interface <a id=\"import_imageannotation\"></a>"
   ]
  },
  {
   "cell_type": "code",
   "execution_count": 5,
   "metadata": {},
   "outputs": [],
   "source": [
    "from clarifai.client.dataset import Dataset\n",
    "#replace your \"user_id\", \"app_id\", \"dataset_id\".\n",
    "dataset = Dataset(user_id=\"user_id\", app_id=\"app_id\", dataset_id=\"dataset_id\")"
   ]
  },
  {
   "cell_type": "markdown",
   "metadata": {},
   "source": [
    "## Image Classification  <a id=\"image_classification\"></a>"
   ]
  },
  {
   "cell_type": "markdown",
   "metadata": {},
   "source": [
    "### Imagenet    <a id=\"imagenet\"></a>"
   ]
  },
  {
   "cell_type": "markdown",
   "metadata": {},
   "source": [
    "Import from folder"
   ]
  },
  {
   "cell_type": "code",
   "execution_count": null,
   "metadata": {},
   "outputs": [],
   "source": [
    "FOLDER_PATH = './assets/annotation_formats/imagenet'\n",
    "FORMAT = 'imagenet'\n",
    "imagenet_dataset = ImageAnnotations.import_from(path= FOLDER_PATH,format = FORMAT) #import"
   ]
  },
  {
   "cell_type": "code",
   "execution_count": 7,
   "metadata": {},
   "outputs": [
    {
     "name": "stdout",
     "output_type": "stream",
     "text": [
      "Dataset\n",
      "\tsize=19\n",
      "\tsource_path=./assets/annotation_formats/imagenet\n",
      "\tannotated_items_count=19\n",
      "\tannotations_count=19\n",
      "subsets\n",
      "\tdefault: # of items=19, # of annotated items=19, # of annotations=19, annotation types=['label']\n",
      "infos\n",
      "\tcategories\n",
      "\tlabel: ['bullfrog', 'goldfish', 'kingsnake', 'llama', 'tench']\n",
      "\n"
     ]
    }
   ],
   "source": [
    "#get info about the dataset\n",
    "print(imagenet_dataset)"
   ]
  },
  {
   "cell_type": "markdown",
   "metadata": {},
   "source": [
    "Upload to Clarifai"
   ]
  },
  {
   "cell_type": "code",
   "execution_count": null,
   "metadata": {},
   "outputs": [],
   "source": [
    "dataset.upload_dataset(dataloader=imagenet_dataset.dataloader)"
   ]
  },
  {
   "cell_type": "markdown",
   "metadata": {},
   "source": [
    "### CIFAR10  <a id=\"cifar\"></a>"
   ]
  },
  {
   "cell_type": "markdown",
   "metadata": {},
   "source": [
    "Import from folder"
   ]
  },
  {
   "cell_type": "code",
   "execution_count": 9,
   "metadata": {},
   "outputs": [],
   "source": [
    "FOLDER_PATH = './assets/annotation_formats/cifar-10'\n",
    "FORMAT = 'cifar'\n",
    "cifar_dataset = ImageAnnotations.import_from(path= FOLDER_PATH,format = FORMAT) #import"
   ]
  },
  {
   "cell_type": "code",
   "execution_count": 10,
   "metadata": {},
   "outputs": [
    {
     "name": "stdout",
     "output_type": "stream",
     "text": [
      "Dataset\n",
      "\tsize=60000\n",
      "\tsource_path=./assets/annotation_formats/cifar-10\n",
      "\tannotated_items_count=60000\n",
      "\tannotations_count=60000\n",
      "subsets\n",
      "\tdata_batch_1: # of items=10000, # of annotated items=10000, # of annotations=10000, annotation types=['label']\n",
      "\tdata_batch_2: # of items=10000, # of annotated items=10000, # of annotations=10000, annotation types=['label']\n",
      "\tdata_batch_3: # of items=10000, # of annotated items=10000, # of annotations=10000, annotation types=['label']\n",
      "\tdata_batch_4: # of items=10000, # of annotated items=10000, # of annotations=10000, annotation types=['label']\n",
      "\tdata_batch_5: # of items=10000, # of annotated items=10000, # of annotations=10000, annotation types=['label']\n",
      "\ttest_batch: # of items=10000, # of annotated items=10000, # of annotations=10000, annotation types=['label']\n",
      "infos\n",
      "\tcategories\n",
      "\tlabel: ['airplane', 'automobile', 'bird', 'cat', 'deer', 'dog', 'frog', 'horse', 'ship', 'truck']\n",
      "\n"
     ]
    }
   ],
   "source": [
    "#get info about the dataset\n",
    "print(cifar_dataset)"
   ]
  },
  {
   "cell_type": "markdown",
   "metadata": {},
   "source": [
    "Upload to Clarifai"
   ]
  },
  {
   "cell_type": "code",
   "execution_count": null,
   "metadata": {},
   "outputs": [],
   "source": [
    "dataset.upload_dataset(dataloader=cifar_dataset.dataloader)"
   ]
  },
  {
   "cell_type": "markdown",
   "metadata": {},
   "source": [
    "## Image Detection    <a id=\"image_detection\"></a>"
   ]
  },
  {
   "cell_type": "markdown",
   "metadata": {},
   "source": [
    "### VOC    <a id=\"voc\"></a>"
   ]
  },
  {
   "cell_type": "markdown",
   "metadata": {},
   "source": [
    "Import from folder"
   ]
  },
  {
   "cell_type": "code",
   "execution_count": 13,
   "metadata": {},
   "outputs": [],
   "source": [
    "FOLDER_PATH = './assets/annotation_formats/voc_dataset'\n",
    "FORMAT = 'voc_detection'\n",
    "voc_dataset = ImageAnnotations.import_from(path= FOLDER_PATH,format = FORMAT) #import"
   ]
  },
  {
   "cell_type": "code",
   "execution_count": 14,
   "metadata": {},
   "outputs": [
    {
     "name": "stdout",
     "output_type": "stream",
     "text": [
      "Dataset\n",
      "\tsize=5\n",
      "\tsource_path=./assets/annotation_formats/voc_dataset\n",
      "\tannotated_items_count=5\n",
      "\tannotations_count=11\n",
      "subsets\n",
      "\ttrain2017: # of items=5, # of annotated items=5, # of annotations=11, annotation types=['bbox']\n",
      "infos\n",
      "\tcategories\n",
      "\tlabel: ['background', 'aeroplane', 'bicycle', 'bird', 'boat', 'bottle', 'bus', 'car', 'cat', 'chair', 'cow', 'diningtable', 'dog', 'horse', 'motorbike', 'person', 'pottedplant', 'sheep', 'sofa', 'train', 'tvmonitor', 'ignored']\n",
      "\n"
     ]
    }
   ],
   "source": [
    "#get info about the dataset\n",
    "print(voc_dataset)"
   ]
  },
  {
   "cell_type": "markdown",
   "metadata": {},
   "source": [
    "Upload to Clarifai"
   ]
  },
  {
   "cell_type": "code",
   "execution_count": null,
   "metadata": {},
   "outputs": [],
   "source": [
    "dataset.upload_dataset(dataloader=voc_dataset.dataloader)"
   ]
  },
  {
   "cell_type": "markdown",
   "metadata": {},
   "source": [
    "### COCO      <a id=\"coco\"></a>"
   ]
  },
  {
   "cell_type": "markdown",
   "metadata": {},
   "source": [
    "Import from folder"
   ]
  },
  {
   "cell_type": "code",
   "execution_count": 16,
   "metadata": {},
   "outputs": [],
   "source": [
    "FOLDER_PATH = './assets/annotation_formats/coco'\n",
    "FORMAT = 'coco_detection'\n",
    "coco_dataset = ImageAnnotations.import_from(path= FOLDER_PATH,format = FORMAT) #import"
   ]
  },
  {
   "cell_type": "code",
   "execution_count": 17,
   "metadata": {},
   "outputs": [
    {
     "name": "stdout",
     "output_type": "stream",
     "text": [
      "Dataset\n",
      "\tsize=10\n",
      "\tsource_path=./assets/annotation_formats/coco\n",
      "\tannotated_items_count=10\n",
      "\tannotations_count=160\n",
      "subsets\n",
      "\tval2017_subset: # of items=10, # of annotated items=10, # of annotations=160, annotation types=['polygon', 'mask', 'bbox']\n",
      "infos\n",
      "\tcategories\n",
      "\tlabel: ['person', 'bicycle', 'car', 'motorcycle', 'airplane', 'bus', 'train', 'truck', 'boat', 'traffic light', 'fire hydrant', 'stop sign', 'parking meter', 'bench', 'bird', 'cat', 'dog', 'horse', 'sheep', 'cow', 'elephant', 'bear', 'zebra', 'giraffe', 'backpack', 'umbrella', 'handbag', 'tie', 'suitcase', 'frisbee', 'skis', 'snowboard', 'sports ball', 'kite', 'baseball bat', 'baseball glove', 'skateboard', 'surfboard', 'tennis racket', 'bottle', 'wine glass', 'cup', 'fork', 'knife', 'spoon', 'bowl', 'banana', 'apple', 'sandwich', 'orange', 'broccoli', 'carrot', 'hot dog', 'pizza', 'donut', 'cake', 'chair', 'couch', 'potted plant', 'bed', 'dining table', 'toilet', 'tv', 'laptop', 'mouse', 'remote', 'keyboard', 'cell phone', 'microwave', 'oven', 'toaster', 'sink', 'refrigerator', 'book', 'clock', 'vase', 'scissors', 'teddy bear', 'hair drier', 'toothbrush']\n",
      "\n"
     ]
    }
   ],
   "source": [
    "#get info about the dataset\n",
    "print(coco_dataset)"
   ]
  },
  {
   "cell_type": "markdown",
   "metadata": {},
   "source": [
    "Upload to Clarifai"
   ]
  },
  {
   "cell_type": "code",
   "execution_count": null,
   "metadata": {},
   "outputs": [],
   "source": [
    "dataset.upload_dataset(dataloader=coco_dataset.dataloader)"
   ]
  },
  {
   "cell_type": "markdown",
   "metadata": {},
   "source": [
    "### YOLO      <a id=\"yolo\"></a>"
   ]
  },
  {
   "cell_type": "markdown",
   "metadata": {},
   "source": [
    "Import from folder"
   ]
  },
  {
   "cell_type": "code",
   "execution_count": 20,
   "metadata": {},
   "outputs": [],
   "source": [
    "FOLDER_PATH = './assets/annotation_formats/yolo_dataset'\n",
    "FORMAT = 'yolo'\n",
    "yolo_dataset = ImageAnnotations.import_from(path= FOLDER_PATH,format = FORMAT) #import"
   ]
  },
  {
   "cell_type": "code",
   "execution_count": 21,
   "metadata": {},
   "outputs": [
    {
     "name": "stdout",
     "output_type": "stream",
     "text": [
      "Dataset\n",
      "\tsize=10\n",
      "\tsource_path=./assets/annotation_formats/yolo_dataset\n",
      "\tannotated_items_count=10\n",
      "\tannotations_count=77\n",
      "subsets\n",
      "\tval2017_subset: # of items=10, # of annotated items=10, # of annotations=77, annotation types=['bbox']\n",
      "infos\n",
      "\tcategories\n",
      "\tlabel: ['person', 'bicycle', 'car', 'motorcycle', 'airplane', 'bus', 'train', 'truck', 'boat', 'traffic light', 'fire hydrant', 'stop sign', 'parking meter', 'bench', 'bird', 'cat', 'dog', 'horse', 'sheep', 'cow', 'elephant', 'bear', 'zebra', 'giraffe', 'backpack', 'umbrella', 'handbag', 'tie', 'suitcase', 'frisbee', 'skis', 'snowboard', 'sports ball', 'kite', 'baseball bat', 'baseball glove', 'skateboard', 'surfboard', 'tennis racket', 'bottle', 'wine glass', 'cup', 'fork', 'knife', 'spoon', 'bowl', 'banana', 'apple', 'sandwich', 'orange', 'broccoli', 'carrot', 'hot dog', 'pizza', 'donut', 'cake', 'chair', 'couch', 'potted plant', 'bed', 'dining table', 'toilet', 'tv', 'laptop', 'mouse', 'remote', 'keyboard', 'cell phone', 'microwave', 'oven', 'toaster', 'sink', 'refrigerator', 'book', 'clock', 'vase', 'scissors', 'teddy bear', 'hair drier', 'toothbrush']\n",
      "\n"
     ]
    }
   ],
   "source": [
    "#get info about the dataset\n",
    "print(yolo_dataset)"
   ]
  },
  {
   "cell_type": "markdown",
   "metadata": {},
   "source": [
    "Upload to Clarifai"
   ]
  },
  {
   "cell_type": "code",
   "execution_count": null,
   "metadata": {},
   "outputs": [],
   "source": [
    "dataset.upload_dataset(dataloader=yolo_dataset.dataloader)"
   ]
  },
  {
   "cell_type": "markdown",
   "metadata": {},
   "source": [
    "## Image Segmentation      <a id=\"image_segmentation\"></a>"
   ]
  },
  {
   "cell_type": "markdown",
   "metadata": {},
   "source": [
    "### ADE20K     <a id=\"ade\"></a>"
   ]
  },
  {
   "cell_type": "markdown",
   "metadata": {},
   "source": [
    "Import from folder"
   ]
  },
  {
   "cell_type": "code",
   "execution_count": 24,
   "metadata": {},
   "outputs": [],
   "source": [
    "FOLDER_PATH = './assets/annotation_formats/ade2017'\n",
    "FORMAT = 'ade20k2017'\n",
    "ade_dataset = ImageAnnotations.import_from(path= FOLDER_PATH,format = FORMAT) #import"
   ]
  },
  {
   "cell_type": "code",
   "execution_count": 25,
   "metadata": {},
   "outputs": [
    {
     "name": "stdout",
     "output_type": "stream",
     "text": [
      "Dataset\n",
      "\tsize=5\n",
      "\tsource_path=./assets/annotation_formats/ade2017\n",
      "\tannotated_items_count=5\n",
      "\tannotations_count=133\n",
      "subsets\n",
      "\tdataset: # of items=5, # of annotated items=5, # of annotations=133, annotation types=['mask']\n",
      "infos\n",
      "\tcategories\n",
      "\tlabel: ['sky', 'building', 'tree', 'arch', 'window', 'roof', 'control tower', 'mountain', 'dome', 'airplane', 'buildings', 'car', 'box', 'runway', 'street light', 'cart', 'person', 'wheel', 'stabilizer', 'fuselage', 'steering wheel', 'seat', 'wing', 'turbine engine', 'door', 'cockpit', 'trailer', 'sign', 'road', 'bench', 'wall', 'floor', 'ceiling', 'picture', 'air vent', 'ceiling spotlight', 'wall spotlight', 'ground', 'stone', 'sand', 'plant', 'rock', 'head']\n",
      "\n"
     ]
    }
   ],
   "source": [
    "#get info about the dataset\n",
    "print(ade_dataset)"
   ]
  },
  {
   "cell_type": "markdown",
   "metadata": {},
   "source": [
    "Upload to Clarifai"
   ]
  },
  {
   "cell_type": "code",
   "execution_count": null,
   "metadata": {},
   "outputs": [],
   "source": [
    "dataset.upload_dataset(dataloader=ade_dataset.dataloader)"
   ]
  },
  {
   "cell_type": "markdown",
   "metadata": {},
   "source": [
    "### COCO Segmentation  <a id=\"coco_segmentation\"></a>"
   ]
  },
  {
   "cell_type": "markdown",
   "metadata": {},
   "source": [
    "Import from folder"
   ]
  },
  {
   "cell_type": "code",
   "execution_count": 28,
   "metadata": {},
   "outputs": [],
   "source": [
    "FOLDER_PATH = './assets/annotation_formats/coco'\n",
    "FORMAT = 'coco_segmentation'\n",
    "coco_seg_dataset = ImageAnnotations.import_from(path= FOLDER_PATH,format = FORMAT) #import"
   ]
  },
  {
   "cell_type": "code",
   "execution_count": 29,
   "metadata": {},
   "outputs": [
    {
     "name": "stdout",
     "output_type": "stream",
     "text": [
      "Dataset\n",
      "\tsize=10\n",
      "\tsource_path=./assets/annotation_formats/coco\n",
      "\tannotated_items_count=10\n",
      "\tannotations_count=160\n",
      "subsets\n",
      "\tval2017_subset: # of items=10, # of annotated items=10, # of annotations=160, annotation types=['polygon', 'mask', 'bbox']\n",
      "infos\n",
      "\tcategories\n",
      "\tlabel: ['person', 'bicycle', 'car', 'motorcycle', 'airplane', 'bus', 'train', 'truck', 'boat', 'traffic light', 'fire hydrant', 'stop sign', 'parking meter', 'bench', 'bird', 'cat', 'dog', 'horse', 'sheep', 'cow', 'elephant', 'bear', 'zebra', 'giraffe', 'backpack', 'umbrella', 'handbag', 'tie', 'suitcase', 'frisbee', 'skis', 'snowboard', 'sports ball', 'kite', 'baseball bat', 'baseball glove', 'skateboard', 'surfboard', 'tennis racket', 'bottle', 'wine glass', 'cup', 'fork', 'knife', 'spoon', 'bowl', 'banana', 'apple', 'sandwich', 'orange', 'broccoli', 'carrot', 'hot dog', 'pizza', 'donut', 'cake', 'chair', 'couch', 'potted plant', 'bed', 'dining table', 'toilet', 'tv', 'laptop', 'mouse', 'remote', 'keyboard', 'cell phone', 'microwave', 'oven', 'toaster', 'sink', 'refrigerator', 'book', 'clock', 'vase', 'scissors', 'teddy bear', 'hair drier', 'toothbrush']\n",
      "\n"
     ]
    }
   ],
   "source": [
    "#get info about the dataset\n",
    "print(coco_seg_dataset)"
   ]
  },
  {
   "cell_type": "markdown",
   "metadata": {},
   "source": [
    "Upload to Clarifai"
   ]
  },
  {
   "cell_type": "code",
   "execution_count": null,
   "metadata": {
    "scrolled": true
   },
   "outputs": [],
   "source": [
    "dataset.upload_dataset(dataloader=coco_seg_dataset.dataloader)"
   ]
  },
  {
   "cell_type": "markdown",
   "metadata": {},
   "source": [
    "## Upload from Kaggle Dataset    <a id=\"kaggle_example\"></a>"
   ]
  },
  {
   "cell_type": "markdown",
   "metadata": {},
   "source": [
    " Kaggle dataset download"
   ]
  },
  {
   "cell_type": "code",
   "execution_count": 40,
   "metadata": {},
   "outputs": [],
   "source": [
    "#install opendatasets to download from kaggle URL\n",
    "!pip install -q opendatasets"
   ]
  },
  {
   "cell_type": "code",
   "execution_count": 48,
   "metadata": {},
   "outputs": [
    {
     "name": "stdout",
     "output_type": "stream",
     "text": [
      "Please provide your Kaggle credentials to download this dataset. Learn more: http://bit.ly/kaggle-creds\n",
      "Your Kaggle username: sanjaychelliah\n",
      "Your Kaggle Key: ········\n",
      "Downloading dogs-vs-wolves.zip to ./dogs-vs-wolves\n"
     ]
    },
    {
     "name": "stderr",
     "output_type": "stream",
     "text": [
      "100%|███████████████████████████████████████████████████████████████████████████████████████████████| 222M/222M [00:38<00:00, 6.05MB/s]\n"
     ]
    },
    {
     "name": "stdout",
     "output_type": "stream",
     "text": [
      "\n"
     ]
    }
   ],
   "source": [
    "import opendatasets as od\n",
    "\n",
    "# insert your kaggle username and key\n",
    "od.download('https://www.kaggle.com/datasets/harishvutukuri/dogs-vs-wolves')"
   ]
  },
  {
   "cell_type": "markdown",
   "metadata": {},
   "source": [
    "Import from folder"
   ]
  },
  {
   "cell_type": "code",
   "execution_count": 49,
   "metadata": {},
   "outputs": [],
   "source": [
    "FOLDER_PATH = './dogs-vs-wolves/data/'\n",
    "FORMAT = 'imagenet'\n",
    "kaggle_imagenet_dataset = ImageAnnotations.import_from(path= FOLDER_PATH,format = FORMAT) #import"
   ]
  },
  {
   "cell_type": "code",
   "execution_count": 50,
   "metadata": {},
   "outputs": [
    {
     "name": "stdout",
     "output_type": "stream",
     "text": [
      "Dataset\n",
      "\tsize=2000\n",
      "\tsource_path=./dogs-vs-wolves/data/\n",
      "\tannotated_items_count=2000\n",
      "\tannotations_count=2000\n",
      "subsets\n",
      "\tdefault: # of items=2000, # of annotated items=2000, # of annotations=2000, annotation types=['label']\n",
      "infos\n",
      "\tcategories\n",
      "\tlabel: ['dogs', 'wolves']\n",
      "\n"
     ]
    }
   ],
   "source": [
    "#get info about the dataset\n",
    "print(kaggle_imagenet_dataset)"
   ]
  },
  {
   "cell_type": "markdown",
   "metadata": {},
   "source": [
    "Upload to Clarifai"
   ]
  },
  {
   "cell_type": "code",
   "execution_count": null,
   "metadata": {},
   "outputs": [],
   "source": [
    "dataset.upload_dataset(dataloader=kaggle_imagenet_dataset.dataloader)"
   ]
  },
  {
   "cell_type": "markdown",
   "metadata": {},
   "source": [
    "# Export Clarifai to Other Formats  <a id=\"export_annotation\"></a>"
   ]
  },
  {
   "cell_type": "markdown",
   "metadata": {},
   "source": [
    "## Import Clarifai Dataset"
   ]
  },
  {
   "cell_type": "code",
   "execution_count": null,
   "metadata": {},
   "outputs": [],
   "source": [
    "from clarifai_datautils.image import ImageAnnotations\n",
    "clarifai_dataset = ImageAnnotations.import_from(path='folder_path',format= 'clarifai')\n",
    "print(clarifai_dataset)"
   ]
  },
  {
   "cell_type": "markdown",
   "metadata": {},
   "source": [
    "## Export to COCO Format    <a id=\"coco\"></a>"
   ]
  },
  {
   "cell_type": "markdown",
   "metadata": {},
   "source": [
    "**save_images** param will save the images too."
   ]
  },
  {
   "cell_type": "code",
   "execution_count": 18,
   "metadata": {},
   "outputs": [],
   "source": [
    "clarifai_dataset.export_to(path='./clarifai_to_coco',format='coco_detection',save_images=True)"
   ]
  },
  {
   "cell_type": "markdown",
   "metadata": {},
   "source": [
    "## Optional: Convert between supported formats       <a id=\"optional\"></a>"
   ]
  },
  {
   "cell_type": "markdown",
   "metadata": {},
   "source": [
    "Import from COCO format"
   ]
  },
  {
   "cell_type": "code",
   "execution_count": null,
   "metadata": {},
   "outputs": [],
   "source": [
    "IMPORT_FOLDER_PATH = './assets/annotation_formats/coco'\n",
    "IMPORT_FORMAT = 'coco_detection'\n",
    "coco_dataset = ImageAnnotations.import_from(path= IMPORT_FOLDER_PATH,format = IMPORT_FORMAT)"
   ]
  },
  {
   "cell_type": "markdown",
   "metadata": {},
   "source": [
    "Export to VOC format"
   ]
  },
  {
   "cell_type": "code",
   "execution_count": null,
   "metadata": {},
   "outputs": [],
   "source": [
    "EXPORT_FOLDER_PATH = './assets/annotation_formats/coco2voc'\n",
    "EXPORT_FORMAT = 'voc_detection'\n",
    "coco_dataset.export_to(EXPORT_FOLDER_PATH,EXPORT_FORMAT)"
   ]
  },
  {
   "cell_type": "markdown",
   "metadata": {},
   "source": [
    "## Clarifai Resources"
   ]
  },
  {
   "cell_type": "markdown",
   "metadata": {},
   "source": [
    "**Website**: [https://www.clarifai.com](https://www.clarifai.com/)\n",
    "\n",
    "**Demo**: [https://clarifai.com/demo](https://clarifai.com/demo)\n",
    "\n",
    "**Sign up for a free Account**: [https://clarifai.com/signup](https://clarifai.com/signup)\n",
    "\n",
    "**Developer Guide**: [https://docs.clarifai.com](https://docs.clarifai.com/)\n",
    "\n",
    "**Clarifai Community**: [https://clarifai.com/explore](https://clarifai.com/explore)\n",
    "\n",
    "**Python SDK Docs**: [https://docs.clarifai.com/python-sdk/api-reference](https://docs.clarifai.com/python-sdk/api-reference)\n",
    "\n",
    "---"
   ]
  }
 ],
 "metadata": {
  "kernelspec": {
   "display_name": "Python 3 (ipykernel)",
   "language": "python",
   "name": "python3"
  },
  "language_info": {
   "codemirror_mode": {
    "name": "ipython",
    "version": 3
   },
   "file_extension": ".py",
   "mimetype": "text/x-python",
   "name": "python",
   "nbconvert_exporter": "python",
   "pygments_lexer": "ipython3",
   "version": "3.9.10"
  }
 },
 "nbformat": 4,
 "nbformat_minor": 2
}
