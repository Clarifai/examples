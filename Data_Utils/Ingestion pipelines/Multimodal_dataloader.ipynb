{
 "cells": [
  {
   "cell_type": "markdown",
   "metadata": {},
   "source": [
    "<td>\n",
    "   <a target=\"_blank\" href=\"https://www.clarifai.com/\" ><img src=\"https://upload.wikimedia.org/wikipedia/commons/b/bc/Clarifai_Logo_FC_Web.png\" width=256/></a>\n",
    "</td>"
   ]
  },
  {
   "cell_type": "markdown",
   "metadata": {},
   "source": [
    "### Multimodal Dataloader"
   ]
  },
  {
   "cell_type": "markdown",
   "metadata": {},
   "source": [
    "Install necessary dependancies"
   ]
  },
  {
   "cell_type": "code",
   "execution_count": null,
   "metadata": {
    "vscode": {
     "languageId": "plaintext"
    }
   },
   "outputs": [],
   "source": [
    "!pip install clarifai-datautils==0.0.4\n",
    "!pip install 'unstructured[pdf]'\n",
    "!pip install opencv-python-headless"
   ]
  },
  {
   "cell_type": "code",
   "execution_count": null,
   "metadata": {
    "vscode": {
     "languageId": "plaintext"
    }
   },
   "outputs": [],
   "source": [
    "!sudo apt-get update\n",
    "!sudo apt-get install -y poppler-utils tesseract-ocr libgl1-mesa-glx"
   ]
  },
  {
   "cell_type": "code",
   "execution_count": null,
   "metadata": {
    "vscode": {
     "languageId": "plaintext"
    }
   },
   "outputs": [],
   "source": [
    "import nltk\n",
    "nltk.download('punkt_tab')\n",
    "nltk.download('averaged_perceptron_tagger_eng')"
   ]
  },
  {
   "cell_type": "markdown",
   "metadata": {},
   "source": [
    "Import necessary functions\n",
    "- You can include more extractors and cleaners as per your wish in the pipeline.\n",
    "- Make sure thge Partition function is initialised first in the pipeline"
   ]
  },
  {
   "cell_type": "code",
   "execution_count": null,
   "metadata": {
    "vscode": {
     "languageId": "plaintext"
    }
   },
   "outputs": [],
   "source": [
    "from clarifai_datautils.multimodal import Pipeline\n",
    "from clarifai_datautils.multimodal.pipeline.cleaners import Clean_extra_whitespace\n",
    "from clarifai_datautils.multimodal.pipeline.extractors import ExtractEmailAddress\n",
    "from clarifai_datautils.multimodal.pipeline.PDF import PDFPartitionMultimodal"
   ]
  },
  {
   "cell_type": "markdown",
   "metadata": {},
   "source": [
    "Setting `Loader=False` will return the transformed chunks as elements"
   ]
  },
  {
   "cell_type": "code",
   "execution_count": null,
   "metadata": {
    "vscode": {
     "languageId": "plaintext"
    }
   },
   "outputs": [],
   "source": [
    "pipeline = Pipeline(\n",
    "        name='YOUR_PIPELINE_NAME',\n",
    "        transformations=[\n",
    "            PDFPartitionMultimodal(chunking_strategy=\"by_title\", max_characters=1024),\n",
    "            Clean_extra_whitespace(),\n",
    "            ExtractEmailAddress()\n",
    "        ])\n",
    "\n",
    "\n",
    "elements = pipeline.run(files=\"/workspaces/dataloader-test/Multimodal_sample_file.pdf\", loader=False)\n",
    "elements"
   ]
  },
  {
   "cell_type": "markdown",
   "metadata": {},
   "source": [
    "### Ingesting into Clarifai App"
   ]
  },
  {
   "cell_type": "code",
   "execution_count": null,
   "metadata": {
    "vscode": {
     "languageId": "plaintext"
    }
   },
   "outputs": [],
   "source": [
    "# Using SDK to upload\n",
    "from clarifai.client import Dataset\n",
    "dataset = Dataset(url='YOUR_DATASET_URL', pat='CLARIFAI_PAT')\n",
    "dataset.upload_dataset(pipeline.run(files=\"YOUR_PDF_FILE\", loader=True))"
   ]
  }
 ],
 "metadata": {
  "language_info": {
   "name": "python"
  }
 },
 "nbformat": 4,
 "nbformat_minor": 2
}
