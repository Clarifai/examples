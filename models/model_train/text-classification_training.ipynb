{
 "cells": [
  {
   "cell_type": "markdown",
   "id": "00024d19",
   "metadata": {},
   "source": [
    "<td>\n",
    "   <a target=\"_blank\" href=\"https://www.clarifai.com/\" ><img src=\"https://upload.wikimedia.org/wikipedia/commons/b/bc/Clarifai_Logo_FC_Web.png\" width=256/></a>\n",
    "</td>"
   ]
  },
  {
   "cell_type": "markdown",
   "id": "4da69603",
   "metadata": {},
   "source": [
    "<td>\n",
    "<a href=\"https://colab.research.google.com/github/Clarifai/examples/blob/main/models/model_train/text-classification_training.ipynb\" target=\"_blank\"><img\n",
    "src=\"https://colab.research.google.com/assets/colab-badge.svg\" alt=\"Colab\"></a>\n",
    "</td>"
   ]
  },
  {
   "cell_type": "markdown",
   "id": "c2482f50",
   "metadata": {},
   "source": [
    "# Models\n",
    "\n",
    "\n",
    "\n",
    "Clarifai offers a range of powerful model types, each designed to generate meaningful outputs based on user specific inputs and AI tasks.\n",
    "\n",
    "There are wide variety of models that can be used as standalone solutions, or as building blocks for your own custom business solutions.\n",
    "\n"
   ]
  },
  {
   "cell_type": "markdown",
   "id": "ce950bf8",
   "metadata": {},
   "source": [
    "Clarifai Models are the recommended starting points for many users because they offer incredibly fast training times when you customize them using the \"embedding-classifier\" (Transfer Learning Classifier) model type.\n",
    "\n",
    "But there are many cases where accuracy and the ability to carefully target solutions take priority over speed and ease of use. Additionally, you may need a model to learn new features, not recognized by existing Clarifai Models. For these cases, it is possible to \"deep fine-tune\" your custom models and integrate them directly within your workflows.\n",
    "\n",
    "You might consider deep training if you have:\n",
    "\n",
    "- A custom tailored dataset\n",
    "- Accurate labels\n",
    "- Expertise and time to fine-tune models\n",
    "\n",
    "_______\n",
    "On the [Clarifai Community](https://clarifai.com/explore) explore page, you can click the [Models](https://clarifai.com/explore/models) tab to search and access the models available for everyone to use. "
   ]
  },
  {
   "cell_type": "markdown",
   "id": "f40fe20f",
   "metadata": {},
   "source": [
    "This notebook contains Model Train demo for **text-classifier** Model Type with **HF_GPTNeo_125m_lora** Template."
   ]
  },
  {
   "cell_type": "markdown",
   "id": "800de27a",
   "metadata": {},
   "source": [
    "# Getting Started"
   ]
  },
  {
   "cell_type": "markdown",
   "id": "c7fd7f15",
   "metadata": {},
   "source": [
    "### Installation"
   ]
  },
  {
   "cell_type": "code",
   "execution_count": null,
   "id": "bfb70f5e",
   "metadata": {},
   "outputs": [],
   "source": [
    "! pip install clarifai"
   ]
  },
  {
   "cell_type": "code",
   "execution_count": 1,
   "id": "ed766dc8",
   "metadata": {},
   "outputs": [],
   "source": [
    "import os\n",
    "os.environ[\"CLARIFAI_PAT\"] = \"PAT\" # replace with your own PAT key here"
   ]
  },
  {
   "cell_type": "markdown",
   "id": "49de2e2b",
   "metadata": {},
   "source": [
    "*Note: Guide to get your [PAT](https://docs.clarifai.com/clarifai-basics/authentication/personal-access-tokens)*"
   ]
  },
  {
   "cell_type": "markdown",
   "id": "46eaf1e6",
   "metadata": {},
   "source": [
    "### For Colab\n",
    "To access data files from Clarifai examples repo, you can clone the repo"
   ]
  },
  {
   "cell_type": "code",
   "execution_count": null,
   "id": "2f3c537b",
   "metadata": {},
   "outputs": [],
   "source": [
    "!git clone https://github.com/Clarifai/examples.git\n",
    "%cd /content/examples/models/model_train"
   ]
  },
  {
   "cell_type": "markdown",
   "id": "3ab63ac5",
   "metadata": {},
   "source": [
    "## TEXT-CLASSIFIER"
   ]
  },
  {
   "cell_type": "markdown",
   "id": "2586bd20",
   "metadata": {},
   "source": [
    "**Input: Text**\n",
    "\n",
    "**Output: Concepts**\n",
    "\n",
    "Text classifier is a type of deep fine-tuned model designed to automatically categorize or classify text data into predefined categories or concepts. This is a common task in natural language processing (NLP) and has a wide range of applications, including sentiment analysis, spam detection, topic categorization, and more."
   ]
  },
  {
   "cell_type": "markdown",
   "id": "15f0c98a",
   "metadata": {},
   "source": [
    "### Creating an App"
   ]
  },
  {
   "cell_type": "code",
   "execution_count": 2,
   "id": "d10414f4",
   "metadata": {},
   "outputs": [],
   "source": [
    "from clarifai.client.user import User\n",
    "#replace your \"user_id\"\n",
    "client = User(user_id=\"user_id\")"
   ]
  },
  {
   "cell_type": "code",
   "execution_count": 3,
   "id": "aca6e549",
   "metadata": {},
   "outputs": [
    {
     "data": {
      "text/html": [
       "<pre style=\"white-space:pre;overflow-x:auto;line-height:normal;font-family:Menlo,'DejaVu Sans Mono',consolas,'Courier New',monospace\"><span style=\"color: #7fbfbf; text-decoration-color: #7fbfbf\">2024-03-21 14:34:26 </span><span style=\"color: #000080; text-decoration-color: #000080\">INFO    </span> clarifai.client.user:                                                      <a href=\"file:///Users/adithyansukumar/.pyenv/versions/3.9.10/lib/python3.9/site-packages/clarifai/client/user.py\" target=\"_blank\"><span style=\"color: #7f7f7f; text-decoration-color: #7f7f7f\">user.py</span></a><span style=\"color: #7f7f7f; text-decoration-color: #7f7f7f\">:</span><a href=\"file:///Users/adithyansukumar/.pyenv/versions/3.9.10/lib/python3.9/site-packages/clarifai/client/user.py#127\" target=\"_blank\"><span style=\"color: #7f7f7f; text-decoration-color: #7f7f7f\">127</span></a>\n",
       "<span style=\"color: #7fbfbf; text-decoration-color: #7fbfbf\">                    </span>         App created                                                                <span style=\"color: #7f7f7f; text-decoration-color: #7f7f7f\">           </span>\n",
       "<span style=\"color: #7fbfbf; text-decoration-color: #7fbfbf\">                    </span>         code: SUCCESS                                                              <span style=\"color: #7f7f7f; text-decoration-color: #7f7f7f\">           </span>\n",
       "<span style=\"color: #7fbfbf; text-decoration-color: #7fbfbf\">                    </span>         description: <span style=\"color: #008000; text-decoration-color: #008000\">\"Ok\"</span>                                                          <span style=\"color: #7f7f7f; text-decoration-color: #7f7f7f\">           </span>\n",
       "<span style=\"color: #7fbfbf; text-decoration-color: #7fbfbf\">                    </span>         req_id: <span style=\"color: #008000; text-decoration-color: #008000\">\"949a5dd03efb34fa311eef929c565b2e\"</span>                                 <span style=\"color: #7f7f7f; text-decoration-color: #7f7f7f\">           </span>\n",
       "<span style=\"color: #7fbfbf; text-decoration-color: #7fbfbf\">                    </span>                                                                                    <span style=\"color: #7f7f7f; text-decoration-color: #7f7f7f\">           </span>\n",
       "</pre>\n"
      ],
      "text/plain": [
       "\u001b[2;36m2024-03-21 14:34:26\u001b[0m\u001b[2;36m \u001b[0m\u001b[34mINFO    \u001b[0m clarifai.client.user:                                                      \u001b]8;id=782176;file:///Users/adithyansukumar/.pyenv/versions/3.9.10/lib/python3.9/site-packages/clarifai/client/user.py\u001b\\\u001b[2muser.py\u001b[0m\u001b]8;;\u001b\\\u001b[2m:\u001b[0m\u001b]8;id=805640;file:///Users/adithyansukumar/.pyenv/versions/3.9.10/lib/python3.9/site-packages/clarifai/client/user.py#127\u001b\\\u001b[2m127\u001b[0m\u001b]8;;\u001b\\\n",
       "\u001b[2;36m                    \u001b[0m         App created                                                                \u001b[2m           \u001b[0m\n",
       "\u001b[2;36m                    \u001b[0m         code: SUCCESS                                                              \u001b[2m           \u001b[0m\n",
       "\u001b[2;36m                    \u001b[0m         description: \u001b[32m\"Ok\"\u001b[0m                                                          \u001b[2m           \u001b[0m\n",
       "\u001b[2;36m                    \u001b[0m         req_id: \u001b[32m\"949a5dd03efb34fa311eef929c565b2e\"\u001b[0m                                 \u001b[2m           \u001b[0m\n",
       "\u001b[2;36m                    \u001b[0m                                                                                    \u001b[2m           \u001b[0m\n"
      ]
     },
     "metadata": {},
     "output_type": "display_data"
    }
   ],
   "source": [
    "app = client.create_app(app_id=\"app_id\", base_workflow=\"Universal\")"
   ]
  },
  {
   "cell_type": "markdown",
   "id": "c08d515f",
   "metadata": {},
   "source": [
    "### Uploading Classification Dataset"
   ]
  },
  {
   "cell_type": "markdown",
   "id": "6334c125",
   "metadata": {},
   "source": [
    "#### Preview of Data"
   ]
  },
  {
   "cell_type": "code",
   "execution_count": 17,
   "id": "d09c9ff1",
   "metadata": {},
   "outputs": [
    {
     "data": {
      "text/plain": [
       "'/Users/adithyansukumar/work/ml_training_error/examples/datasets/upload/data/imdb.csv'"
      ]
     },
     "execution_count": 17,
     "metadata": {},
     "output_type": "execute_result"
    }
   ],
   "source": [
    "CSV_PATH = os.path.join(os.getcwd().split('/models/model_train')[0],'datasets/upload/data/imdb.csv')\n",
    "CSV_PATH"
   ]
  },
  {
   "cell_type": "code",
   "execution_count": 18,
   "id": "8f6655bf",
   "metadata": {},
   "outputs": [
    {
     "data": {
      "text/html": [
       "<div>\n",
       "<style scoped>\n",
       "    .dataframe tbody tr th:only-of-type {\n",
       "        vertical-align: middle;\n",
       "    }\n",
       "\n",
       "    .dataframe tbody tr th {\n",
       "        vertical-align: top;\n",
       "    }\n",
       "\n",
       "    .dataframe thead th {\n",
       "        text-align: right;\n",
       "    }\n",
       "</style>\n",
       "<table border=\"1\" class=\"dataframe\">\n",
       "  <thead>\n",
       "    <tr style=\"text-align: right;\">\n",
       "      <th></th>\n",
       "      <th>input</th>\n",
       "      <th>concepts</th>\n",
       "    </tr>\n",
       "  </thead>\n",
       "  <tbody>\n",
       "    <tr>\n",
       "      <th>0</th>\n",
       "      <td>Now, I won't deny that when I purchased this o...</td>\n",
       "      <td>neg</td>\n",
       "    </tr>\n",
       "    <tr>\n",
       "      <th>1</th>\n",
       "      <td>The saddest thing about this \"tribute\" is that...</td>\n",
       "      <td>neg</td>\n",
       "    </tr>\n",
       "    <tr>\n",
       "      <th>2</th>\n",
       "      <td>Last night I decided to watch the prequel or s...</td>\n",
       "      <td>neg</td>\n",
       "    </tr>\n",
       "    <tr>\n",
       "      <th>3</th>\n",
       "      <td>I have to admit that i liked the first half of...</td>\n",
       "      <td>neg</td>\n",
       "    </tr>\n",
       "    <tr>\n",
       "      <th>4</th>\n",
       "      <td>I was not impressed about this film especially...</td>\n",
       "      <td>neg</td>\n",
       "    </tr>\n",
       "  </tbody>\n",
       "</table>\n",
       "</div>"
      ],
      "text/plain": [
       "                                               input concepts\n",
       "0  Now, I won't deny that when I purchased this o...      neg\n",
       "1  The saddest thing about this \"tribute\" is that...      neg\n",
       "2  Last night I decided to watch the prequel or s...      neg\n",
       "3  I have to admit that i liked the first half of...      neg\n",
       "4  I was not impressed about this film especially...      neg"
      ]
     },
     "execution_count": 18,
     "metadata": {},
     "output_type": "execute_result"
    }
   ],
   "source": [
    "import pandas as pd\n",
    "data = pd.read_csv(CSV_PATH)\n",
    "data.head(5)"
   ]
  },
  {
   "cell_type": "markdown",
   "id": "42cf3a48",
   "metadata": {},
   "source": [
    "#### Upload Data"
   ]
  },
  {
   "cell_type": "code",
   "execution_count": 19,
   "id": "ad6d0caf",
   "metadata": {},
   "outputs": [
    {
     "data": {
      "text/html": [
       "<pre style=\"white-space:pre;overflow-x:auto;line-height:normal;font-family:Menlo,'DejaVu Sans Mono',consolas,'Courier New',monospace\"><span style=\"color: #7fbfbf; text-decoration-color: #7fbfbf\">2024-03-21 14:36:14 </span><span style=\"color: #000080; text-decoration-color: #000080\">INFO    </span> clarifai.client.app:                                                        <a href=\"file:///Users/adithyansukumar/.pyenv/versions/3.9.10/lib/python3.9/site-packages/clarifai/client/app.py\" target=\"_blank\"><span style=\"color: #7f7f7f; text-decoration-color: #7f7f7f\">app.py</span></a><span style=\"color: #7f7f7f; text-decoration-color: #7f7f7f\">:</span><a href=\"file:///Users/adithyansukumar/.pyenv/versions/3.9.10/lib/python3.9/site-packages/clarifai/client/app.py#310\" target=\"_blank\"><span style=\"color: #7f7f7f; text-decoration-color: #7f7f7f\">310</span></a>\n",
       "<span style=\"color: #7fbfbf; text-decoration-color: #7fbfbf\">                    </span>         Dataset created                                                             <span style=\"color: #7f7f7f; text-decoration-color: #7f7f7f\">          </span>\n",
       "<span style=\"color: #7fbfbf; text-decoration-color: #7fbfbf\">                    </span>         code: SUCCESS                                                               <span style=\"color: #7f7f7f; text-decoration-color: #7f7f7f\">          </span>\n",
       "<span style=\"color: #7fbfbf; text-decoration-color: #7fbfbf\">                    </span>         description: <span style=\"color: #008000; text-decoration-color: #008000\">\"Ok\"</span>                                                           <span style=\"color: #7f7f7f; text-decoration-color: #7f7f7f\">          </span>\n",
       "<span style=\"color: #7fbfbf; text-decoration-color: #7fbfbf\">                    </span>         req_id: <span style=\"color: #008000; text-decoration-color: #008000\">\"799f62cc6bd08953dff99a5f2b6c4266\"</span>                                  <span style=\"color: #7f7f7f; text-decoration-color: #7f7f7f\">          </span>\n",
       "<span style=\"color: #7fbfbf; text-decoration-color: #7fbfbf\">                    </span>                                                                                     <span style=\"color: #7f7f7f; text-decoration-color: #7f7f7f\">          </span>\n",
       "</pre>\n"
      ],
      "text/plain": [
       "\u001b[2;36m2024-03-21 14:36:14\u001b[0m\u001b[2;36m \u001b[0m\u001b[34mINFO    \u001b[0m clarifai.client.app:                                                        \u001b]8;id=964913;file:///Users/adithyansukumar/.pyenv/versions/3.9.10/lib/python3.9/site-packages/clarifai/client/app.py\u001b\\\u001b[2mapp.py\u001b[0m\u001b]8;;\u001b\\\u001b[2m:\u001b[0m\u001b]8;id=357740;file:///Users/adithyansukumar/.pyenv/versions/3.9.10/lib/python3.9/site-packages/clarifai/client/app.py#310\u001b\\\u001b[2m310\u001b[0m\u001b]8;;\u001b\\\n",
       "\u001b[2;36m                    \u001b[0m         Dataset created                                                             \u001b[2m          \u001b[0m\n",
       "\u001b[2;36m                    \u001b[0m         code: SUCCESS                                                               \u001b[2m          \u001b[0m\n",
       "\u001b[2;36m                    \u001b[0m         description: \u001b[32m\"Ok\"\u001b[0m                                                           \u001b[2m          \u001b[0m\n",
       "\u001b[2;36m                    \u001b[0m         req_id: \u001b[32m\"799f62cc6bd08953dff99a5f2b6c4266\"\u001b[0m                                  \u001b[2m          \u001b[0m\n",
       "\u001b[2;36m                    \u001b[0m                                                                                     \u001b[2m          \u001b[0m\n"
      ]
     },
     "metadata": {},
     "output_type": "display_data"
    },
    {
     "name": "stderr",
     "output_type": "stream",
     "text": [
      "Uploading inputs: 100%|██████████| 2/2 [00:13<00:00,  6.51s/it]\n"
     ]
    }
   ],
   "source": [
    "dataset = app.create_dataset(dataset_id=\"text_dataset\")\n",
    "dataset.upload_from_csv(csv_path=CSV_PATH,input_type='text',csv_type='raw', labels=True)"
   ]
  },
  {
   "cell_type": "markdown",
   "id": "04ce0e4a",
   "metadata": {},
   "source": [
    "### List Trainable Model Types"
   ]
  },
  {
   "cell_type": "code",
   "execution_count": 20,
   "id": "71254639",
   "metadata": {},
   "outputs": [
    {
     "data": {
      "text/plain": [
       "['visual-classifier',\n",
       " 'visual-detector',\n",
       " 'visual-segmenter',\n",
       " 'visual-embedder',\n",
       " 'clusterer',\n",
       " 'text-classifier',\n",
       " 'embedding-classifier',\n",
       " 'text-to-text']"
      ]
     },
     "execution_count": 20,
     "metadata": {},
     "output_type": "execute_result"
    }
   ],
   "source": [
    "app.list_trainable_model_types()"
   ]
  },
  {
   "cell_type": "markdown",
   "id": "b0cc15ad",
   "metadata": {},
   "source": [
    "### Create a Model"
   ]
  },
  {
   "cell_type": "code",
   "execution_count": null,
   "id": "467498cb",
   "metadata": {},
   "outputs": [],
   "source": [
    "MODEL_ID = \"model_text_classifier\"\n",
    "MODEL_TYPE_ID = \"text-classifier\"\n",
    "model = app.create_model(model_id=MODEL_ID, model_type_id=MODEL_TYPE_ID)"
   ]
  },
  {
   "cell_type": "markdown",
   "id": "76ae17d1",
   "metadata": {},
   "source": [
    "### List Templates for the Model Type\n",
    "\n",
    "Templates give you the control to choose the specific architecture used by your neural network, as well as define a set of hyperparameters you can use to fine-tune the way your model learns."
   ]
  },
  {
   "cell_type": "code",
   "execution_count": 8,
   "id": "ee44cea2",
   "metadata": {},
   "outputs": [
    {
     "data": {
      "text/plain": [
       "['HF_GPTNeo_125m_lora',\n",
       " 'HF_GPTNeo_2p7b_lora',\n",
       " 'HF_Llama_2_13b_chat_GPTQ_lora',\n",
       " 'HF_Llama_2_7b_chat_GPTQ_lora',\n",
       " 'HF_Mistral_7b_instruct_GPTQ_lora',\n",
       " 'HuggingFace_AdvancedConfig']"
      ]
     },
     "execution_count": 8,
     "metadata": {},
     "output_type": "execute_result"
    }
   ],
   "source": [
    "model.list_training_templates()"
   ]
  },
  {
   "cell_type": "markdown",
   "id": "3840fa73",
   "metadata": {},
   "source": [
    "### Save params\n",
    "Save the parameters for the specific model template."
   ]
  },
  {
   "cell_type": "code",
   "execution_count": 9,
   "id": "aa53dc65",
   "metadata": {},
   "outputs": [],
   "source": [
    "model_params = model.get_params(template='HF_GPTNeo_125m_lora')"
   ]
  },
  {
   "cell_type": "code",
   "execution_count": 10,
   "id": "8c87de00",
   "metadata": {},
   "outputs": [
    {
     "data": {
      "text/plain": [
       "{'dataset_id': '',\n",
       " 'dataset_version_id': '',\n",
       " 'concepts': [],\n",
       " 'train_params': {'invalid_data_tolerance_percent': 5.0,\n",
       "  'template': 'HF_GPTNeo_125m_lora',\n",
       "  'model_config': {'pretrained_model_name': 'EleutherAI/gpt-neo-125m',\n",
       "   'torch_dtype': 'torch.float32',\n",
       "   'problem_type': 'multi_label_classification'},\n",
       "  'peft_config': {'r': 16.0,\n",
       "   'peft_type': 'LORA',\n",
       "   'task_type': 'SEQ_CLS',\n",
       "   'lora_dropout': 0.1,\n",
       "   'inference_mode': False,\n",
       "   'lora_alpha': 16.0},\n",
       "  'tokenizer_config': {},\n",
       "  'trainer_config': {'auto_find_batch_size': True, 'num_train_epochs': 1.0}},\n",
       " 'inference_params': {'select_concepts': []}}"
      ]
     },
     "execution_count": 10,
     "metadata": {},
     "output_type": "execute_result"
    }
   ],
   "source": [
    "model_params"
   ]
  },
  {
   "cell_type": "markdown",
   "id": "9b7bc60d",
   "metadata": {},
   "source": [
    "#### Get param info"
   ]
  },
  {
   "cell_type": "code",
   "execution_count": 11,
   "id": "e9f01044",
   "metadata": {},
   "outputs": [
    {
     "name": "stdout",
     "output_type": "stream",
     "text": [
      "{'fieldType': 'ARRAY_OF_CONCEPTS', 'description': 'List of concepts you want this model to predict from any existing concepts in your app.', 'required': True, 'param': 'concepts'}\n"
     ]
    }
   ],
   "source": [
    "print(model.get_param_info(param = 'concepts'))"
   ]
  },
  {
   "cell_type": "markdown",
   "id": "ebf22475",
   "metadata": {},
   "source": [
    "### Update params\n",
    "Note: User can edit the params in the YAML file or directly update the params using model.update_params()"
   ]
  },
  {
   "cell_type": "code",
   "execution_count": 22,
   "id": "9e785b5b",
   "metadata": {},
   "outputs": [],
   "source": [
    "concepts = [concept.id for concept in app.list_concepts()]"
   ]
  },
  {
   "cell_type": "code",
   "execution_count": 23,
   "id": "a1adb4dd",
   "metadata": {},
   "outputs": [],
   "source": [
    "model.update_params(dataset_id = 'text_dataset',concepts = [\"id-pos\",\"id-neg\"])"
   ]
  },
  {
   "cell_type": "code",
   "execution_count": 24,
   "id": "f9f252b6",
   "metadata": {},
   "outputs": [
    {
     "data": {
      "text/plain": [
       "{'dataset_id': 'text_dataset',\n",
       " 'dataset_version_id': '',\n",
       " 'concepts': ['id-pos', 'id-neg'],\n",
       " 'train_params': {'invalid_data_tolerance_percent': 5.0,\n",
       "  'template': 'HF_GPTNeo_125m_lora',\n",
       "  'model_config': {'pretrained_model_name': 'EleutherAI/gpt-neo-125m',\n",
       "   'torch_dtype': 'torch.float32',\n",
       "   'problem_type': 'multi_label_classification'},\n",
       "  'peft_config': {'r': 16.0,\n",
       "   'peft_type': 'LORA',\n",
       "   'task_type': 'SEQ_CLS',\n",
       "   'lora_dropout': 0.1,\n",
       "   'inference_mode': False,\n",
       "   'lora_alpha': 16.0},\n",
       "  'tokenizer_config': {},\n",
       "  'trainer_config': {'auto_find_batch_size': True, 'num_train_epochs': 1.0}},\n",
       " 'inference_params': {'select_concepts': []}}"
      ]
     },
     "execution_count": 24,
     "metadata": {},
     "output_type": "execute_result"
    }
   ],
   "source": [
    "model.training_params"
   ]
  },
  {
   "cell_type": "markdown",
   "id": "91985e63",
   "metadata": {},
   "source": [
    "### Start Model Training"
   ]
  },
  {
   "cell_type": "code",
   "execution_count": 25,
   "id": "0b5383b0",
   "metadata": {},
   "outputs": [
    {
     "data": {
      "text/html": [
       "<pre style=\"white-space:pre;overflow-x:auto;line-height:normal;font-family:Menlo,'DejaVu Sans Mono',consolas,'Courier New',monospace\"><span style=\"color: #7fbfbf; text-decoration-color: #7fbfbf\">2024-03-21 14:37:25 </span><span style=\"color: #000080; text-decoration-color: #000080\">INFO    </span> clarifai.client.model:                                                    <a href=\"file:///Users/adithyansukumar/.pyenv/versions/3.9.10/lib/python3.9/site-packages/clarifai/client/model.py\" target=\"_blank\"><span style=\"color: #7f7f7f; text-decoration-color: #7f7f7f\">model.py</span></a><span style=\"color: #7f7f7f; text-decoration-color: #7f7f7f\">:</span><a href=\"file:///Users/adithyansukumar/.pyenv/versions/3.9.10/lib/python3.9/site-packages/clarifai/client/model.py#241\" target=\"_blank\"><span style=\"color: #7f7f7f; text-decoration-color: #7f7f7f\">241</span></a>\n",
       "<span style=\"color: #7fbfbf; text-decoration-color: #7fbfbf\">                    </span>         Model Training Started                                                    <span style=\"color: #7f7f7f; text-decoration-color: #7f7f7f\">            </span>\n",
       "<span style=\"color: #7fbfbf; text-decoration-color: #7fbfbf\">                    </span>         code: SUCCESS                                                             <span style=\"color: #7f7f7f; text-decoration-color: #7f7f7f\">            </span>\n",
       "<span style=\"color: #7fbfbf; text-decoration-color: #7fbfbf\">                    </span>         description: <span style=\"color: #008000; text-decoration-color: #008000\">\"Ok\"</span>                                                         <span style=\"color: #7f7f7f; text-decoration-color: #7f7f7f\">            </span>\n",
       "<span style=\"color: #7fbfbf; text-decoration-color: #7fbfbf\">                    </span>         req_id: <span style=\"color: #008000; text-decoration-color: #008000\">\"843f831ba5bddefdf3435c28f5152624\"</span>                                <span style=\"color: #7f7f7f; text-decoration-color: #7f7f7f\">            </span>\n",
       "<span style=\"color: #7fbfbf; text-decoration-color: #7fbfbf\">                    </span>                                                                                   <span style=\"color: #7f7f7f; text-decoration-color: #7f7f7f\">            </span>\n",
       "</pre>\n"
      ],
      "text/plain": [
       "\u001b[2;36m2024-03-21 14:37:25\u001b[0m\u001b[2;36m \u001b[0m\u001b[34mINFO    \u001b[0m clarifai.client.model:                                                    \u001b]8;id=442950;file:///Users/adithyansukumar/.pyenv/versions/3.9.10/lib/python3.9/site-packages/clarifai/client/model.py\u001b\\\u001b[2mmodel.py\u001b[0m\u001b]8;;\u001b\\\u001b[2m:\u001b[0m\u001b]8;id=472763;file:///Users/adithyansukumar/.pyenv/versions/3.9.10/lib/python3.9/site-packages/clarifai/client/model.py#241\u001b\\\u001b[2m241\u001b[0m\u001b]8;;\u001b\\\n",
       "\u001b[2;36m                    \u001b[0m         Model Training Started                                                    \u001b[2m            \u001b[0m\n",
       "\u001b[2;36m                    \u001b[0m         code: SUCCESS                                                             \u001b[2m            \u001b[0m\n",
       "\u001b[2;36m                    \u001b[0m         description: \u001b[32m\"Ok\"\u001b[0m                                                         \u001b[2m            \u001b[0m\n",
       "\u001b[2;36m                    \u001b[0m         req_id: \u001b[32m\"843f831ba5bddefdf3435c28f5152624\"\u001b[0m                                \u001b[2m            \u001b[0m\n",
       "\u001b[2;36m                    \u001b[0m                                                                                   \u001b[2m            \u001b[0m\n"
      ]
     },
     "metadata": {},
     "output_type": "display_data"
    }
   ],
   "source": [
    "model_version_id = model.train()"
   ]
  },
  {
   "cell_type": "markdown",
   "id": "fd43611c",
   "metadata": {},
   "source": [
    "### Check Model Training Status"
   ]
  },
  {
   "cell_type": "code",
   "execution_count": 26,
   "id": "d1590b2b",
   "metadata": {},
   "outputs": [
    {
     "name": "stdout",
     "output_type": "stream",
     "text": [
      "Current Status: code: MODEL_QUEUED_FOR_TRAINING\n",
      "description: \"Model is currently in queue for training.\"\n",
      "\n",
      "Waiting---\n",
      "Current Status: code: MODEL_TRAINING\n",
      "description: \"Training stage in progress: 0/1 complete.\"\n",
      "\n",
      "Waiting---\n",
      "Current Status: code: MODEL_TRAINING\n",
      "description: \"Training stage in progress: 0/1 complete.\"\n",
      "\n",
      "Waiting---\n",
      "Current Status: code: MODEL_TRAINING\n",
      "description: \"Training stage in progress: 0/1 complete.\"\n",
      "\n",
      "Waiting---\n",
      "Current Status: code: MODEL_TRAINING\n",
      "description: \"Deployment stage in progress: 0/1 complete.\"\n",
      "\n",
      "Waiting---\n",
      "Current Status: code: MODEL_TRAINING\n",
      "description: \"Deployment stage in progress: 0/1 complete.\"\n",
      "\n",
      "Waiting---\n",
      "Current Status: code: MODEL_TRAINING\n",
      "description: \"Deployment stage in progress: 0/1 complete.\"\n",
      "\n",
      "Waiting---\n",
      "Current Status: code: MODEL_TRAINING\n",
      "description: \"Deployment stage in progress: 1/2 complete.\"\n",
      "\n",
      "Waiting---\n",
      "Current Status: code: MODEL_TRAINING\n",
      "description: \"Deployment stage in progress: 1/2 complete.\"\n",
      "\n",
      "Waiting---\n",
      "Current Status: code: MODEL_TRAINING\n",
      "description: \"Deployment stage in progress: 1/2 complete.\"\n",
      "\n",
      "Waiting---\n",
      "Current Status: code: MODEL_TRAINING\n",
      "description: \"Deployment stage in progress: 1/2 complete.\"\n",
      "\n",
      "Waiting---\n",
      "Current Status: code: MODEL_TRAINING\n",
      "description: \"Deployment stage in progress: 1/2 complete.\"\n",
      "\n",
      "Waiting---\n",
      "code: MODEL_TRAINED\n",
      "description: \"Model is trained and ready\"\n",
      "\n"
     ]
    }
   ],
   "source": [
    "import time\n",
    "while True:\n",
    "    status = model.training_status(version_id=model_version_id,training_logs=False)\n",
    "    if status.code == 21106:#MODEL_TRAINING_FAILED\n",
    "        print(status)\n",
    "        break\n",
    "    elif status.code == 21100: #MODEL_TRAINED\n",
    "        print(status)\n",
    "        break\n",
    "    else:\n",
    "        print(\"Current Status:\",status)\n",
    "        print(\"Waiting---\")\n",
    "        time.sleep(120)"
   ]
  },
  {
   "cell_type": "markdown",
   "id": "5be7195e",
   "metadata": {},
   "source": [
    "## Model Prediction\n",
    "Predicting with the Trained Model.\n",
    "Note: Refer this [notebook](https://github.com/Clarifai/examples/blob/main/models/model_predict.ipynb) for more info on Model Predict"
   ]
  },
  {
   "cell_type": "code",
   "execution_count": 27,
   "id": "bc4658a0",
   "metadata": {},
   "outputs": [
    {
     "name": "stdout",
     "output_type": "stream",
     "text": [
      "Input:  b'This is a great place to work'\n",
      "id-neg : 0.08\n",
      "id-pos : 0.05\n"
     ]
    }
   ],
   "source": [
    "TEXT = b\"This is a great place to work\"\n",
    "model_prediction = model.predict_by_bytes(TEXT, input_type=\"text\")\n",
    "\n",
    "# Get the output\n",
    "print('Input: ',TEXT)\n",
    "for concept in model_prediction.outputs[0].data.concepts:\n",
    "    print(concept.id,':',round(concept.value,2))"
   ]
  },
  {
   "cell_type": "markdown",
   "id": "f70da429",
   "metadata": {},
   "source": [
    "## Note\n",
    "\n",
    "- This Notebook is a demo to get started with Model Training in Clarifai Platform with Python SDK.\n",
    "- For better accuracy of the Model, Choose your own data and different Templates and Hyperparams."
   ]
  },
  {
   "cell_type": "markdown",
   "id": "66f7c3f9",
   "metadata": {},
   "source": [
    "## Clarifai Resources"
   ]
  },
  {
   "cell_type": "markdown",
   "id": "e83d01c6",
   "metadata": {},
   "source": [
    "**Website**: [https://www.clarifai.com](https://www.clarifai.com/)\n",
    "\n",
    "**Demo**: [https://clarifai.com/demo](https://clarifai.com/demo)\n",
    "\n",
    "**Sign up for a free Account**: [https://clarifai.com/signup](https://clarifai.com/signup)\n",
    "\n",
    "**Developer Guide**: [https://docs.clarifai.com](https://docs.clarifai.com/)\n",
    "\n",
    "**Clarifai Community**: [https://clarifai.com/explore](https://clarifai.com/explore)\n",
    "\n",
    "**Python SDK Docs**: [https://docs.clarifai.com/python-sdk/api-reference](https://docs.clarifai.com/python-sdk/api-reference)\n",
    "\n",
    "---"
   ]
  }
 ],
 "metadata": {
  "kernelspec": {
   "display_name": "Python 3 (ipykernel)",
   "language": "python",
   "name": "python3"
  },
  "language_info": {
   "codemirror_mode": {
    "name": "ipython",
    "version": 3
   },
   "file_extension": ".py",
   "mimetype": "text/x-python",
   "name": "python",
   "nbconvert_exporter": "python",
   "pygments_lexer": "ipython3",
   "version": "3.9.10"
  }
 },
 "nbformat": 4,
 "nbformat_minor": 5
}
