{
 "cells": [
  {
   "cell_type": "markdown",
   "metadata": {},
   "source": [
    "### Setup"
   ]
  },
  {
   "cell_type": "code",
   "execution_count": null,
   "metadata": {},
   "outputs": [],
   "source": [
    "from clarifai.client.app import App\n",
    "from clarifai.client.user import User\n",
    "from clarifai.client.model import Model\n",
    "from clarifai_grpc.grpc.api import resources_pb2\n",
    "from google.protobuf.struct_pb2 import Struct"
   ]
  },
  {
   "cell_type": "markdown",
   "metadata": {},
   "source": [
    "### Create a Inference Runner"
   ]
  },
  {
   "cell_type": "code",
   "execution_count": null,
   "metadata": {},
   "outputs": [],
   "source": [
    "client = User(user_id=USER_ID)\n",
    "vit_classification_runner = client.create_runner(\"vit-cls-runner\", labels=[\"cls-runner\"], description=\"Vision Transformer Classification model from mmpretrain\")"
   ]
  },
  {
   "cell_type": "markdown",
   "metadata": {},
   "source": [
    "### Create a Remote Operator Model"
   ]
  },
  {
   "cell_type": "code",
   "execution_count": null,
   "metadata": {},
   "outputs": [],
   "source": [
    "# Create a new app\n",
    "app = client.create_app(\"runners-app\")"
   ]
  },
  {
   "cell_type": "code",
   "execution_count": null,
   "metadata": {},
   "outputs": [],
   "source": [
    "# Create remote operator model\n",
    "\n",
    "params = Struct()\n",
    "params.update({\"runner_labels\": [\"cls-runner\"]})\n",
    "vit_cls_remote_model = app.create_model(\"test-sdk-runner-model\", model_type_id=\"remote-operator\")\n",
    "vit_cls_remote_model = vit_cls_remote_model.create_version(output_info=resources_pb2.OutputInfo(params=params))"
   ]
  },
  {
   "cell_type": "markdown",
   "metadata": {},
   "source": [
    "### Start the remote operator model server.\n",
    "\n",
    "```bash\n",
    "docker build -t vit-cls-runner -f Dockerfile-VIT .\n",
    "\n",
    "docker run -e CLARIFAI_PAT=<YOUR_CLARIFAI_PAT> CLARIFAI_USER_ID=<YOUR_CLARIFAI_USER_ID> vit-cls-runner\n",
    "```"
   ]
  },
  {
   "cell_type": "markdown",
   "metadata": {},
   "source": [
    "### Prediction using the Remote Operator Model\n"
   ]
  },
  {
   "cell_type": "code",
   "execution_count": null,
   "metadata": {},
   "outputs": [],
   "source": [
    "prediction_response = vit_cls_remote_model.predict_by_url(\"https://samples.clarifai.com/metro-north.jpg\", \"image\")\n",
    "print(prediction_response)"
   ]
  },
  {
   "cell_type": "markdown",
   "metadata": {},
   "source": []
  }
 ],
 "metadata": {
  "language_info": {
   "name": "python"
  }
 },
 "nbformat": 4,
 "nbformat_minor": 2
}
