{
 "cells": [
  {
   "cell_type": "markdown",
   "metadata": {},
   "source": [
    "# Introduction\n",
    "\n",
    "Enabling users to deploy models within their preferred environments, whether on local machines or Docker containers, Clarifai's `Inference Runners` offer a flexible solution. The Clarifai Python SDK further simplifies this process by providing a user-friendly interface for creating inference runners, remotely operating models, and initiating their service on the Clarifai Platform.\n",
    "\n",
    "\n",
    "This notebook provides a step-by-step guide to the process of serving two models—one for image classification(ViT) and another for text generation(Phi2 LLM)—on a local machine using a Docker container."
   ]
  },
  {
   "cell_type": "markdown",
   "metadata": {},
   "source": [
    "### Getting Started\n",
    "\n",
    "#### Obtaining a Clarifai PAT\n",
    "\n",
    "To use the Clarifai Python SDK, you will need a PAT (Personal Access Token). You can obtain one by signing up for a free Clarifai account [here](https://clarifai.com/login). Once you have an account, you can find your PAT on the [Security](https://clarifai.com/settings/security) page.\n",
    "\n",
    "Refer to the [documentation](https://docs.clarifai.com/clarifai-basics/authentication/personal-access-tokens) for more information on PATs.\n",
    "\n",
    "#### Installing the Clarifai Python SDK\n",
    "```bash\n",
    "pip install clarifai\n",
    "```"
   ]
  },
  {
   "cell_type": "markdown",
   "metadata": {},
   "source": [
    "### Setup"
   ]
  },
  {
   "cell_type": "code",
   "execution_count": null,
   "metadata": {},
   "outputs": [],
   "source": [
    "from clarifai.client.app import App\n",
    "from clarifai.client.user import User\n",
    "from clarifai.client.model import Model\n",
    "from clarifai_grpc.grpc.api import resources_pb2\n",
    "from google.protobuf.struct_pb2 import Struct"
   ]
  },
  {
   "cell_type": "markdown",
   "metadata": {},
   "source": [
    "## Image Classification"
   ]
  },
  {
   "cell_type": "markdown",
   "metadata": {},
   "source": [
    "### Create a Inference Runner"
   ]
  },
  {
   "cell_type": "code",
   "execution_count": null,
   "metadata": {},
   "outputs": [],
   "source": [
    "client = User(user_id=USER_ID)\n",
    "vit_classification_runner = client.create_runner(\"vit-cls-runner\", labels=[\"cls-runner\"], description=\"Vision Transformer Classification model from mmpretrain\")"
   ]
  },
  {
   "cell_type": "markdown",
   "metadata": {},
   "source": [
    "### Create a Remote Operator Model"
   ]
  },
  {
   "cell_type": "code",
   "execution_count": null,
   "metadata": {},
   "outputs": [],
   "source": [
    "# Create a new app\n",
    "app = client.create_app(\"runners-app\")"
   ]
  },
  {
   "cell_type": "code",
   "execution_count": null,
   "metadata": {},
   "outputs": [],
   "source": [
    "# Create remote operator model\n",
    "\n",
    "params = Struct()\n",
    "params.update({\"runner_labels\": [\"cls-runner\"]})\n",
    "vit_remote_runner_model = app.create_model(\"vit-runner-model\", model_type_id=\"remote-operator\")\n",
    "vit_remote_runner_model = vit_remote_runner_model.create_version(output_info=resources_pb2.OutputInfo(params=params))"
   ]
  },
  {
   "cell_type": "markdown",
   "metadata": {},
   "source": [
    "### Start the remote operator VIT model server.\n",
    "\n",
    "```bash\n",
    "docker build -t vit-cls-runner -f Dockerfile-VIT .\n",
    "\n",
    "docker run -e CLARIFAI_PAT=<YOUR_CLARIFAI_PAT> CLARIFAI_USER_ID=<YOUR_CLARIFAI_USER_ID> vit-cls-runner\n",
    "```"
   ]
  },
  {
   "cell_type": "markdown",
   "metadata": {},
   "source": [
    "### Prediction using the Remote Operator Model\n"
   ]
  },
  {
   "cell_type": "code",
   "execution_count": null,
   "metadata": {},
   "outputs": [],
   "source": [
    "prediction_response = vit_remote_runner_model.predict_by_url(\"https://samples.clarifai.com/metro-north.jpg\", \"image\")\n",
    "print(prediction_response)"
   ]
  },
  {
   "cell_type": "markdown",
   "metadata": {},
   "source": [
    "## Text Generation"
   ]
  },
  {
   "cell_type": "markdown",
   "metadata": {},
   "source": [
    "### Create a Inference Runner"
   ]
  },
  {
   "cell_type": "code",
   "execution_count": null,
   "metadata": {},
   "outputs": [],
   "source": [
    "client = User(user_id=USER_ID)\n",
    "text_gen_runner = client.create_runner(\"sdk-phi2-runner\", labels=[\"textgen-runner\"], description=\"Text Generation Runner\")"
   ]
  },
  {
   "cell_type": "markdown",
   "metadata": {},
   "source": [
    "### Create a Remote Operator Model"
   ]
  },
  {
   "cell_type": "code",
   "execution_count": null,
   "metadata": {},
   "outputs": [],
   "source": [
    "# Create remote operator model\n",
    "\n",
    "app = client.app(\"runners-app\")\n",
    "\n",
    "params = Struct()\n",
    "params.update({\"runner_labels\": [\"textgen-runner\"]})\n",
    "phi2_remote_model = app.create_model(\"phi2-runner-model\", model_type_id=\"remote-operator\")\n",
    "phi2_remote_model = phi2_remote_model.create_version(output_info=resources_pb2.OutputInfo(params=params))"
   ]
  },
  {
   "cell_type": "markdown",
   "metadata": {},
   "source": [
    "### Start the remote operator Phi2 model server.\n",
    "\n",
    "```bash\n",
    "docker build -t text-gen-runner -f Dockerfile .\n",
    "\n",
    "docker run -e CLARIFAI_PAT=<YOUR_CLARIFAI_PAT> CLARIFAI_USER_ID=<YOUR_CLARIFAI_USER_ID> text-gen-runner\n",
    "```"
   ]
  },
  {
   "cell_type": "markdown",
   "metadata": {},
   "source": [
    "### Prediction using the Remote Operator Model"
   ]
  },
  {
   "cell_type": "code",
   "execution_count": null,
   "metadata": {},
   "outputs": [],
   "source": [
    "prediction_response = phi2_remote_model.predict_by_bytes(b\"Explain about Photosynthesis ?\", \"text\")\n",
    "print(prediction_response)"
   ]
  },
  {
   "cell_type": "markdown",
   "metadata": {},
   "source": [
    "## Clarifai Resources\n",
    "\n",
    "**Website**: [https://www.clarifai.com](https://www.clarifai.com/)\n",
    "\n",
    "**Demo**: [https://clarifai.com/demo](https://clarifai.com/demo)\n",
    "\n",
    "**Sign up for a free Account**: [https://clarifai.com/signup](https://clarifai.com/signup)\n",
    "\n",
    "**Developer Guide**: [https://docs.clarifai.com](https://docs.clarifai.com/)\n",
    "\n",
    "**Clarifai Community**: [https://clarifai.com/explore](https://clarifai.com/explore)\n",
    "\n",
    "**Python SDK Docs**: [https://docs.clarifai.com/python-sdk/api-reference](https://docs.clarifai.com/python-sdk/api-reference)\n",
    "\n",
    "---"
   ]
  }
 ],
 "metadata": {
  "language_info": {
   "name": "python"
  }
 },
 "nbformat": 4,
 "nbformat_minor": 2
}
