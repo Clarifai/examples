{
 "cells": [
  {
   "cell_type": "markdown",
   "metadata": {},
   "source": [
    "<td>\n",
    "   <a target=\"_blank\" href=\"https://www.clarifai.com/\" ><img src=\"https://upload.wikimedia.org/wikipedia/commons/b/bc/Clarifai_Logo_FC_Web.png\" width=256/></a>\n",
    "</td>"
   ]
  },
  {
   "cell_type": "markdown",
   "metadata": {},
   "source": [
    "<td>\n",
    "<a href=\"https://colab.research.google.com/github/Clarifai/examples/blob/main/concepts/concept_management.ipynb\" target=\"_blank\"><img\n",
    "src=\"https://colab.research.google.com/assets/colab-badge.svg\" alt=\"Colab\"></a>\n",
    "</td>"
   ]
  },
  {
   "cell_type": "markdown",
   "metadata": {},
   "source": [
    "# Concept Management\n",
    "\n",
    "To establish a hierarchical relationship between your concepts we use the concept relations.\n",
    "\n",
    "It uses three different predicates to organize your concepts: `hypernyms`, `hyponyms`, and `synonyms`.\n",
    "\n",
    "**Hyponym** — represents an 'is a kind of' relation. For example, the relationship described as 'honey' (subject), 'hyponym' (predicate), 'food' (object) is more easily read as 'honey' 'is a kind of' 'food'.\n",
    "\n",
    "**Hypernym** — is the opposite of 'hyponym'. When you add the relationship, the opposite will automatically appear in your queries. An 'hypernym' can be read as 'is a parent of'. For example, 'food' (subject), 'hypernym' (predicate), 'honey' (object) is more easily read as 'food' is a parent of 'honey'.\n",
    "\n",
    "**Synonym** — defines two concepts that essentially mean the same thing. This is more like an \"is\" relationship. For example, a 'synonym' relationship could be \"puppy\" is \"pup\". The reverse is also true if the former is added; so, \"pup\" is \"puppy\" will appear in queries as well.\n",
    "\n",
    "This notebook contains\n",
    "- Examples of how to add concepts and their relations into clarifai app using features from `App`."
   ]
  },
  {
   "cell_type": "markdown",
   "metadata": {},
   "source": [
    "## Requirements"
   ]
  },
  {
   "cell_type": "code",
   "execution_count": null,
   "metadata": {},
   "outputs": [],
   "source": [
    "!pip install -U clarifai"
   ]
  },
  {
   "cell_type": "code",
   "execution_count": 1,
   "metadata": {},
   "outputs": [],
   "source": [
    "import os\n",
    "#Replace your PAT\n",
    "os.environ['CLARIFAI_PAT'] = \"YOUR_PAT\""
   ]
  },
  {
   "cell_type": "markdown",
   "metadata": {},
   "source": [
    "*Note: Guide to get your [PAT](https://docs.clarifai.com/clarifai-basics/authentication/personal-access-tokens)*"
   ]
  },
  {
   "cell_type": "markdown",
   "metadata": {},
   "source": [
    "### For Colab\n",
    "\n",
    "Note: To use the data from the example repo itself"
   ]
  },
  {
   "cell_type": "code",
   "execution_count": null,
   "metadata": {},
   "outputs": [],
   "source": [
    "!git clone https://github.com/Clarifai/examples.git\n",
    "%cd examples/datasets/upload/"
   ]
  },
  {
   "cell_type": "markdown",
   "metadata": {},
   "source": [
    "## App Interface"
   ]
  },
  {
   "cell_type": "code",
   "execution_count": 3,
   "metadata": {},
   "outputs": [],
   "source": [
    "from clarifai.client.app import App\n",
    "#replace your \"user_id\", \"app_id\".\n",
    "app = App(user_id=\"user_id\", app_id=\"app_id\")"
   ]
  },
  {
   "cell_type": "markdown",
   "metadata": {},
   "source": [
    "## 1. Add Concept"
   ]
  },
  {
   "cell_type": "code",
   "execution_count": null,
   "metadata": {},
   "outputs": [],
   "source": [
    "app.create_concepts(concept_ids=[\"cat\", \"kitten\", \"animal\"])"
   ]
  },
  {
   "cell_type": "markdown",
   "metadata": {},
   "source": [
    "## 2. Add Concept Relation\n",
    "\n",
    "To add concept relations, we have to provide the `subject concept id`, a list of `object concept ids` with which we need to create a list of corresponding `concept relations`."
   ]
  },
  {
   "cell_type": "code",
   "execution_count": null,
   "metadata": {},
   "outputs": [],
   "source": [
    "app.create_concept_relations(\"cat\", [\"animal\", \"kitten\"], [\"hyponym\", \"synonym\"])"
   ]
  },
  {
   "cell_type": "markdown",
   "metadata": {},
   "source": [
    "## 3. Search Concept Relation"
   ]
  },
  {
   "cell_type": "markdown",
   "metadata": {},
   "source": [
    "To get all the concept relations of the app, we should directly call the **App** class **search_concept_relations** function"
   ]
  },
  {
   "cell_type": "code",
   "execution_count": 5,
   "metadata": {},
   "outputs": [
    {
     "name": "stdout",
     "output_type": "stream",
     "text": [
      "Subject_concept: cat\n",
      "\tOject_concept: animal\n",
      "\tPredicate: hyponym \n",
      "\n",
      "Subject_concept: cat\n",
      "\tOject_concept: dog\n",
      "\tPredicate: synonym \n",
      "\n"
     ]
    }
   ],
   "source": [
    "concept_relations = list(app.search_concept_relations())\n",
    "for relation in concept_relations:\n",
    "    print(\"Subject_concept:\",relation.subject_concept.id)\n",
    "    print('\\t'\"Oject_concept:\",relation.object_concept.id)\n",
    "    print('\\t'\"Predicate:\",relation.predicate,'\\n')"
   ]
  },
  {
   "cell_type": "markdown",
   "metadata": {},
   "source": [
    "We can use the **concept_id** and **predicate** arguments of **search_concept_relations** as filters to get the required concept relations"
   ]
  },
  {
   "cell_type": "code",
   "execution_count": 6,
   "metadata": {},
   "outputs": [
    {
     "name": "stdout",
     "output_type": "stream",
     "text": [
      "Subject_concept: cat\n",
      "\tOject_concept: dog\n",
      "\tPredicate: synonym \n",
      "\n"
     ]
    }
   ],
   "source": [
    "concept_relations = list(app.search_concept_relations(concept_id=\"cat\",predicate=\"synonym\"))\n",
    "for relation in concept_relations:\n",
    "    print(\"Subject_concept:\",relation.subject_concept.id)\n",
    "    print('\\t'\"Oject_concept:\",relation.object_concept.id)\n",
    "    print('\\t'\"Predicate:\",relation.predicate,'\\n')"
   ]
  },
  {
   "cell_type": "markdown",
   "metadata": {},
   "source": [
    "To display the concept relations in a rich Tree structure, we have add True to **show_tree** argument of **search_concept_relations**"
   ]
  },
  {
   "cell_type": "code",
   "execution_count": 7,
   "metadata": {},
   "outputs": [
    {
     "data": {
      "text/html": [
       "<pre style=\"white-space:pre;overflow-x:auto;line-height:normal;font-family:Menlo,'DejaVu Sans Mono',consolas,'Courier New',monospace\">animal\n",
       "└── cat\n",
       "</pre>\n"
      ],
      "text/plain": [
       "animal\n",
       "└── cat\n"
      ]
     },
     "metadata": {},
     "output_type": "display_data"
    },
    {
     "data": {
      "text/html": [
       "<pre style=\"white-space:pre;overflow-x:auto;line-height:normal;font-family:Menlo,'DejaVu Sans Mono',consolas,'Courier New',monospace\">dog\n",
       "</pre>\n"
      ],
      "text/plain": [
       "dog\n"
      ]
     },
     "metadata": {},
     "output_type": "display_data"
    },
    {
     "data": {
      "text/html": [
       "<pre style=\"white-space:pre;overflow-x:auto;line-height:normal;font-family:Menlo,'DejaVu Sans Mono',consolas,'Courier New',monospace\">cat\n",
       "</pre>\n"
      ],
      "text/plain": [
       "cat\n"
      ]
     },
     "metadata": {},
     "output_type": "display_data"
    },
    {
     "name": "stdout",
     "output_type": "stream",
     "text": [
      "Subject_concept: cat\n",
      "\tOject_concept: animal\n",
      "\tPredicate: hyponym \n",
      "\n",
      "Subject_concept: cat\n",
      "\tOject_concept: dog\n",
      "\tPredicate: synonym \n",
      "\n"
     ]
    }
   ],
   "source": [
    "concept_relations = list(app.search_concept_relations(show_tree=True))\n",
    "for relation in concept_relations:\n",
    "    print(\"Subject_concept:\",relation.subject_concept.id)\n",
    "    print('\\t'\"Oject_concept:\",relation.object_concept.id)\n",
    "    print('\\t'\"Predicate:\",relation.predicate,'\\n')"
   ]
  },
  {
   "cell_type": "markdown",
   "metadata": {},
   "source": [
    "## 4. Delete Concept Relation\n",
    "\n",
    "To delete the concept relation we require the `concept id` and `concept relation ids`. But if we have to delete the all the concept relations, we can just provide the `concept id`."
   ]
  },
  {
   "cell_type": "code",
   "execution_count": null,
   "metadata": {},
   "outputs": [],
   "source": [
    "app.delete_concept_relations(\"cat\")"
   ]
  },
  {
   "cell_type": "markdown",
   "metadata": {},
   "source": [
    "## 5. Concept based Input Search\n",
    "\n",
    "To search for Inputs related to specific concepts we use search filters"
   ]
  },
  {
   "cell_type": "code",
   "execution_count": null,
   "metadata": {},
   "outputs": [],
   "source": [
    "search = app.search(top_k=2, metric=\"euclidean\")\n",
    "search.query(filters=[{\n",
    "    \"concepts\": [{\n",
    "        \"name\": \"dog\",\n",
    "        \"value\": 1\n",
    "    }]\n",
    "}])"
   ]
  },
  {
   "cell_type": "markdown",
   "metadata": {},
   "source": [
    "Following code snippets are reference to how to use AND/OR operator in the filters."
   ]
  },
  {
   "cell_type": "code",
   "execution_count": null,
   "metadata": {},
   "outputs": [],
   "source": [
    "search.query(filters=[{  # OR\n",
    "    \"concepts\": [{\n",
    "        \"name\": \"cat\",\n",
    "        \"value\": 1\n",
    "    }, {\n",
    "        \"name\": \"dog\",\n",
    "        \"value\": 1\n",
    "    }]\n",
    "}])"
   ]
  },
  {
   "cell_type": "code",
   "execution_count": null,
   "metadata": {},
   "outputs": [],
   "source": [
    "search.query(filters=[\n",
    "    {  # AND\n",
    "        \"concepts\": [{\n",
    "            \"name\": \"dog\",\n",
    "            \"value\": 1\n",
    "        }]\n",
    "    },\n",
    "    {\n",
    "        \"concepts\": [{\n",
    "            \"name\": \"cat\",\n",
    "            \"value\": 1\n",
    "        }]\n",
    "    }\n",
    "])"
   ]
  },
  {
   "cell_type": "markdown",
   "metadata": {},
   "source": [
    "If we want search for inputs not related a specific concept, give the value as 0."
   ]
  },
  {
   "cell_type": "code",
   "execution_count": null,
   "metadata": {},
   "outputs": [],
   "source": [
    "search.query(filters=[{\n",
    "    \"concepts\": [{\n",
    "        \"name\": \"dog\",\n",
    "        \"value\": 0\n",
    "    }]\n",
    "}])"
   ]
  },
  {
   "cell_type": "markdown",
   "metadata": {},
   "source": [
    "## Clarifai Resources"
   ]
  },
  {
   "cell_type": "markdown",
   "metadata": {},
   "source": [
    "**Website**: [https://www.clarifai.com](https://www.clarifai.com/)\n",
    "\n",
    "**Demo**: [https://clarifai.com/demo](https://clarifai.com/demo)\n",
    "\n",
    "**Sign up for a free Account**: [https://clarifai.com/signup](https://clarifai.com/signup)\n",
    "\n",
    "**Developer Guide**: [https://docs.clarifai.com](https://docs.clarifai.com/)\n",
    "\n",
    "**Clarifai Community**: [https://clarifai.com/explore](https://clarifai.com/explore)\n",
    "\n",
    "**Python SDK Docs**: [https://docs.clarifai.com/python-sdk/api-reference](https://docs.clarifai.com/python-sdk/api-reference)\n",
    "\n",
    "---"
   ]
  }
 ],
 "metadata": {
  "kernelspec": {
   "display_name": "Python 3 (ipykernel)",
   "language": "python",
   "name": "python3"
  },
  "language_info": {
   "codemirror_mode": {
    "name": "ipython",
    "version": 3
   },
   "file_extension": ".py",
   "mimetype": "text/x-python",
   "name": "python",
   "nbconvert_exporter": "python",
   "pygments_lexer": "ipython3",
   "version": "3.10.13"
  }
 },
 "nbformat": 4,
 "nbformat_minor": 2
}
