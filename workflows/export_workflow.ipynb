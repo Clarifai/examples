{
 "cells": [
  {
   "attachments": {},
   "cell_type": "markdown",
   "metadata": {},
   "source": [
    "<td>\n",
    "   <a target=\"_blank\" href=\"https://www.clarifai.com/\" ><img src=\"https://upload.wikimedia.org/wikipedia/commons/b/bc/Clarifai_Logo_FC_Web.png\" width=256/></a>\n",
    "</td>"
   ]
  },
  {
   "attachments": {},
   "cell_type": "markdown",
   "metadata": {},
   "source": [
    "<td>\n",
    "<a href=\"https://colab.research.google.com/github/Clarifai/examples/blob/main/workflows/export_workflow.ipynb\" target=\"_blank\"><img\n",
    "src=\"https://colab.research.google.com/assets/colab-badge.svg\" alt=\"Colab\"></a>\n",
    "</td>"
   ]
  },
  {
   "attachments": {},
   "cell_type": "markdown",
   "metadata": {},
   "source": [
    "## Introduction\n",
    "\n",
    "Workflows offer a versatile framework for constructing your inference pipeline. Mesh equips you with the fundamental components for sophisticated machine learning ensemble modeling and incorporating business logic.\n",
    "\n",
    "\n",
    "Clarifai simplifies the process of integrating diverse models, enabling you to execute intricate data operations and design solutions tailored to your precise business requirements.\n",
    "\n",
    "\n",
    "The Clarifai Python SDK empowers you to define and construct intricate workflows through a yml configuration.\n"
   ]
  },
  {
   "attachments": {},
   "cell_type": "markdown",
   "metadata": {},
   "source": [
    "## Installation and Setup\n",
    "\n",
    "It is required to set **CLARIFAI_PAT** as Environment Variable.\n",
    "\n",
    "More info on [Personal Access Tokens](https://docs.clarifai.com/clarifai-basics/authentication/personal-access-tokens)"
   ]
  },
  {
   "cell_type": "code",
   "execution_count": null,
   "metadata": {},
   "outputs": [],
   "source": [
    "! pip install clarifai"
   ]
  },
  {
   "cell_type": "code",
   "execution_count": null,
   "metadata": {},
   "outputs": [],
   "source": [
    "import os\n",
    "os.environ[\"CLARIFAI_PAT\"] = \"CLARIFAI_PAT\" # replace with your own PAT key here\""
   ]
  },
  {
   "attachments": {},
   "cell_type": "markdown",
   "metadata": {},
   "source": [
    "## Workflow Export\n",
    "\n",
    "To begin or make rapid adjustments to existing Clarifai community workflows using an initial yml configuration, the SDK offers an export feature. \n",
    "\n",
    "In this example, we can export [Demographics](https://clarifai.com/clarifai/main/workflows/Demographics) workflow and create a new workflow by modifying the `margin` parameter of the image cropper node.\n"
   ]
  },
  {
   "cell_type": "code",
   "execution_count": null,
   "metadata": {},
   "outputs": [],
   "source": [
    "from clarifai.client.workflow import Workflow\n",
    "\n",
    "demographics_workflow = Workflow(\"https://clarifai.com/clarifai/main/workflows/Demographics\")"
   ]
  },
  {
   "cell_type": "code",
   "execution_count": null,
   "metadata": {},
   "outputs": [],
   "source": [
    "# Export the workflow to a file\n",
    "demographics_workflow.export(\"demographics_workflow.yml\")"
   ]
  },
  {
   "attachments": {},
   "cell_type": "markdown",
   "metadata": {},
   "source": [
    "Now the parameters of each model can be changed and new workflow can be easily created by `app.create_workflow()`.\n",
    "\n",
    "Here we change the `margin` parameter of the [image cropper](https://docs.clarifai.com/portal-guide/model/agent-system-operators/transform/#image-cropper) node to be 1.5\n",
    "\n",
    "```yaml\n",
    "- id: image-crop\n",
    "    model:\n",
    "      model_id: margin-100-image-crop-custom\n",
    "          model_type_id: image-crop\n",
    "          description: Custom crop model\n",
    "          output_info:\n",
    "            params:\n",
    "              margin: 1.5\n",
    "```"
   ]
  },
  {
   "cell_type": "code",
   "execution_count": null,
   "metadata": {},
   "outputs": [],
   "source": [
    "from clarifai.client.app import App\n",
    "\n",
    "# Get the app\n",
    "app = App(user_id=\"USER_ID\", app_id=\"APP_ID\") # Replace with your USER_ID and APP_ID"
   ]
  },
  {
   "cell_type": "code",
   "execution_count": null,
   "metadata": {},
   "outputs": [],
   "source": [
    "# create a new workflow from the file\n",
    "demographics_workflow = app.create_workflow(\"demographics_workflow.yml\")"
   ]
  },
  {
   "attachments": {},
   "cell_type": "markdown",
   "metadata": {},
   "source": [
    "## Clarifai Resources\n",
    "\n",
    "**Website**: [https://www.clarifai.com](https://www.clarifai.com/)\n",
    "\n",
    "**Demo**: [https://clarifai.com/demo](https://clarifai.com/demo)\n",
    "\n",
    "**Sign up for a free Account**: [https://clarifai.com/signup](https://clarifai.com/signup)\n",
    "\n",
    "**Developer Guide**: [https://docs.clarifai.com](https://docs.clarifai.com/)\n",
    "\n",
    "**Clarifai Community**: [https://clarifai.com/explore](https://clarifai.com/explore)\n",
    "\n",
    "**Python SDK Docs**: [https://clarifai-python.readthedocs.io/en/latest/index.html](https://clarifai-python.readthedocs.io/en/latest/index.html)\n",
    "\n",
    "---"
   ]
  }
 ],
 "metadata": {
  "language_info": {
   "name": "python"
  },
  "orig_nbformat": 4
 },
 "nbformat": 4,
 "nbformat_minor": 2
}
