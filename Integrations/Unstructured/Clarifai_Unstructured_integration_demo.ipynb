{
  "cells": [
    {
      "cell_type": "markdown",
      "metadata": {
        "id": "4NmDOxAHzIxx"
      },
      "source": [
        "# **Clarifai as destination connector using Unstructured.IO**\n",
        "\n",
        "This Notebook walk you through the step by step guide on how to utilise Clarifai as your destination connector using Unstructured.IO and import raw files from various source connectors. For the demo we will be using S3 bucket as our source connector which has out raw text files."
      ]
    },
    {
      "cell_type": "markdown",
      "metadata": {
        "id": "8b-x7tHrABfw"
      },
      "source": [
        "### Setup\n",
        "Install necessary libraries."
      ]
    },
    {
      "cell_type": "code",
      "execution_count": null,
      "metadata": {
        "id": "m8bVpqw63PdF"
      },
      "outputs": [],
      "source": [
        "! pip install \"unstructured[clarifai]\" #make sure the unstructured version is 0.13 or above\n",
        "\n",
        "! pip install \"unstructured[s3]\" #since our source is S3"
      ]
    },
    {
      "cell_type": "markdown",
      "metadata": {
        "id": "Px-O0dMNAEHF"
      },
      "source": [
        "## S3 setup"
      ]
    },
    {
      "cell_type": "code",
      "execution_count": null,
      "metadata": {
        "id": "jVxZI-5EuCYI"
      },
      "outputs": [],
      "source": [
        "access_key='YOUR_S3_ACCESS_KEYS'\n",
        "secret_access='YOUR_S3_SECRET_ACCESS_KEYS'"
      ]
    },
    {
      "cell_type": "markdown",
      "metadata": {
        "id": "QCPbc8KFAGr1"
      },
      "source": [
        "## Clarifai and S3 imports"
      ]
    },
    {
      "cell_type": "code",
      "execution_count": null,
      "metadata": {
        "id": "t8G_ONxWuLDN"
      },
      "outputs": [],
      "source": [
        "import os\n",
        "from unstructured.ingest.connector.fsspec.s3 import S3AccessConfig, SimpleS3Config\n",
        "from unstructured.ingest.interfaces import (\n",
        "    PartitionConfig,\n",
        "    ProcessorConfig,\n",
        "    ChunkingConfig,\n",
        "    ReadConfig,\n",
        ")\n",
        "from unstructured.ingest.runner import S3Runner\n",
        "\n",
        "from unstructured.ingest.connector.clarifai import (\n",
        "    ClarifaiAccessConfig,\n",
        "    ClarifaiWriteConfig,\n",
        "    SimpleClarifaiConfig,\n",
        ")\n",
        "\n",
        "from unstructured.ingest.runner.writers.base_writer import Writer\n",
        "from unstructured.ingest.runner.writers.clarifai import (\n",
        "    ClarifaiWriter,\n",
        ")"
      ]
    },
    {
      "cell_type": "markdown",
      "metadata": {
        "id": "P5Jskd-V1PGS"
      },
      "source": [
        "## Clarifai_writer func which will configure the target clarifai app where the ingested documents will be loaded with initialising clarifai PAT as `api_key`"
      ]
    },
    {
      "cell_type": "code",
      "execution_count": null,
      "metadata": {
        "id": "32whBy_puaEs"
      },
      "outputs": [],
      "source": [
        "def clarifai_writer() -> Writer:\n",
        "    return ClarifaiWriter(\n",
        "        connector_config=SimpleClarifaiConfig(\n",
        "            access_config=ClarifaiAccessConfig(\n",
        "                api_key= \"YOUR_PAT\"\n",
        "            ),\n",
        "            app_id= \"YOUR_CLARIFAI_APP\",\n",
        "            user_id= \"USER_ID\"\n",
        "            ),\n",
        "        write_config=ClarifaiWriteConfig()\n",
        "    )"
      ]
    },
    {
      "cell_type": "markdown",
      "metadata": {
        "id": "GABTXfWJ1pZr"
      },
      "source": [
        "## Let's now package the writer and runner together, make sure you have your S3 bucket URI ready."
      ]
    },
    {
      "cell_type": "code",
      "execution_count": null,
      "metadata": {
        "id": "32eJrsPSubk4"
      },
      "outputs": [],
      "source": [
        "if __name__ == \"__main__\":\n",
        "    writer = clarifai_writer()\n",
        "    runner = S3Runner(\n",
        "        processor_config=ProcessorConfig(\n",
        "            verbose=True,\n",
        "            output_dir=\"s3-output-local\",\n",
        "            num_processes=2,\n",
        "        ),\n",
        "        read_config=ReadConfig(),\n",
        "        partition_config=PartitionConfig(),\n",
        "        connector_config=SimpleS3Config(\n",
        "            access_config=S3AccessConfig(\n",
        "                key=access_key,\n",
        "                secret=secret_access,\n",
        "            ),\n",
        "            remote_url=\"s3://my-trial-bucket/procurement.txt\",\n",
        "        ),\n",
        "        writer=writer,\n",
        "        writer_kwargs={},\n",
        "    )\n",
        "    runner.run()"
      ]
    },
    {
      "cell_type": "code",
      "execution_count": null,
      "metadata": {
        "id": "Swj13bVz75KG"
      },
      "outputs": [],
      "source": []
    }
  ],
  "metadata": {
    "colab": {
      "provenance": []
    },
    "kernelspec": {
      "display_name": "Python 3",
      "name": "python3"
    },
    "language_info": {
      "name": "python"
    }
  },
  "nbformat": 4,
  "nbformat_minor": 0
}
