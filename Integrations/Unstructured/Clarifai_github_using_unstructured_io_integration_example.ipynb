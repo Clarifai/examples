{
  "nbformat": 4,
  "nbformat_minor": 0,
  "metadata": {
    "colab": {
      "provenance": []
    },
    "kernelspec": {
      "name": "python3",
      "display_name": "Python 3"
    },
    "language_info": {
      "name": "python"
    }
  },
  "cells": [
    {
      "cell_type": "markdown",
      "source": [
        "# **Clarifai as destination connector using Unstructured.IO**\n",
        "\n",
        "This Notebook walk you through the step by step guide on how to utilise Clarifai as your destination connector using Unstructured.IO and import raw files from various source connectors. For the demo we will be using github as our source connector which has out raw text files."
      ],
      "metadata": {
        "id": "4NmDOxAHzIxx"
      }
    },
    {
      "cell_type": "markdown",
      "source": [
        "### Setup\n",
        "Install necessary libraries."
      ],
      "metadata": {
        "id": "8b-x7tHrABfw"
      }
    },
    {
      "cell_type": "code",
      "source": [
        "! pip install \"unstructured[clarifai]\" #make sure the unstructured version is 0.13 or above"
      ],
      "metadata": {
        "id": "m8bVpqw63PdF"
      },
      "execution_count": null,
      "outputs": []
    },
    {
      "cell_type": "code",
      "source": [
        "!pip install \"unstructured[github]\" #since our source is git\n",
        "!pip install httpx"
      ],
      "metadata": {
        "id": "aLi6qHX4EdmI"
      },
      "execution_count": null,
      "outputs": []
    },
    {
      "cell_type": "markdown",
      "source": [
        "## Github setup"
      ],
      "metadata": {
        "id": "Px-O0dMNAEHF"
      }
    },
    {
      "cell_type": "markdown",
      "source": [
        "For the demo we'll be using github repo of clarifai-python open-source repo https://github.com/Clarifai/clarifai-python"
      ],
      "metadata": {
        "id": "KJ_D7F3XwArz"
      }
    },
    {
      "cell_type": "code",
      "source": [
        "repo='Clarifai/clarifai-python' # Any repo (public) in the format of username/reponame\n",
        "token='github_pat_*****'\n",
        "from unstructured.ingest.connector.git import GitAccessConfig\n",
        "from unstructured.ingest.connector.github import SimpleGitHubConfig\n",
        "from unstructured.ingest.interfaces import PartitionConfig, ProcessorConfig, ReadConfig\n",
        "from unstructured.ingest.runner import GithubRunner"
      ],
      "metadata": {
        "id": "jVxZI-5EuCYI"
      },
      "execution_count": 12,
      "outputs": []
    },
    {
      "cell_type": "markdown",
      "source": [
        "## Clarifai and Github imports"
      ],
      "metadata": {
        "id": "QCPbc8KFAGr1"
      }
    },
    {
      "cell_type": "code",
      "source": [
        "import os\n",
        "from unstructured.ingest.interfaces import (\n",
        "    PartitionConfig,\n",
        "    ProcessorConfig,\n",
        "    ChunkingConfig,\n",
        "    ReadConfig,\n",
        ")\n",
        "\n",
        "from unstructured.ingest.connector.clarifai import (\n",
        "    ClarifaiAccessConfig,\n",
        "    ClarifaiWriteConfig,\n",
        "    SimpleClarifaiConfig,\n",
        ")\n",
        "\n",
        "from unstructured.ingest.runner.writers.base_writer import Writer\n",
        "from unstructured.ingest.runner.writers.clarifai import (\n",
        "    ClarifaiWriter,\n",
        ")"
      ],
      "metadata": {
        "id": "t8G_ONxWuLDN"
      },
      "execution_count": 13,
      "outputs": []
    },
    {
      "cell_type": "markdown",
      "source": [
        "## Clarifai_writer func which will configure the target clarifai app where the ingested documents will be loaded with initialising clarifai PAT as `api_key`"
      ],
      "metadata": {
        "id": "P5Jskd-V1PGS"
      }
    },
    {
      "cell_type": "code",
      "source": [
        "def clarifai_writer() -> Writer:\n",
        "    return ClarifaiWriter(\n",
        "        connector_config=SimpleClarifaiConfig(\n",
        "            access_config=ClarifaiAccessConfig(\n",
        "                api_key= \"CLARIFAI_PAT\"\n",
        "            ),\n",
        "            app_id= \"YOUR_APP_NAME\",\n",
        "            user_id= \"YOUR_USER_NAME\"\n",
        "            ),\n",
        "        write_config=ClarifaiWriteConfig()\n",
        "    )"
      ],
      "metadata": {
        "id": "32whBy_puaEs"
      },
      "execution_count": 19,
      "outputs": []
    },
    {
      "cell_type": "markdown",
      "source": [
        "## Let's now package the writer and runner together, make sure you have your S3 bucket URI ready."
      ],
      "metadata": {
        "id": "GABTXfWJ1pZr"
      }
    },
    {
      "cell_type": "code",
      "source": [
        "if __name__ == \"__main__\":\n",
        "    writer = clarifai_writer()\n",
        "    runner = GithubRunner(\n",
        "        processor_config=ProcessorConfig(\n",
        "            verbose=True,\n",
        "            output_dir=\"github-ingest-output-local-folder\",\n",
        "            num_processes=2,\n",
        "        ),\n",
        "        read_config=ReadConfig(),\n",
        "        partition_config=PartitionConfig(),\n",
        "        connector_config=SimpleGitHubConfig(\n",
        "            url=repo,branch=\"BRANCH_NAME\", access_config=GitAccessConfig(token)\n",
        "        ),\n",
        "        writer=writer,\n",
        "        writer_kwargs={},\n",
        "    )\n",
        "\n",
        "    runner.run()"
      ],
      "metadata": {
        "id": "32eJrsPSubk4"
      },
      "execution_count": null,
      "outputs": []
    },
    {
      "cell_type": "markdown",
      "source": [
        "## Let's Chat with our ingested github docs in less than 4 lines of code."
      ],
      "metadata": {
        "id": "zyR7WsNCpdSl"
      }
    },
    {
      "cell_type": "code",
      "source": [
        "import os\n",
        "#Replace your PAT\n",
        "os.environ['CLARIFAI_PAT'] = \"YOUR_CLARIFAI_PAT\""
      ],
      "metadata": {
        "id": "pmHj68AXnjTw"
      },
      "execution_count": 23,
      "outputs": []
    },
    {
      "cell_type": "code",
      "source": [
        "from clarifai.rag import RAG\n",
        "rag_agent = RAG.setup(app_url=\"YOUR CLARIFAI APP URL\",\n",
        "                      llm_url = \"https://clarifai.com/mistralai/completion/models/mistral-large\")"
      ],
      "metadata": {
        "id": "TIN9irU7njO1"
      },
      "execution_count": null,
      "outputs": []
    },
    {
      "cell_type": "markdown",
      "source": [
        "### Start chatting with your ingested data."
      ],
      "metadata": {
        "id": "y6OTGjEQv5YY"
      }
    },
    {
      "cell_type": "code",
      "source": [
        "result=rag_agent.chat(messages=[{\"role\":\"human\", \"content\":\"how to upload dataset using clarifai\"}])\n",
        "(result[0][\"content\"].split('\\n'))"
      ],
      "metadata": {
        "id": "67MtQgf_ITwl"
      },
      "execution_count": null,
      "outputs": []
    },
    {
      "cell_type": "code",
      "source": [],
      "metadata": {
        "id": "a-Q8LIchp5TJ"
      },
      "execution_count": null,
      "outputs": []
    }
  ]
}