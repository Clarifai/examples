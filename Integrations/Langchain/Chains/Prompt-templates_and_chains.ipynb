{
 "cells": [
  {
   "cell_type": "markdown",
   "metadata": {},
   "source": [
    "<td>\n",
    "   <a target=\"_blank\" href=\"https://www.clarifai.com/\" ><img src=\"https://upload.wikimedia.org/wikipedia/commons/b/bc/Clarifai_Logo_FC_Web.png\" width=256/></a>\n",
    "</td>"
   ]
  },
  {
   "cell_type": "markdown",
   "metadata": {},
   "source": [
    "<td>\n",
    "<a href=\"https://colab.research.google.com/github/Clarifai/examples/blob/main/Integrations/Langchain/Chains/Prompt-templates_and_chains.ipynb\" target=\"_blank\"><img\n",
    "src=\"https://colab.research.google.com/assets/colab-badge.svg\" alt=\"Colab\"></a>\n",
    "</td>"
   ]
  },
  {
   "cell_type": "markdown",
   "metadata": {
    "id": "AY3ab1Yq-1EI"
   },
   "source": [
    "# Prompt templates and chains"
   ]
  },
  {
   "cell_type": "markdown",
   "metadata": {
    "id": "Rg81v0eVSf2M"
   },
   "source": [
    "## Introduction"
   ]
  },
  {
   "cell_type": "markdown",
   "metadata": {
    "id": "PGUa6zanWH7O"
   },
   "source": [
    "- Notebook to showcase different frameworks of langchain with clarifai models and and SDK functions."
   ]
  },
  {
   "cell_type": "markdown",
   "metadata": {
    "id": "i3TjXR3OSnSo"
   },
   "source": [
    "Install clarifai and langchain packages."
   ]
  },
  {
   "cell_type": "code",
   "execution_count": null,
   "metadata": {
    "colab": {
     "base_uri": "https://localhost:8080/",
     "height": 1000
    },
    "id": "BHU6G1zWJcVv",
    "outputId": "84dd5e25-ccd9-4578-eb7b-96ceb8e07261"
   },
   "outputs": [],
   "source": [
    "!pip install langchain\n",
    "!pip install clarifai"
   ]
  },
  {
   "cell_type": "markdown",
   "metadata": {
    "id": "0rTZ8BXB_Dg6"
   },
   "source": [
    "You can use several language models from [clarifai](https://clarifai.com/explore/models?filterData=%5B%7B%22field%22%3A%22use_cases%22%2C%22value%22%3A%5B%22llm%22%5D%7D%5D&page=1&perPage=24) platform. Sign up and get your [PAT](https://clarifai.com/settings/security) to access it."
   ]
  },
  {
   "cell_type": "code",
   "execution_count": null,
   "metadata": {
    "id": "m0AkR0Qbyoxo"
   },
   "outputs": [],
   "source": [
    "# use model URL\n",
    "MODEL_URL=\"https://clarifai.com/mistralai/completion/models/mistral-7B-OpenOrca\"\n",
    "\n",
    "                     #or\n",
    "\n",
    "# Use model parameters, change user_id, app_id and model_id to use different models from the clarifai platform.\n",
    "USER_ID = \"mistralai\"\n",
    "APP_ID = \"completion\"\n",
    "MODEL_ID = \"mistral-7B-OpenOrca\""
   ]
  },
  {
   "cell_type": "markdown",
   "metadata": {
    "id": "NQNroPZP_YPM"
   },
   "source": [
    "For the example we are using ***mistral-7B-OpenOrca*** model.\n",
    "\n",
    "## **mistral-7B-OpenOrca**\n",
    "This [mistral-7B-OpenOrca](https://clarifai.com/mistralai/completion/models/mistral-7B-OpenOrca) release is a finetune of Mistral-7B base model. It claims to achieve 98% of the eval performance of Llama2-70B.\n",
    "\n"
   ]
  },
  {
   "cell_type": "code",
   "execution_count": null,
   "metadata": {
    "id": "uL5roGk-MbQW"
   },
   "outputs": [],
   "source": [
    "import os\n",
    "os.environ[\"CLARIFAI_PAT\"]=\"YOUR_CLARIFAI_PAT\""
   ]
  },
  {
   "cell_type": "markdown",
   "metadata": {},
   "source": [
    "set_debug(True)"
   ]
  },
  {
   "cell_type": "code",
   "execution_count": null,
   "metadata": {},
   "outputs": [],
   "source": [
    "from langchain.globals import set_debug\n",
    "set_debug(True)"
   ]
  },
  {
   "cell_type": "markdown",
   "metadata": {},
   "source": [
    "Setting the global debug flag will cause all LangChain components with callback support (chains, models, agents, tools, retrievers) to print the inputs they receive and outputs they generate."
   ]
  },
  {
   "cell_type": "markdown",
   "metadata": {
    "id": "7j8bdBI8Sr_E"
   },
   "source": [
    "Initialize Clarifai llm class from langchain"
   ]
  },
  {
   "cell_type": "code",
   "execution_count": null,
   "metadata": {
    "id": "Jn5wSIigKWy-"
   },
   "outputs": [],
   "source": [
    "from langchain.llms import Clarifai\n",
    "llm=Clarifai(user_id=USER_ID, app_id=APP_ID, model_id=MODEL_ID)"
   ]
  },
  {
   "cell_type": "markdown",
   "metadata": {
    "id": "Jq8xDwu7czLo"
   },
   "source": [
    "##**Prompt template examples**"
   ]
  },
  {
   "cell_type": "markdown",
   "metadata": {
    "id": "wtWWHPD690aD"
   },
   "source": [
    "Prompt template gives basic instructions to the model along with the prompt to language model. It is vital to have proper prompt template in the pipeline of AI apps to obtain desirable responses in certain format which is ready to be used in the workflow."
   ]
  },
  {
   "cell_type": "code",
   "execution_count": null,
   "metadata": {
    "id": "RKB0EVayJMHU"
   },
   "outputs": [],
   "source": [
    "#basic structure and creation of prompt template\n",
    "\n",
    "from langchain import PromptTemplate\n",
    "from langchain.chains import LLMChain\n",
    "\n",
    "template = \"\"\"Answer cleanly and precisely for the question based on the context below. If the\n",
    "question cannot be answered using the context provided answer\n",
    "with \"I don't know\".\n",
    "\n",
    "Context: The CVT is an automatic transmission that uses two pulleys with a steel belt running between them.\n",
    "To continuously vary its gear ratios, the CVT simultaneously adjusts the diameter of the \"drive pulley\" that transmits torque from the engine and the \"driven pulley\" that transfers torque to the wheels.\n",
    "With stepless shifting of gear ratios, the CVT can avoid the shift-shock and deliver smooth driving, making it an exceptional transmission solution.\n",
    "The variable-diameter pulleys are the heart of a CVT. Each pulley is made of two 20-degree cones facing each other.\n",
    "A belt rides in the groove between the two cones. V-belts are preferred if the belt is made of rubber.\n",
    "V-belts get their name from the fact that the belts bear a V-shaped cross section, which increases the frictional grip of the belt.\n",
    "\n",
    "Question: {query}\n",
    "\n",
    "Answer: \"\"\"\n",
    "\n",
    "prompt_template = PromptTemplate(\n",
    "    input_variables=[\"query\"],\n",
    "    template=template\n",
    ")"
   ]
  },
  {
   "cell_type": "code",
   "execution_count": null,
   "metadata": {
    "colab": {
     "base_uri": "https://localhost:8080/"
    },
    "id": "bM8sySeBMdyh",
    "outputId": "48dc39ee-c98b-49fb-9676-8fbd95c4df51"
   },
   "outputs": [
    {
     "name": "stdout",
     "output_type": "stream",
     "text": [
      "Belts get their name in CVT from the fact that the belts bear a V-shaped cross section, which increases the frictional grip of the belt. They are referred to as V-belts.\n"
     ]
    }
   ],
   "source": [
    "print(llm(\n",
    "    prompt_template.format(\n",
    "        query=\"How belts gets their name in CVT?\"\n",
    "    )\n",
    "))"
   ]
  },
  {
   "cell_type": "markdown",
   "metadata": {
    "id": "tfHwfO84-Mn5"
   },
   "source": [
    "Let's build some cool prompt templates which can be used for several use cases."
   ]
  },
  {
   "cell_type": "code",
   "execution_count": null,
   "metadata": {
    "id": "ITYCZflZNAjl"
   },
   "outputs": [],
   "source": [
    "python_developer_template=\"\"\"\n",
    "Role : You are an advanced AI with a deep understanding of Python programming.\\\n",
    "You are tasked to write a clean, precise, and reusable Python code for the following requirement\\\n",
    "Import only needed packages and use it wherever it is needed, don't use random functions which is not defined in the code.\\\n",
    "The code should be error-free and without any syntax errors, with a strong emphasis on efficiency.\\\n",
    "Return the coding block as output and it should also follow best practices for Python coding.\\\n",
    "\n",
    "User_query= {query}\n",
    " \"\"\"\n",
    "\n",
    "python_unit_test_template=\"\"\"\n",
    "Role : You are an advanced AI with a deep understanding of Python programming.\\\n",
    "Import only needed packages and use it wherever it is needed, don't use random functions which is not defined in the code.\\\n",
    "The code should be error-free and without any syntax errors, with a strong emphasis on efficiency.\\\n",
    "Return only the coding block as output and It should also follow pytest best practices for Python coding.\\\n",
    "\n",
    "User_query= {query}\n",
    "\"\"\""
   ]
  },
  {
   "cell_type": "code",
   "execution_count": null,
   "metadata": {
    "id": "91ibczz1TGoH"
   },
   "outputs": [],
   "source": [
    "python_dev_prompt_template = PromptTemplate(\n",
    "    input_variables=[\"query\"],\n",
    "    template=python_developer_template\n",
    ")\n",
    "\n",
    "llm_chain = LLMChain(prompt=prompt_template, llm=llm)"
   ]
  },
  {
   "cell_type": "code",
   "execution_count": null,
   "metadata": {
    "colab": {
     "base_uri": "https://localhost:8080/",
     "height": 141
    },
    "id": "Ol0BbON_V6N8",
    "outputId": "71faf179-d28b-4f6a-bd29-86b35da1f174"
   },
   "outputs": [
    {
     "data": {
      "application/vnd.google.colaboratory.intrinsic+json": {
       "type": "string"
      },
      "text/plain": [
       "\"Here is a simple Python program using the Z-score method to detect outliers in a dataframe consisting of numeric variables. This program assumes that you are using pandas and numpy libraries.\\n\\n```python\\nimport pandas as pd\\nimport numpy as np\\n\\ndef detect_outliers(df):\\n    outlier_indices = []\\n    for col in df.columns:\\n        if df[col].dtype.kind in 'biufc':\\n            Q1 = df[col].quantile(0.25)\\n            Q3 = df[col].quantile(0.75)\\n            IQR = Q3 - Q1\\n            outlier_step = 1.5 * IQR\\n            outlier_list_col = df[(df[col] < Q1 - outlier_step) | (df[col] > Q3 + outlier_step)].index\\n            outlier_indices.extend(outlier_list_col)\\n    outlier_indices = Counter(outlier_indices)\\n    multiple_outliers = list(k for k, v in outlier_indices.items() if v > 1)\\n    return multiple_outliers\\n\\n# Assuming df is your DataFrame\\noutliers = detect_outliers(df)\\n```\\n\\nPlease replace 'df' with your actual dataframe and make sure that pandas and numpy libraries are imported. This program will return the indices of all rows in your dataframe that contain outliers.\""
      ]
     },
     "execution_count": 37,
     "metadata": {},
     "output_type": "execute_result"
    }
   ],
   "source": [
    "query=\"Write a python program to to detect outliers in given dataframe consists of numeric variables\"\n",
    "\n",
    "llm_chain.run(query)"
   ]
  },
  {
   "cell_type": "markdown",
   "metadata": {
    "id": "RmdifrTq_yS2"
   },
   "source": [
    "## **Chains**\n",
    "\n",
    "While using a language model (LLM) on its own is good for simple tasks, tackling more complex applications often requires connecting multiple LLMs either with each other or with different parts of the system.\n",
    "\n",
    "LangChain provides various chains frameworks for connecting these components. Explore about various [Chains](https://python.langchain.com/docs/modules/chains/) in langchain and also it provides different ways to encompass [memory](https://python.langchain.com/docs/modules/memory/) into the chain which will add additional capabilities to your AI apps."
   ]
  },
  {
   "cell_type": "markdown",
   "metadata": {
    "id": "LTqzH1wp_2SM"
   },
   "source": [
    "### **Simple Chain with prompt template**\n",
    "\n",
    "Below is the method to implement a simplechain with used to generate response based on prompt templates and user's query."
   ]
  },
  {
   "cell_type": "code",
   "execution_count": null,
   "metadata": {
    "id": "kVqPfcRkWSqf"
   },
   "outputs": [],
   "source": [
    "python_ut_prompt_template = PromptTemplate(\n",
    "    input_variables=[\"query\"],\n",
    "    template=python_unit_test_template\n",
    ")\n",
    "\n",
    "llm_chain = LLMChain(prompt=prompt_template, llm=llm)"
   ]
  },
  {
   "cell_type": "code",
   "execution_count": null,
   "metadata": {
    "colab": {
     "base_uri": "https://localhost:8080/",
     "height": 141
    },
    "id": "uKZ-mzUHaA0I",
    "outputId": "4b54140e-4120-446f-95a9-f2d96350ae95"
   },
   "outputs": [
    {
     "data": {
      "application/vnd.google.colaboratory.intrinsic+json": {
       "type": "string"
      },
      "text/plain": [
       "\"Sure, here is a simple Python unit test program for a function that detects outliers from a user-provided dataframe that consists of numeric variables. We will use the Z-score method for outlier detection. Please replace `dataframe` with your actual DataFrame name.\\n\\n```python\\nimport pandas as pd\\nimport numpy as np\\nimport unittest\\nfrom scipy import stats\\n\\ndef detect_outliers(df):\\n    numeric_cols = df.select_dtypes(include=[np.number]).columns\\n    outliers = {}\\n    for col in numeric_cols:\\n        z_scores = np.abs(stats.zscore(df[col]))\\n        outliers[col] = np.where(z_scores > 3)[0]\\n    return outliers\\n\\nclass TestOutlierDetection(unittest.TestCase):\\n\\n    def setUp(self):\\n        self.df = pd.DataFrame({\\n            'A': [1, 2, 3, 4, 5, 6, 7, 8, 9, 100],\\n            'B': [10, 11, 12, 13, 14, 15, 16, 17, 18, 300],\\n            'C': [20, 21, 22, 23, 24, 25, 26, 27, 28, 500]\\n        })\\n\\n    def test_detect_outliers(self):\\n        result = detect_outliers(self.df)\\n        self.assertEqual(result, {'A': [9], 'B': [9], 'C': [9]})\\n\\nif __name__ == '__main__':\\n    unittest.main()\\n```\\n\\nIn this program, the `detect_outliers` function goes through each numeric column in the given DataFrame and calculates the Z-scores for each value in the column. It then identifies the indices of values where the Z-score is greater than 3, which is a common threshold for identifying outliers.\\n\\nThe `TestOutlierDetection` class includes a setup method that creates a sample DataFrame with three columns A, B, and C, each of which has an outlier at the last index. The `test_detect_outliers` method tests the `detect_outliers` function with the sample DataFrame and asserts that the function correctly identifies the outliers.\""
      ]
     },
     "execution_count": 23,
     "metadata": {},
     "output_type": "execute_result"
    }
   ],
   "source": [
    "query=\"Write a python unit test program for a function which detects outliers from the user given dataframe consists of numeric variables\"\n",
    "\n",
    "llm_chain.run(query)"
   ]
  },
  {
   "cell_type": "markdown",
   "metadata": {
    "id": "UDeEjjBbkXH9"
   },
   "source": [
    "### **Sequential Chain**\n"
   ]
  },
  {
   "cell_type": "markdown",
   "metadata": {
    "id": "M1OUtwmJ-eBL"
   },
   "source": [
    "Chains are the important features of langchain which allows you to chain and package various stages of your AI responses with models and build a pipeline which allows you to generate desirable outcomes."
   ]
  },
  {
   "cell_type": "code",
   "execution_count": null,
   "metadata": {
    "id": "jf-iPTbNaKDI"
   },
   "outputs": [],
   "source": [
    "from langchain.chains import SequentialChain\n",
    "from langchain import PromptTemplate\n",
    "from langchain.schema import StrOutputParser"
   ]
  },
  {
   "cell_type": "markdown",
   "metadata": {
    "id": "uQ4q0ATvAa4I"
   },
   "source": [
    "Our idea here is to build a Sequential chain which generates a python code at stage 1 according to user query and pass it to next stage which fine tunes it to make it compliant with python typing annotations and further we are extending it to generate a unit test code for our use case mentioned in stage 1."
   ]
  },
  {
   "cell_type": "markdown",
   "metadata": {
    "id": "4uBdHkCWVLbM"
   },
   "source": [
    "**Python developer template**"
   ]
  },
  {
   "cell_type": "code",
   "execution_count": null,
   "metadata": {
    "id": "EtOWgOvhkhV7"
   },
   "outputs": [],
   "source": [
    "#promt template 1 : with python_developer_template\n",
    "python_developer_template=PromptTemplate.from_template(\"\"\"\n",
    "Role : You are an advanced AI with a deep understanding of Python programming.\\\n",
    "You are tasked to write a clean, precise, and reusable Python code for the following requirement\\\n",
    "Import only needed packages and use it wherever it is needed, don't use random functions which is not defined in the code.\\\n",
    "The code should be error-free and without any syntax errors, with a strong emphasis on efficiency.\\\n",
    "Return the coding block as output and it should also follow best practices for Python coding.\\\n",
    "\n",
    "Input : {query}\n",
    " \"\"\"\n",
    ")\n",
    "\n",
    "first_chain = LLMChain(llm=llm, prompt=python_developer_template,\n",
    "                     output_key=\"python_code\"\n",
    "                    )\n",
    "\n"
   ]
  },
  {
   "cell_type": "markdown",
   "metadata": {
    "id": "tEhKYkcWVOq4"
   },
   "source": [
    "**Python typing and lint check**"
   ]
  },
  {
   "cell_type": "code",
   "execution_count": null,
   "metadata": {
    "id": "1dcAOFg-ojRp"
   },
   "outputs": [],
   "source": [
    "#prompt template 2 : checking code with type annotation\n",
    "\n",
    "python_type_lint_check_template= PromptTemplate.from_template( \"\"\"\n",
    "You are an AI model with a deep understanding of Python programming, Python type annotations, and linting standards. Your task is to review the following Python code:\n",
    "Please identify any issues related to type annotations and linting in the given code.\\\n",
    "Then, generate a revised version of the code that is clean, precise, and free of any lint issues.\\\n",
    " The revised code should also follow best practices for Python type annotations and linting.\\\n",
    "Remember, the goal is to enhance code readability, maintainability, and efficiency.\\\n",
    "\n",
    "Input = {python_code}\n",
    "\n",
    "\"\"\"\n",
    ")\n",
    "\n",
    "second_chain=LLMChain(llm=llm, prompt=python_type_lint_check_template,\n",
    "                     output_key=\"formatted_code\"\n",
    "                    )\n"
   ]
  },
  {
   "cell_type": "markdown",
   "metadata": {
    "id": "RaVj4NXbVRdd"
   },
   "source": [
    "**Python unit test writing template**"
   ]
  },
  {
   "cell_type": "code",
   "execution_count": null,
   "metadata": {
    "id": "NTw1dTLRUMOv"
   },
   "outputs": [],
   "source": [
    "#promt template 3 : with python_unit_testing_template\n",
    "\n",
    "python_unit_test_template = PromptTemplate.from_template(\"\"\"\n",
    "Role : You are an advanced AI with a deep understanding of Python programming.\\\n",
    "Import only needed packages and use it wherever it is needed, don't use random functions which is not defined in the code.\\\n",
    "The code should be error-free and without any syntax errors, with a strong emphasis on efficiency.\\\n",
    "Return only the coding block as output and It should also follow pytest best practices for Python coding.\\\n",
    "Generate unit test for the below function:\\\n",
    "\n",
    "Input : {python_code}\n",
    "\"\"\"\n",
    ")\n",
    "third_chain = LLMChain(llm=llm, prompt=python_unit_test_template,\n",
    "                     output_key=\"unit_code\"\n",
    "                    )"
   ]
  },
  {
   "cell_type": "markdown",
   "metadata": {
    "id": "aDIB6gmb9UMZ"
   },
   "source": [
    "Creating a sequential chain to perform actions based on stages"
   ]
  },
  {
   "cell_type": "code",
   "execution_count": null,
   "metadata": {
    "id": "MdXSbiVZmgEh"
   },
   "outputs": [],
   "source": [
    "final_chain=SequentialChain(\n",
    "    chains=[first_chain,second_chain,third_chain],\n",
    "    input_variables=[\"query\"],\n",
    "    output_variables=[\"python_code\",\"formatted_code\",\"unit_code\"],\n",
    "    verbose=False\n",
    ")"
   ]
  },
  {
   "cell_type": "code",
   "execution_count": null,
   "metadata": {
    "id": "PrIiQ0av8LBU"
   },
   "outputs": [],
   "source": [
    "#sanitize function to retrieve just the python code which is executable.\n",
    "def _sanitize_output(text: str):\n",
    "    _, after = text.split(\"```python\")\n",
    "    return after.split(\"```\")[0]"
   ]
  },
  {
   "cell_type": "markdown",
   "metadata": {
    "id": "OFGlGTOR9k1W"
   },
   "source": [
    "Let's test our code pipeline,\n",
    "so the flow would be from\n",
    "\n",
    "***python_developer_template -> python_type_lint_check_template -> python_unit_test_template***"
   ]
  },
  {
   "cell_type": "code",
   "execution_count": null,
   "metadata": {
    "colab": {
     "background_save": true
    },
    "id": "74ofeO3qm9Bd"
   },
   "outputs": [],
   "source": [
    "r=final_chain(\"Write a python program to to detect outliers in given dataframe consists of numeric variables\")"
   ]
  },
  {
   "cell_type": "code",
   "execution_count": null,
   "metadata": {
    "colab": {
     "base_uri": "https://localhost:8080/"
    },
    "id": "NvNB6hj776aQ",
    "outputId": "c0dd74f8-82d2-4a16-c5f0-395c2e8204a7"
   },
   "outputs": [
    {
     "name": "stdout",
     "output_type": "stream",
     "text": [
      "\n",
      "import pandas as pd\n",
      "import numpy as np\n",
      "\n",
      "def detect_outliers(df):\n",
      "    # Calculate the Z-score of each value in the dataframe, this gives us a measure of how far away each value is from the mean\n",
      "    z_scores = np.abs((df - df.mean()) / df.std())\n",
      "\n",
      "    # Define a threshold to identify an outlier\n",
      "    threshold = 3\n",
      "\n",
      "    # Identify outliers\n",
      "    outliers = df[(z_scores > threshold).any(axis=1)]\n",
      "    \n",
      "    return outliers\n",
      "\n",
      "# Test the function\n",
      "df = pd.DataFrame(np.random.randn(100, 3), columns=['A', 'B', 'C'])\n",
      "\n",
      "outliers = detect_outliers(df)\n",
      "\n",
      "print(outliers)\n",
      "\n",
      "#################################\n",
      "\n",
      "import pandas as pd\n",
      "import numpy as np\n",
      "from pandas import DataFrame\n",
      "\n",
      "def detect_outliers(df: DataFrame) -> DataFrame:\n",
      "    \"\"\"\n",
      "    Detects outliers in a given DataFrame by using the Z-Score method.\n",
      "\n",
      "    Parameters:\n",
      "    df (DataFrame): The input DataFrame.\n",
      "\n",
      "    Returns:\n",
      "    DataFrame: A DataFrame that only contains the outliers.\n",
      "    \"\"\"\n",
      "    # Calculate the Z-score of each value in the dataframe,\n",
      "    # this gives us a measure of how far away each value is from the mean\n",
      "    z_scores = np.abs((df - df.mean()) / df.std())\n",
      "\n",
      "    # Define a threshold to identify an outlier\n",
      "    threshold = 3\n",
      "\n",
      "    # Identify outliers\n",
      "    outliers = df[(z_scores > threshold).any(axis=1)]\n",
      "    \n",
      "    return outliers\n",
      "\n",
      "# Test the function\n",
      "df = pd.DataFrame(np.random.randn(100, 3), columns=['A', 'B', 'C'])\n",
      "\n",
      "outliers = detect_outliers(df)\n",
      "\n",
      "print(outliers)\n",
      "\n",
      "#################################\n",
      "\n",
      "import pandas as pd\n",
      "import numpy as np\n",
      "import pytest\n",
      "\n",
      "def detect_outliers(df):\n",
      "    z_scores = np.abs((df - df.mean()) / df.std())\n",
      "    threshold = 3\n",
      "    outliers = df[(z_scores > threshold).any(axis=1)]\n",
      "    return outliers\n",
      "\n",
      "def test_detect_outliers():\n",
      "    # Create a DataFrame for testing\n",
      "    df = pd.DataFrame({\n",
      "        'A': [1, 2, 3, 4, 5, 1000],\n",
      "        'B': [1, 2, 3, 4, 5, 1000],\n",
      "        'C': [1, 2, 3, 4, 5, 1000]\n",
      "    })\n",
      "    \n",
      "    # Call the function with the test DataFrame\n",
      "    outliers = detect_outliers(df)\n",
      "    \n",
      "    # Assert that the function returns the correct number of outliers\n",
      "    assert len(outliers) == 1, \"The number of outliers is not correct\"\n",
      "    \n",
      "    # Assert that the function correctly identifies the outliers\n",
      "    assert outliers.iloc[0][\"A\"] == 1000, \"The function did not correctly identify the outlier in column A\"\n",
      "    assert outliers.iloc[0][\"B\"] == 1000, \"The function did not correctly identify the outlier in column B\"\n",
      "    assert outliers.iloc[0][\"C\"] == 1000, \"The function did not correctly identify the outlier in column C\"\n",
      "\n",
      "# Run the test\n",
      "pytest.main([\"-v\", \"-s\", \"test_outliers.py\"])\n",
      "\n"
     ]
    }
   ],
   "source": [
    "print(_sanitize_output(r['python_code']))\n",
    "print(\"#################################\")\n",
    "print(_sanitize_output(r['formatted_code']))\n",
    "print(\"#################################\")\n",
    "print(_sanitize_output(r['unit_code']))\n",
    "\n"
   ]
  },
  {
   "cell_type": "markdown",
   "metadata": {
    "id": "N71iLW4khBJm"
   },
   "source": [
    "###**Sequential Chains with Memory**"
   ]
  },
  {
   "cell_type": "markdown",
   "metadata": {
    "id": "KqtTyypwVbiK"
   },
   "source": [
    "Implementation of SimpleMemory in Sequential chain\n",
    "In this example we are going to see how we can use simple memory to store some context of information, which needs to be passed at a certain stage of our chain, eliminating the need to pass it on to every stage in prompt, which in turns affect our token size."
   ]
  },
  {
   "cell_type": "code",
   "execution_count": null,
   "metadata": {
    "id": "HgPkyz3RxHqB"
   },
   "outputs": [],
   "source": [
    "from langchain.chains import SequentialChain\n",
    "from langchain.memory import SimpleMemory\n",
    "\n",
    "\n",
    "vision_prompt_instruction=PromptTemplate.from_template(\"\"\"You are a veteran content writer and advisor who's skillfull at drafting catchy vision statement and product roadmap for new products and features.\\\n",
    "Be a super cool assistant and help suggesting a vision and roadmap for below context which brainstorms the market needs,\\\n",
    "researches similar products and giving a catchy, consice and compelling vision statement.\\\n",
    "\n",
    "Topic :{context}\n",
    "\n",
    "\"\"\"\n",
    ")\n",
    "\n",
    "vision_chain=LLMChain(llm=llm, prompt=vision_prompt_instruction, output_key=\"visionmap\")\n",
    "\n",
    "\n",
    "translate_prompt_instruction =PromptTemplate.from_template(\"\"\"You are expert in spanish and content writing, now your role is to translate the given visionmap into spanish.\\\n",
    "Make sure the contents are translated appropriately and sounds formal in spanish, with introducing some local terms familiar to spanish people as well.\\\n",
    "\n",
    "translate :{visionmap} \"\"\")\n",
    "\n",
    "translate_chain=LLMChain(llm=llm, prompt=translate_prompt_instruction, output_key=\"translated_post\")\n",
    "\n",
    "\n",
    "marketer_instruct= PromptTemplate.from_template(\"\"\"You are a marketing superstar, who's skillfull at promoting products with top-notch blogs and posts\\\n",
    "Be a super cool assistant and help creating blog post for below context which brainstorms the market need and introduces product in uber cool way\\\n",
    "Include a call to action and promote the blog with social media links {twitterlink}{discordlink}\n",
    "\n",
    "Blog context :{visionmap}\"\"\")\n",
    "\n",
    "marketer_chain=LLMChain(llm=llm, prompt=marketer_instruct, output_key=\"blog_post\")\n",
    "\n"
   ]
  },
  {
   "cell_type": "markdown",
   "metadata": {
    "id": "4gBfC9X5_mSX"
   },
   "source": [
    "Here we are storing the links in the memory, which is used at the final level of chain and it is passed directly there, without need to pass it as context in every stage. Hence using a simple memory in our AI apps would impact on the tokens.\n"
   ]
  },
  {
   "cell_type": "code",
   "execution_count": null,
   "metadata": {
    "id": "B-RR_GqURqF1"
   },
   "outputs": [],
   "source": [
    "chained=SequentialChain(\n",
    "    memory=SimpleMemory(\n",
    "        memories=({\"twitterlink\": \"https://twitter.com/my_company\",\"discordlink\":\"https://discord.com/channels/my_channel\"})\n",
    "    ),\n",
    "    chains=[vision_chain, translate_chain, marketer_chain],\n",
    "    input_variables=[\"context\"],\n",
    "    # Here we return multiple variables\n",
    "    output_variables=[\"visionmap\",\"translated_post\",\"blog_post\"],\n",
    "    verbose=True,\n",
    ")"
   ]
  },
  {
   "cell_type": "code",
   "execution_count": null,
   "metadata": {
    "colab": {
     "base_uri": "https://localhost:8080/"
    },
    "id": "t78r7LPjU8E2",
    "outputId": "52e890b4-52bf-4d6e-9c6e-3b4247689ac5"
   },
   "outputs": [
    {
     "name": "stdout",
     "output_type": "stream",
     "text": [
      "\n",
      "\n",
      "\u001b[1m> Entering new SequentialChain chain...\u001b[0m\n",
      "\n",
      "\u001b[1m> Finished chain.\u001b[0m\n"
     ]
    },
    {
     "data": {
      "text/plain": [
       "{'context': 'We are going to launch of new product smartwatch called JARVIS which is AI assisted and does all the inference locally built-in and can replace your smartphone. ',\n",
       " 'twitterlink': 'https://twitter.com/my_company',\n",
       " 'discordlink': 'https://discord.com/channels/my_channel',\n",
       " 'visionmap': 'Vision Statement:\\n\\n\"Revolutionizing personal technology by integrating AI into our daily lives with JARVIS, the smartwatch that thinks locally and acts globally. We envision a world where the power of a smartphone is accessible at your wrist, providing seamless and secure access to your digital world, anytime, anywhere.\"\\n\\nProduct Roadmap:\\n\\n1. **Market Research & Analysis (Q1)**: Comprehensive study of the current market, understanding the needs of potential users, and analyzing the strengths and weaknesses of competing products. \\n\\n2. **Product Design & Development (Q2-Q3)**: Designing the smartwatch with an emphasis on user-friendly interface, advanced AI capabilities, local inference, and high-end technology that replaces your smartphone. \\n\\n3. **Prototype Testing (Q4)**: Developing a prototype for internal and external testing, gathering feedback for improvements, and ensuring the product meets the highest quality standards.\\n\\n4. **Product Refinement (Q1 of next year)**: Refining the product based on feedback, enhancing AI capabilities, and ensuring seamless integration with various platforms.\\n\\n5. **Production & Quality Assurance (Q2 of next year)**: Mass production of the smartwatch, ensuring each unit passes rigorous quality checks, and meets our promise of delivering the power of a smartphone on your wrist.\\n\\n6. **Launch & Marketing (Q3 of next year)**: Official launch of JARVIS, the smartwatch that revolutionizes personal technology. This will be accompanied by a comprehensive marketing campaign to create awareness and excitement in the market.\\n\\n7. **Post-Launch Support & Updates (Q4 of next year and beyond)**: Providing excellent customer support, regular software updates, and continuously improving JARVIS based on user feedback and technological advancements. \\n\\nOur roadmap is set to not just launch a new product, but to create a shift in the way we perceive and use technology in our daily lives. With JARVIS, we are bringing the future to your wrist.',\n",
       " 'translated_post': 'Declaración de Visión:\\n\\n\"Revolucionando la tecnología personal integrando la IA en nuestra vida cotidiana con JARVIS, el reloj inteligente que piensa localmente y actúa globalmente. Envisionamos un mundo donde el poder de un smartphone está accesible en tu muñeca, proporcionando acceso sin fisuras y seguro a tu mundo digital, en cualquier momento, en cualquier lugar.\"\\n\\nMapa de Producto:\\n\\n1. **Investigación de Mercado & Análisis (1er Trimestre)**: Estudio exhaustivo del mercado actual, entendiendo las necesidades de los usuarios potenciales, y analizando las fortalezas y debilidades de los productos competidores.\\n\\n2. **Diseño de Producto & Desarrollo (2do-3er Trimestre)**: Diseño del reloj inteligente con énfasis en una interfaz amigable para el usuario, capacidades avanzadas de IA, inferencia local y tecnología de alta gama que reemplaza a tu smartphone.\\n\\n3. **Pruebas de Prototipo (4to Trimestre)**: Desarrollo de un prototipo para pruebas internas y externas, recogiendo comentarios para mejoras, y asegurando que el producto cumple con los más altos estándares de calidad.\\n\\n4. **Refinamiento de Producto (1er Trimestre del próximo año)**: Refinamiento del producto basado en comentarios, mejorando las capacidades de IA, y asegurando una integración sin fisuras con varias plataformas.\\n\\n5. **Producción & Aseguramiento de Calidad (2do Trimestre del próximo año)**: Producción en masa del reloj inteligente, asegurando que cada unidad pase rigurosos controles de calidad, y cumpla nuestra promesa de entregar el poder de un smartphone en tu muñeca.\\n\\n6. **Lanzamiento & Marketing (3er Trimestre del próximo año)**: Lanzamiento oficial de JARVIS, el reloj inteligente que revoluciona la tecnología personal. Esto estará acompañado por una campaña de marketing integral para crear conciencia y emoción en el mercado.\\n\\n7. **Soporte Post-Lanzamiento & Actualizaciones (4to Trimestre del próximo año y más allá)**: Proporcionando excelente soporte al cliente, actualizaciones regulares de software, y mejorando continuamente JARVIS basado en comentarios de los usuarios y avances tecnológicos.\\n\\nNuestro mapa de ruta está configurado para no solo lanzar un nuevo producto, sino para crear un cambio en la forma en que percibimos y usamos la tecnología en nuestra vida cotidiana. Con JARVIS, estamos trayendo el futuro a tu muñeca.',\n",
       " 'blog_post': 'Title: **\"JARVIS: Revolutionizing Personal Technology - From Your Smartphone to Your Wrist\"**\\n\\nIn the era of rapid technological advancements, it\\'s not about keeping up anymore. It\\'s about leaping forward. And that\\'s exactly what we aim to do with JARVIS, our latest innovation that\\'s set to redefine the boundaries of personal technology. \\n\\nImagine having the world at your fingertips, quite literally. Picture a day when your smartwatch isn\\'t just a fancy gadget, but your personal assistant, your digital diary, and your gateway to the world. Welcome to our vision - a world where AI blends seamlessly into our daily lives, and your wrist becomes the hub of your digital world.\\n\\nTo make this vision a reality, we\\'ve embarked on an ambitious journey. Our roadmap isn\\'t just about creating a product, but about revolutionizing how we perceive and use technology.\\n\\n**Phase 1 (Q1): Market Research & Analysis** - We\\'re diving deep into the needs of our potential users and examining the strengths and weaknesses of existing products. We believe in creating something that adds value, not just something new.\\n\\n**Phase 2 (Q2-Q3): Product Design & Development** - We\\'re designing JARVIS to be user-friendly, powerful, and incredibly smart. The focus is on local inference, superior AI capabilities, and a design that\\'s so sleek, it\\'ll make heads turn.\\n\\n**Phase 3 (Q4): Prototype Testing** - We\\'re all about quality, and that\\'s why we\\'re putting JARVIS through rigorous testing. We want to gather feedback and make sure we\\'re delivering a product that meets the highest quality standards.\\n\\n**Phase 4 (Q1 of next year): Product Refinement** - Your feedback matters. We\\'ll refine JARVIS based on the feedback, enhancing its AI capabilities and ensuring seamless integration with various platforms.\\n\\n**Phase 5 (Q2 of next year): Production & Quality Assurance** - We\\'re ramping up to bring JARVIS to you. Each unit will pass stringent quality checks because we believe in delivering only the best.\\n\\n**Phase 6 (Q3 of next year): Launch & Marketing** - Get ready for the grand launch of JARVIS, the smartwatch that\\'s set to revolutionize personal technology. Stay tuned for our exciting marketing campaign.\\n\\n**Phase 7 (Q4 of next year and beyond): Post-Launch Support & Updates** - Our responsibility doesn\\'t end at selling a product. We\\'ll provide excellent customer support, regular software updates, and continuous improvements based on your feedback and the latest in tech.\\n\\nWith JARVIS, we\\'re not just launching a new product, we\\'re creating a shift in the way we perceive and use technology. We\\'re bringing the future to your wrist. Are you ready to embrace it?\\n\\n**Join the revolution!** Stay updated on our journey by following us on [Twitter](https://twitter.com/my_company) and joining our [Discord channel](https://discord.com/channels/my_channel). Be part of the community that\\'s shaping the future of personal technology.\\n\\nDon\\'t forget to share this blog with your tech-loving friends. Let\\'s make the future happen, together!'}"
      ]
     },
     "execution_count": 11,
     "metadata": {},
     "output_type": "execute_result"
    }
   ],
   "source": [
    "chained(\"We are going to launch of new product smartwatch called JARVIS which is AI assisted and does all the inference locally built-in and can replace your smartphone. \")"
   ]
  },
  {
   "cell_type": "markdown",
   "metadata": {
    "id": "0iADIZetrgL5"
   },
   "source": [
    "### **LoadSummarize chain with Clarifai vectorstore**"
   ]
  },
  {
   "cell_type": "markdown",
   "metadata": {
    "id": "6I9cGqlVjsdI"
   },
   "source": [
    "***What is LoadSummarize chain ?***\n",
    "\n",
    "Assume that you are searching related to a context in your RAG chatbot which has certain information documents stored as chunks in the clarifai vectorstore.\n",
    "To inspect the search results based on the retrieval, we can use the Loadsummarize chain which summarize the contents of all the retrieved chunks and gives you a good info about the particular context you are searching for.\n"
   ]
  },
  {
   "cell_type": "code",
   "execution_count": null,
   "metadata": {
    "id": "DF3ZwwXprlh-"
   },
   "outputs": [],
   "source": [
    "from langchain import OpenAI, PromptTemplate, LLMChain\n",
    "from langchain.text_splitter import CharacterTextSplitter\n",
    "from langchain.chains.mapreduce import MapReduceChain\n",
    "from langchain.prompts import PromptTemplate\n",
    "from langchain.docstore.document import Document\n",
    "\n"
   ]
  },
  {
   "cell_type": "markdown",
   "metadata": {
    "id": "T5bktVqnkJUo"
   },
   "source": [
    "Ingesting a documents into clarifai vectorstore DB."
   ]
  },
  {
   "cell_type": "code",
   "execution_count": null,
   "metadata": {
    "id": "vBQRBVfBY7eZ"
   },
   "outputs": [],
   "source": [
    "loader = TextLoader(\"../Data/history2.txt\")\n",
    "documents = loader.load()\n",
    "text_splitter = CharacterTextSplitter(chunk_size=1000, chunk_overlap=50)\n",
    "docs = text_splitter.split_documents(documents)"
   ]
  },
  {
   "cell_type": "markdown",
   "metadata": {
    "id": "zHgL5HhRTA8X"
   },
   "source": [
    "Initializing clarifai Vector DB"
   ]
  },
  {
   "cell_type": "code",
   "execution_count": null,
   "metadata": {
    "id": "fLwbFri7Y9Yy"
   },
   "outputs": [],
   "source": [
    "clarifai_vector_db = Clarifai.from_documents(\n",
    "    user_id=\"user_id\",\n",
    "    app_id= \"app_id\",\n",
    "    documents=docs,\n",
    "    pat=\"YOUR_CLARIFAI_PAT\",\n",
    "    number_of_docs=3,\n",
    ")"
   ]
  },
  {
   "cell_type": "markdown",
   "metadata": {
    "id": "2ObWt_rskQAW"
   },
   "source": [
    "Search for similar docs with the keywords or texts you want."
   ]
  },
  {
   "cell_type": "code",
   "execution_count": null,
   "metadata": {
    "id": "Sx5FD7Zhcx0X"
   },
   "outputs": [],
   "source": [
    "retrieved_docs= clarifai_vector_db.similarity_search(\"civilization\")\n"
   ]
  },
  {
   "cell_type": "markdown",
   "metadata": {
    "id": "NRlVMPa5kXRt"
   },
   "source": [
    "Using the map_reduce chain type we are summarising the output chunks."
   ]
  },
  {
   "cell_type": "code",
   "execution_count": null,
   "metadata": {
    "colab": {
     "base_uri": "https://localhost:8080/"
    },
    "id": "xcGUWrP-ZJLk",
    "outputId": "7f52fc81-80f7-4072-c075-db101b3b0cf3"
   },
   "outputs": [
    {
     "data": {
      "text/plain": [
       "{'input_documents': [Document(page_content='A WAR FOR INTERNATIONAL FREEDOM\\n\\n25', metadata={'source': '/content/history2.txt'}),\n",
       "  Document(page_content='A WAR FOR INTERNATIONAL FREEDOM\\n\\n25', metadata={'source': '/content/history2.txt'}),\n",
       "  Document(page_content=\"Abundant materials out of our fields and our mines and our factories with which not\\nonly to clothe and equip our own forces on land and sea but also to clothe and support\\nour people for whom the gallant fellows under arms can no longer work, to help clothe\\nand equip the armies with which we are co-operating in Europe, and to keep the looms\\nand manufactories there in raw material;\\nCoal to keep the fires going in ships at sea and in the furnaces of hundreds of\\nfactories across the sea;\\nSteel out of which to make arms and ammunition both here and there;\\nRails for worn-out railways back of the fighting fronts;\\nLocomotives and rolling stock to take the place of those every day going to pieces;\\nEverything with which the people of England and France and Italy and Russia have\\nusually supplied themselves, but cannot now afford the men, the materials, or the\\nmachinery to make.\\nI particularly appeal to the farmers of the South to plant abundant foodstuffs as well\\nas cotton. They can show their patriotism in no better or more convincing way than by\\nresisting the great temptation of the present price of cotton and helping, helping upon a\\nlarge scale, to feed the nation and the peoples everywhere who are fighting for their\\nliberties and for our own. The variety of their crops will be the visible measure of their\\ncomprehension of their national duty.\\nThe response was amazing in its enthusiastic and general compliance. No autocracy\\nissuing a ukase could have been obeyed so explicitly. Not only did the various classes of\\nworkers and individuals observe the President's suggestions to the letter, but they yielded\\nup individual right after right in order that the war work of the government might be\\nexpedited. Extraordinary powers and functions were granted by the people through\\nCongress, and it was not until peace was declared that these rights and powers returned\\nto the people.\\nThese governmental activities ceased functioning after the war:\\nFood administration;\\nFuel administration;\\nEspionage act;\\nWar trade board;\\nAlien property custodian (with extension of time for certain duties);\\nAgricultural stimulation;\\nHousing construction (except for shipbuilders);\\nControl of telegraphs and telephones;\\nExport control.\", metadata={'source': '/content/history2.txt'})],\n",
       " 'output_text': 'The text discusses a war for international freedom, emphasizing the use of abundant resources from fields, mines, and factories to support military and civilian needs. Southern farmers patriotically shifted from cotton to food production to aid the nation and allies. Post-war, several government operations like food and fuel administration, espionage act, war trade board, and others ceased.'}"
      ]
     },
     "execution_count": 94,
     "metadata": {},
     "output_type": "execute_result"
    }
   ],
   "source": [
    "from langchain.chains.summarize import load_summarize_chain\n",
    "chain = load_summarize_chain(llm, chain_type=\"map_reduce\")\n",
    "chain(retrieved_docs)"
   ]
  },
  {
   "cell_type": "markdown",
   "metadata": {
    "id": "dA1cLuYsDVBh"
   },
   "source": [
    "Summarized the contents from all the retrieved chunks for the given search context with from clarifai vectorstore."
   ]
  },
  {
   "cell_type": "markdown",
   "metadata": {},
   "source": [
    "## Clarifai Resources\n",
    "\n",
    "**Website**: [https://www.clarifai.com](https://www.clarifai.com/)\n",
    "\n",
    "**Demo**: [https://clarifai.com/demo](https://clarifai.com/demo)\n",
    "\n",
    "**Sign up for a free Account**: [https://clarifai.com/signup](https://clarifai.com/signup)\n",
    "\n",
    "**Developer Guide**: [https://docs.clarifai.com](https://docs.clarifai.com/)\n",
    "\n",
    "**Clarifai Community**: [https://clarifai.com/explore](https://clarifai.com/explore)\n",
    "\n",
    "**Python SDK Docs**: [https://docs.clarifai.com/python-sdk/api-reference](https://docs.clarifai.com/python-sdk/api-reference)\n",
    "\n",
    "---"
   ]
  }
 ],
 "metadata": {
  "colab": {
   "provenance": [],
   "toc_visible": true
  },
  "kernelspec": {
   "display_name": "Python 3 (ipykernel)",
   "language": "python",
   "name": "python3"
  },
  "language_info": {
   "codemirror_mode": {
    "name": "ipython",
    "version": 3
   },
   "file_extension": ".py",
   "mimetype": "text/x-python",
   "name": "python",
   "nbconvert_exporter": "python",
   "pygments_lexer": "ipython3",
   "version": "3.9.10"
  }
 },
 "nbformat": 4,
 "nbformat_minor": 1
}
