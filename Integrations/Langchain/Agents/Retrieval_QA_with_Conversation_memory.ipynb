{
 "cells": [
  {
   "cell_type": "markdown",
   "metadata": {},
   "source": [
    "<td>\n",
    "   <a target=\"_blank\" href=\"https://www.clarifai.com/\" ><img src=\"https://upload.wikimedia.org/wikipedia/commons/b/bc/Clarifai_Logo_FC_Web.png\" width=256/></a>\n",
    "</td>"
   ]
  },
  {
   "cell_type": "markdown",
   "metadata": {},
   "source": [
    "<td>\n",
    "<a href=\"https://colab.research.google.com/github/Clarifai/examples/blob/main/Integrations/Langchain/Agents/Retrieval_QA_with_Conversation_memory.ipynb\" target=\"_blank\"><img\n",
    "src=\"https://colab.research.google.com/assets/colab-badge.svg\" alt=\"Colab\"></a>\n",
    "</td>"
   ]
  },
  {
   "cell_type": "markdown",
   "metadata": {
    "id": "qTlx_Nhr4nrV"
   },
   "source": [
    "# Retrieval QA using Clarifai Vectorstore with Conversation memory.\n",
    "\n",
    "The notebook walks you through the high level concept and idea to build a chatbot Doc Q/A in using clarifai as vectorstore and langchain's conversationbuffermemory. This enables the user to have a context of recent chat history in buffer as well as helping the user to query about document stored in the DB."
   ]
  },
  {
   "cell_type": "markdown",
   "metadata": {
    "id": "KqjkG_y794nk"
   },
   "source": [
    "### Setup"
   ]
  },
  {
   "cell_type": "code",
   "execution_count": null,
   "metadata": {
    "colab": {
     "base_uri": "https://localhost:8080/",
     "height": 1000
    },
    "id": "I7ERa_Fn7s32",
    "outputId": "70326ae7-0252-4bd9-9d59-0f8118fc49e6"
   },
   "outputs": [],
   "source": [
    "#install necessary packages\n",
    "!pip install langchain\n",
    "!pip install clarifai"
   ]
  },
  {
   "cell_type": "markdown",
   "metadata": {},
   "source": [
    "Initialize your PAT key as environment variable."
   ]
  },
  {
   "cell_type": "code",
   "execution_count": null,
   "metadata": {
    "id": "AaVMNyGtKo8y"
   },
   "outputs": [],
   "source": [
    "#Note we also have an option to pass the PAT key directly while calling the classes, so user can either intialize it as env variable or arguments.\n",
    "import os\n",
    "os.environ[\"CLARIFAI_PAT\"]=\"YOUR_CLARIFAI_PAT\""
   ]
  },
  {
   "cell_type": "markdown",
   "metadata": {},
   "source": [
    "*Note: Guide to get your [PAT](https://docs.clarifai.com/clarifai-basics/authentication/personal-access-tokens)*"
   ]
  },
  {
   "cell_type": "markdown",
   "metadata": {
    "id": "QlFdWlqEK4bS"
   },
   "source": [
    "### Import necessary libraries."
   ]
  },
  {
   "cell_type": "code",
   "execution_count": 3,
   "metadata": {
    "id": "pXQm3c7EynoT"
   },
   "outputs": [],
   "source": [
    "from langchain.text_splitter import CharacterTextSplitter\n",
    "from langchain.document_loaders import TextLoader\n",
    "from langchain.vectorstores import Clarifai as Clarifaivectorstore\n",
    "from langchain.llms import Clarifai as Clarifaillm\n",
    "from langchain.chains.conversation.memory import ConversationBufferWindowMemory\n",
    "from langchain.chains import RetrievalQA"
   ]
  },
  {
   "cell_type": "markdown",
   "metadata": {
    "id": "TG2QjuRNKCam"
   },
   "source": [
    "### Preparing Docs for ingestion into our vectorstore."
   ]
  },
  {
   "cell_type": "code",
   "execution_count": null,
   "metadata": {
    "id": "6ohZlmy5J-8b"
   },
   "outputs": [],
   "source": [
    "loader = TextLoader(\"../Data/rule_book.txt\")\n",
    "documents = loader.load()\n",
    "text_splitter = CharacterTextSplitter(chunk_size=1000, chunk_overlap=0)\n",
    "docs = text_splitter.split_documents(documents)"
   ]
  },
  {
   "cell_type": "markdown",
   "metadata": {
    "id": "Xlpn6TFhSUwN"
   },
   "source": [
    "Initialize the Clarifai Vector DB using your PAT, app id and user id. You can give any number of docs for the Top K document retrieval value."
   ]
  },
  {
   "cell_type": "code",
   "execution_count": null,
   "metadata": {
    "id": "8iN5xY9v8ak4"
   },
   "outputs": [],
   "source": [
    "clarifai_vector_db = Clarifaivectorstore.from_documents(\n",
    "    user_id=\"user_name\",\n",
    "    app_id= \"app_name\",\n",
    "    documents=docs,\n",
    "    number_of_docs=3,\n",
    "    pat=\"YOUR_CLARIFAI_PAT\"\n",
    ")"
   ]
  },
  {
   "cell_type": "markdown",
   "metadata": {
    "id": "LcLQMKRTSlOL"
   },
   "source": [
    "### Initialize a llm model through clarifaiLLM class.\n",
    "- We are creating a langchain's conversationalbuffer memory and a retrieal QA chain.\n",
    "- So basically the retrieval QA chain acts as an agent here and fetches the document when the query is related to contents from document.\n",
    "\n",
    "https://python.langchain.com/docs/integrations/llms/clarifai"
   ]
  },
  {
   "cell_type": "markdown",
   "metadata": {},
   "source": [
    "You can use several language models from [clarifai](https://clarifai.com/explore/models?filterData=%5B%7B%22field%22%3A%22use_cases%22%2C%22value%22%3A%5B%22llm%22%5D%7D%5D&page=1&perPage=24) platform."
   ]
  },
  {
   "cell_type": "code",
   "execution_count": null,
   "metadata": {
    "id": "-zrrOqdf5FyZ"
   },
   "outputs": [],
   "source": [
    "MODEL_URL = \"https://clarifai.com/openai/chat-completion/models/GPT-4\"\n",
    "\n",
    "llm=Clarifaillm(model_url=MODEL_URL)"
   ]
  },
  {
   "cell_type": "markdown",
   "metadata": {},
   "source": [
    "### ConversationBufferWindowMemory\n",
    "\n",
    "- ConversationBufferWindowMemory keeps a list of the interactions of the conversation over time. **It only uses the last K interactions.**\n",
    "- This can be useful for keeping a sliding window of the most recent interactions, so the buffer does not get too large.\n",
    "\n",
    "To know more on ConversationBufferWindowMemory: https://python.langchain.com/docs/modules/memory/types/buffer_window"
   ]
  },
  {
   "cell_type": "markdown",
   "metadata": {
    "id": "pPmZtUM8TTgV"
   },
   "source": [
    "The **K we are using here sets the bufferwindow for chat memory**, whereas the no_of_documents we set in the previous stage in clarifaivectorstore is to retrieve top_k docs based on the query from vectorDB.\n"
   ]
  },
  {
   "cell_type": "code",
   "execution_count": null,
   "metadata": {
    "id": "7C0pZTQ6TR13"
   },
   "outputs": [],
   "source": [
    "conversational_memory = ConversationBufferWindowMemory(\n",
    "    memory_key='chat_history',\n",
    "    k=3,\n",
    "    return_messages=True\n",
    ")\n",
    "\n",
    "retrieve_chain = RetrievalQA.from_chain_type(\n",
    "    llm=llm,\n",
    "    chain_type=\"stuff\",\n",
    "    retriever=clarifai_vector_db.as_retriever()\n",
    ")"
   ]
  },
  {
   "cell_type": "markdown",
   "metadata": {
    "id": "empD-oz6Tjii"
   },
   "source": [
    "Testing whether our Retrieval QA chain is working perfectly."
   ]
  },
  {
   "cell_type": "code",
   "execution_count": null,
   "metadata": {
    "colab": {
     "base_uri": "https://localhost:8080/",
     "height": 124
    },
    "id": "GGVn-38s5MDV",
    "outputId": "cab11a19-7f00-4953-8657-9fac3cdf2479"
   },
   "outputs": [
    {
     "data": {
      "application/vnd.google.colaboratory.intrinsic+json": {
       "type": "string"
      },
      "text/plain": [
       "'Automobile classes have been segregated with respect to engines as follows:\\n\\n1. F1 Grand Prix cars with 3L aspirated engines built from 1970 to 1972. This class is further divided into cars equipped with a Ford-Cosworth DFV Engine and those equipped with other engines.\\n\\n2. F1 Grand Prix cars with 3L aspirated engines built from 1973 to 1976. This class is also divided into cars equipped with a Ford-Cosworth DFV Engine and those equipped with other engines.\\n\\n3. F1 Grand Prix cars with 3L aspirated engines built from 1977 to 1980. This class is divided into cars designed not to exploit the ground effect, cars designed to exploit the ground effect equipped with a Ford-Cosworth DFV engine, and cars designed to exploit the ground effect equipped with other engines.\\n\\n4. Cars equipped with a Ford-Cosworth DFV engine.\\n\\n5. F1 Grand Prix cars 3L aspirated built from 1981 to 1985.\\n\\n6. Cars equipped with other engines.\\n\\nAdditionally, there is a Special Invitation Class for any Formula One cars or any other cars considered of Special Historical interest to the Organization or Promoters of any of the races, or particular benefit to the Organization.'"
      ]
     },
     "execution_count": 32,
     "metadata": {},
     "output_type": "execute_result"
    }
   ],
   "source": [
    "retrieve_chain.run(\"How automobile classes has been segregated with respect to engines?\")"
   ]
  },
  {
   "cell_type": "markdown",
   "metadata": {
    "id": "r7gFHVp8Trw1"
   },
   "source": [
    "## Clarifai Vectorstore as Tool\n",
    "Now the task is to make this retrieval QA chain into something like a chatbot which also provides a conversational experience with previous messages contexts.\n",
    "\n",
    "https://python.langchain.com/docs/integrations/vectorstores/clarifai"
   ]
  },
  {
   "cell_type": "code",
   "execution_count": null,
   "metadata": {
    "id": "1YVkqVOn9KH7"
   },
   "outputs": [],
   "source": [
    "#initialize an Tool with our clarifaivectorstore as retrieval agent.\n",
    "from langchain.agents import Tool\n",
    "\n",
    "tools = [\n",
    "    Tool(\n",
    "        name='Guide document',\n",
    "        func=retrieve_chain.run,\n",
    "        description=(\n",
    "            'use this tool when answering about automobile related queries especially related to F1-70s rulebook chnages to get '\n",
    "            'more information about the topic'\n",
    "        )\n",
    "    )\n",
    "]"
   ]
  },
  {
   "cell_type": "markdown",
   "metadata": {},
   "source": [
    "# Agents\n",
    "\n",
    "The core idea of agents is to use a language model to choose a sequence of actions to take. In agents, a language model is used as a reasoning engine to determine which actions to take and in which order.\n",
    "\n",
    "\n",
    "More on Agents: https://python.langchain.com/docs/modules/agents/"
   ]
  },
  {
   "cell_type": "markdown",
   "metadata": {},
   "source": [
    "## Conversational Agent\n",
    "\n",
    "- This agent is designed to be used in conversational settings. \n",
    "- The prompt is designed to make the agent helpful and conversational. \n",
    "- It uses the ReAct framework to decide which tool to use, and uses memory to remember the previous conversation interactions.\n",
    "\n",
    "Refer: https://python.langchain.com/docs/modules/agents/agent_types/chat_conversation_agent"
   ]
  },
  {
   "cell_type": "markdown",
   "metadata": {},
   "source": [
    "To put all pieces together, we are building a chatbot with a conversational_memory as well a retrieval agent which fetches relevant docs to chat with."
   ]
  },
  {
   "cell_type": "code",
   "execution_count": null,
   "metadata": {
    "id": "0GDOYpNO-Neg"
   },
   "outputs": [],
   "source": [
    "from langchain.agents import initialize_agent\n",
    "\n",
    "chat_agent = initialize_agent(\n",
    "    agent='chat-conversational-react-description',\n",
    "    tools=tools,\n",
    "    llm=llm,\n",
    "    verbose=True,\n",
    "    early_stopping_method='generate',\n",
    "    handle_parsing_errors=True,\n",
    "    memory=conversational_memory\n",
    ")"
   ]
  },
  {
   "cell_type": "markdown",
   "metadata": {
    "id": "datF3e4BUgjk"
   },
   "source": [
    "## Observations\n",
    "Now we execute the some queries to understand the functionality and usage of this agent."
   ]
  },
  {
   "cell_type": "code",
   "execution_count": null,
   "metadata": {
    "colab": {
     "base_uri": "https://localhost:8080/",
     "height": 663
    },
    "id": "5JE7Xcx--SI2",
    "outputId": "2f4e78bd-cf2a-4634-e7c3-7c77d1ec8b28"
   },
   "outputs": [
    {
     "name": "stdout",
     "output_type": "stream",
     "text": [
      "\n",
      "\n",
      "\u001b[1m> Entering new AgentExecutor chain...\u001b[0m\n",
      "\u001b[32;1m\u001b[1;3m```json\n",
      "{\n",
      "    \"action\": \"Guide document\",\n",
      "    \"action_input\": \"Automobile classes and engine segregation\"\n",
      "}\n",
      "```\u001b[0m\n",
      "Observation: \u001b[36;1m\u001b[1;3mThe automobile classes and engine segregation mentioned in the text can be summarized as follows:\n",
      "\n",
      "1. F1 Grand Prix cars with a 3L aspirated engine built from 1977 to 1980. These are further divided into:\n",
      "   - Cars designed not to exploit the ground effect.\n",
      "   - Cars designed to exploit the ground effect, equipped with a Ford-Cosworth DFV engine.\n",
      "   - Cars designed to exploit the ground effect, equipped with other engines.\n",
      "\n",
      "2. Cars equipped with a Ford-Cosworth DFV engine. \n",
      "\n",
      "3. F1 Grand Prix cars with a 3L aspirated engine built from 1981 to 1985. \n",
      "\n",
      "4. Cars equipped with other engines. \n",
      "\n",
      "5. Class Special Invitation: This class is for any Formula One cars or any other cars considered by the Organization to be of Special Historical interest to the Organization or Promoters of any of the races, or of particular benefit to the Organization.\u001b[0m\n",
      "Thought:\u001b[32;1m\u001b[1;3m```json\n",
      "{\n",
      "    \"action\": \"Final Answer\",\n",
      "    \"action_input\": \"The segregation of automobile classes with respect to engines, as per the information obtained, can be detailed as follows: \\n\\n1. F1 Grand Prix cars with a 3L aspirated engine built from 1977 to 1980 are divided into: \\n   - Cars not designed to exploit the ground effect. \\n   - Cars designed to exploit the ground effect, equipped with a Ford-Cosworth DFV engine. \\n   - Cars designed to exploit the ground effect, equipped with other engines. \\n\\n2. There's a class for cars equipped with a Ford-Cosworth DFV engine. \\n\\n3. Another class is for F1 Grand Prix cars with a 3L aspirated engine built from 1981 to 1985. \\n\\n4. There's also a class for cars equipped with other engines. \\n\\n5. The 'Class Special Invitation' is for any Formula One cars or any other cars considered to be of Special Historical interest to the Organization or Promoters of any of the races, or of particular benefit to the Organization.\"\n",
      "}\n",
      "```\u001b[0m\n",
      "\n",
      "\u001b[1m> Finished chain.\u001b[0m\n"
     ]
    },
    {
     "data": {
      "application/vnd.google.colaboratory.intrinsic+json": {
       "type": "string"
      },
      "text/plain": [
       "\"The segregation of automobile classes with respect to engines, as per the information obtained, can be detailed as follows: \\n\\n1. F1 Grand Prix cars with a 3L aspirated engine built from 1977 to 1980 are divided into: \\n   - Cars not designed to exploit the ground effect. \\n   - Cars designed to exploit the ground effect, equipped with a Ford-Cosworth DFV engine. \\n   - Cars designed to exploit the ground effect, equipped with other engines. \\n\\n2. There's a class for cars equipped with a Ford-Cosworth DFV engine. \\n\\n3. Another class is for F1 Grand Prix cars with a 3L aspirated engine built from 1981 to 1985. \\n\\n4. There's also a class for cars equipped with other engines. \\n\\n5. The 'Class Special Invitation' is for any Formula One cars or any other cars considered to be of Special Historical interest to the Organization or Promoters of any of the races, or of particular benefit to the Organization.\""
      ]
     },
     "execution_count": 38,
     "metadata": {},
     "output_type": "execute_result"
    }
   ],
   "source": [
    "chat_agent.run(\"How automobile classes has been segregated with respect to engines?\")"
   ]
  },
  {
   "cell_type": "markdown",
   "metadata": {
    "id": "GNwaE6rfUtk-"
   },
   "source": [
    "#### ***So when we re-instructed the bot to perform similar task without any context it can able to digest it and produce the results as expected.***"
   ]
  },
  {
   "cell_type": "code",
   "execution_count": null,
   "metadata": {
    "colab": {
     "base_uri": "https://localhost:8080/",
     "height": 455
    },
    "id": "_uG-U7qYeZW0",
    "outputId": "3d3fe481-67cf-4b6f-f712-37ffd9558a3e"
   },
   "outputs": [
    {
     "name": "stdout",
     "output_type": "stream",
     "text": [
      "\n",
      "\n",
      "\u001b[1m> Entering new AgentExecutor chain...\u001b[0m\n",
      "\u001b[32;1m\u001b[1;3m```json\n",
      "{\n",
      "    \"action\": \"Final Answer\",\n",
      "    \"action_input\": \"Automobile classes, especially in the context of Formula 1 racing, are typically segregated based on engine specifications and design characteristics. Here's a brief summary:\n",
      "\n",
      "1. Class for F1 Grand Prix cars (1977-1980) not designed to exploit the ground effect.\n",
      "2. Class for F1 Grand Prix cars (1977-1980) designed to exploit the ground effect, equipped with a Ford-Cosworth DFV engine.\n",
      "3. Class for F1 Grand Prix cars (1977-1980) designed to exploit the ground effect, equipped with other engines.\n",
      "4. Class for cars equipped with a Ford-Cosworth DFV engine.\n",
      "5. Class for F1 Grand Prix cars (1981-1985).\n",
      "6. Class for cars equipped with other engines.\n",
      "7. Special Invitation Class: reserved for any Formula One cars or any other cars considered to be of Special Historical interest or of particular benefit to the Organization.\"\n",
      "}\n",
      "```\u001b[0m\n",
      "\n",
      "\u001b[1m> Finished chain.\u001b[0m\n"
     ]
    },
    {
     "data": {
      "application/vnd.google.colaboratory.intrinsic+json": {
       "type": "string"
      },
      "text/plain": [
       "\"Automobile classes, especially in the context of Formula 1 racing, are typically segregated based on engine specifications and design characteristics. Here's a brief summary:\\n\\n1. Class for F1 Grand Prix cars (1977-1980) not designed to exploit the ground effect.\\n2. Class for F1 Grand Prix cars (1977-1980) designed to exploit the ground effect, equipped with a Ford-Cosworth DFV engine.\\n3. Class for F1 Grand Prix cars (1977-1980) designed to exploit the ground effect, equipped with other engines.\\n4. Class for cars equipped with a Ford-Cosworth DFV engine.\\n5. Class for F1 Grand Prix cars (1981-1985).\\n6. Class for cars equipped with other engines.\\n7. Special Invitation Class: reserved for any Formula One cars or any other cars considered to be of Special Historical interest or of particular benefit to the Organization.\""
      ]
     },
     "execution_count": 39,
     "metadata": {},
     "output_type": "execute_result"
    }
   ],
   "source": [
    "chat_agent.run(\"Just summarize the classes\")"
   ]
  },
  {
   "cell_type": "code",
   "execution_count": null,
   "metadata": {
    "colab": {
     "base_uri": "https://localhost:8080/",
     "height": 526
    },
    "id": "TGOt9GBECMa5",
    "outputId": "d7f0a321-4350-4881-efa1-8fd8b7e187dd"
   },
   "outputs": [
    {
     "name": "stdout",
     "output_type": "stream",
     "text": [
      "\n",
      "\n",
      "\u001b[1m> Entering new AgentExecutor chain...\u001b[0m\n",
      "\u001b[32;1m\u001b[1;3m```json\n",
      "{\n",
      "    \"action\": \"Guide document\",\n",
      "    \"action_input\": \"summarize the new rules from the document\"\n",
      "}\n",
      "```\u001b[0m\n",
      "Observation: \u001b[36;1m\u001b[1;3mThe document outlines rules related to protests, appeals, and safety and discipline in a race event. Protests must be written and submitted within 30 minutes after the provisional classification, and they require a fee. The exact fee amount will be stated in an Event Bulletin. However, appeals cannot be made against decisions concerning several items, including a Drive Through Penalty, a Timed Stop & Go Penalty, any Time Penalty, decisions taken by the Stewards in relation to Article 23.4.2, penalties under Article 27.7 or Article 30.2, and decisions made by timekeepers and other Judges of Fact. \n",
      "\n",
      "In terms of general safety and discipline, the Clerk of the Course can request additional formation laps if conditions require. If additional laps are necessary, the start is considered to have been given at the end of the first formation lap. The document also suggests there are specific cases in which a variation in the start procedure is allowed, but these cases aren't specified in the provided context.\u001b[0m\n",
      "Thought:\u001b[32;1m\u001b[1;3m```json\n",
      "{\n",
      "    \"action\": \"Final Answer\",\n",
      "    \"action_input\": \"The document you referenced outlines rules related to protests, appeals, and safety and discipline in race events. Protests must be written and submitted within 30 minutes following the provisional classification, and they require a fee, the amount of which will be stated in an Event Bulletin. However, appeals cannot be made against decisions concerning several items, including a Drive Through Penalty, a Timed Stop & Go Penalty, any Time Penalty, decisions taken by the Stewards in relation to certain articles, penalties under specific articles, and decisions made by timekeepers and other Judges of Fact. \n",
      "\n",
      "In terms of general safety and discipline, the Clerk of the Course can request additional formation laps if conditions require. If additional laps are necessary, the start is considered to have been given at the end of the first formation lap. The document also suggests there are specific cases in which a variation in the start procedure is allowed, but these cases aren't specified in the obtained information.\"\n",
      "}\n",
      "```\u001b[0m\n",
      "\n",
      "\u001b[1m> Finished chain.\u001b[0m\n"
     ]
    },
    {
     "data": {
      "application/vnd.google.colaboratory.intrinsic+json": {
       "type": "string"
      },
      "text/plain": [
       "\"The document you referenced outlines rules related to protests, appeals, and safety and discipline in race events. Protests must be written and submitted within 30 minutes following the provisional classification, and they require a fee, the amount of which will be stated in an Event Bulletin. However, appeals cannot be made against decisions concerning several items, including a Drive Through Penalty, a Timed Stop & Go Penalty, any Time Penalty, decisions taken by the Stewards in relation to certain articles, penalties under specific articles, and decisions made by timekeepers and other Judges of Fact. \\n\\nIn terms of general safety and discipline, the Clerk of the Course can request additional formation laps if conditions require. If additional laps are necessary, the start is considered to have been given at the end of the first formation lap. The document also suggests there are specific cases in which a variation in the start procedure is allowed, but these cases aren't specified in the obtained information.\""
      ]
     },
     "execution_count": 25,
     "metadata": {},
     "output_type": "execute_result"
    }
   ],
   "source": [
    "chat_agent.run(\"summarize the new rules from the document\")"
   ]
  },
  {
   "cell_type": "markdown",
   "metadata": {
    "id": "nLTIWmc9U6ri"
   },
   "source": [
    "#### ***Okay, What if when we asks some random question to our agent ?.***"
   ]
  },
  {
   "cell_type": "code",
   "execution_count": null,
   "metadata": {
    "colab": {
     "base_uri": "https://localhost:8080/",
     "height": 299
    },
    "id": "hoPo83F9DCHp",
    "outputId": "fa9fcaa7-b214-4b21-e44b-3adf38588392"
   },
   "outputs": [
    {
     "name": "stdout",
     "output_type": "stream",
     "text": [
      "\n",
      "\n",
      "\u001b[1m> Entering new AgentExecutor chain...\u001b[0m\n",
      "\u001b[32;1m\u001b[1;3m```json\n",
      "{\n",
      "    \"action\": \"Final Answer\",\n",
      "    \"action_input\": \"The Big Bang Theory is a cosmological model that describes the universe's observable development from the earliest known periods through its subsequent large-scale evolution. The model describes how the universe expanded from an extremely high-density and high-temperature state, and offers a comprehensive explanation for a broad range of observed phenomena, including the abundance of light elements, the cosmic microwave background (CMB) radiation, and the large scale structure of the cosmos. The Big Bang Theory does not explain why the universe was created or what occurred before the event itself, as these questions fall into the realm of philosophy or theology.\"\n",
      "}\n",
      "```\u001b[0m\n",
      "\n",
      "\u001b[1m> Finished chain.\u001b[0m\n"
     ]
    },
    {
     "data": {
      "application/vnd.google.colaboratory.intrinsic+json": {
       "type": "string"
      },
      "text/plain": [
       "\"The Big Bang Theory is a cosmological model that describes the universe's observable development from the earliest known periods through its subsequent large-scale evolution. The model describes how the universe expanded from an extremely high-density and high-temperature state, and offers a comprehensive explanation for a broad range of observed phenomena, including the abundance of light elements, the cosmic microwave background (CMB) radiation, and the large scale structure of the cosmos. The Big Bang Theory does not explain why the universe was created or what occurred before the event itself, as these questions fall into the realm of philosophy or theology.\""
      ]
     },
     "execution_count": 27,
     "metadata": {},
     "output_type": "execute_result"
    }
   ],
   "source": [
    "chat_agent.run(\"what is story of big bang theory\")"
   ]
  },
  {
   "cell_type": "markdown",
   "metadata": {
    "id": "WgOBtSApVHUB"
   },
   "source": [
    "#### ***So in above context our agent just did a action observation by itself and found that it doesn't need the agent to answer for the query and went ahead straight to generate response for the queries.***"
   ]
  },
  {
   "cell_type": "code",
   "execution_count": null,
   "metadata": {
    "colab": {
     "base_uri": "https://localhost:8080/",
     "height": 281
    },
    "id": "1hkpHv_kDGkd",
    "outputId": "91166da9-3266-4123-e3b2-c896eef423bc"
   },
   "outputs": [
    {
     "name": "stdout",
     "output_type": "stream",
     "text": [
      "\n",
      "\n",
      "\u001b[1m> Entering new AgentExecutor chain...\u001b[0m\n",
      "\u001b[32;1m\u001b[1;3m{\n",
      "    \"action\": \"Final Answer\",\n",
      "    \"action_input\": \"The Big Bang Theory is an American television sitcom that aired from 2007 to 2019. It was created by Chuck Lorre and Bill Prady. The show is primarily centered around five characters living in Pasadena, California: Leonard Hofstadter and Sheldon Cooper, both physicists at Caltech, who share an apartment; Penny, a waitress and aspiring actress who later becomes a pharmaceutical representative and who lives across the hall; and Leonard and Sheldon's similarly geeky and socially awkward friends and co-workers, aerospace engineer Howard Wolowitz and astrophysicist Raj Koothrappali. The geekiness and intellect of the four men are contrasted for comic effect with Penny's social skills and common sense. Over time, supporting characters were promoted to starring roles, including neuroscientist Amy Farrah Fowler, microbiologist Bernadette Rostenkowski, physicist Leslie Winkle and comic book store owner Stuart Bloom.\"\n",
      "}\u001b[0m\n",
      "\n",
      "\u001b[1m> Finished chain.\u001b[0m\n"
     ]
    },
    {
     "data": {
      "application/vnd.google.colaboratory.intrinsic+json": {
       "type": "string"
      },
      "text/plain": [
       "\"The Big Bang Theory is an American television sitcom that aired from 2007 to 2019. It was created by Chuck Lorre and Bill Prady. The show is primarily centered around five characters living in Pasadena, California: Leonard Hofstadter and Sheldon Cooper, both physicists at Caltech, who share an apartment; Penny, a waitress and aspiring actress who later becomes a pharmaceutical representative and who lives across the hall; and Leonard and Sheldon's similarly geeky and socially awkward friends and co-workers, aerospace engineer Howard Wolowitz and astrophysicist Raj Koothrappali. The geekiness and intellect of the four men are contrasted for comic effect with Penny's social skills and common sense. Over time, supporting characters were promoted to starring roles, including neuroscientist Amy Farrah Fowler, microbiologist Bernadette Rostenkowski, physicist Leslie Winkle and comic book store owner Stuart Bloom.\""
      ]
     },
     "execution_count": 28,
     "metadata": {},
     "output_type": "execute_result"
    }
   ],
   "source": [
    "chat_agent.run(\"I meant the series story\")"
   ]
  },
  {
   "cell_type": "markdown",
   "metadata": {
    "id": "1-3IZzNJVlQv"
   },
   "source": [
    "#### ***So even when we re-instructed the prompt with a different query but in the same context, it was able to perceive it since we have our chat memory in conversation and produce results based on that.***"
   ]
  },
  {
   "cell_type": "markdown",
   "metadata": {},
   "source": [
    "## Clarifai Resources\n",
    "\n",
    "**Website**: [https://www.clarifai.com](https://www.clarifai.com/)\n",
    "\n",
    "**Demo**: [https://clarifai.com/demo](https://clarifai.com/demo)\n",
    "\n",
    "**Sign up for a free Account**: [https://clarifai.com/signup](https://clarifai.com/signup)\n",
    "\n",
    "**Developer Guide**: [https://docs.clarifai.com](https://docs.clarifai.com/)\n",
    "\n",
    "**Clarifai Community**: [https://clarifai.com/explore](https://clarifai.com/explore)\n",
    "\n",
    "**Python SDK Docs**: [https://docs.clarifai.com/python-sdk/api-reference](https://docs.clarifai.com/python-sdk/api-reference)\n",
    "\n",
    "---"
   ]
  }
 ],
 "metadata": {
  "colab": {
   "provenance": []
  },
  "kernelspec": {
   "display_name": "Python 3 (ipykernel)",
   "language": "python",
   "name": "python3"
  },
  "language_info": {
   "codemirror_mode": {
    "name": "ipython",
    "version": 3
   },
   "file_extension": ".py",
   "mimetype": "text/x-python",
   "name": "python",
   "nbconvert_exporter": "python",
   "pygments_lexer": "ipython3",
   "version": "3.9.10"
  }
 },
 "nbformat": 4,
 "nbformat_minor": 1
}
